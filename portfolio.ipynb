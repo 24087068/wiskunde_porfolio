{
 "cells": [
  {
   "cell_type": "code",
   "execution_count": 15,
   "id": "624c5e9fa39c923c",
   "metadata": {
    "ExecuteTime": {
     "end_time": "2025-06-06T10:57:13.804844Z",
     "start_time": "2025-06-06T10:57:13.497321Z"
    }
   },
   "outputs": [
    {
     "name": "stdout",
     "output_type": "stream",
     "text": [
      "Head of the data\n"
     ]
    },
    {
     "data": {
      "text/html": [
       "<div>\n",
       "<style scoped>\n",
       "    .dataframe tbody tr th:only-of-type {\n",
       "        vertical-align: middle;\n",
       "    }\n",
       "\n",
       "    .dataframe tbody tr th {\n",
       "        vertical-align: top;\n",
       "    }\n",
       "\n",
       "    .dataframe thead th {\n",
       "        text-align: right;\n",
       "    }\n",
       "</style>\n",
       "<table border=\"1\" class=\"dataframe\">\n",
       "  <thead>\n",
       "    <tr style=\"text-align: right;\">\n",
       "      <th></th>\n",
       "      <th>persoon_ID</th>\n",
       "      <th>geslacht</th>\n",
       "      <th>leeftijd</th>\n",
       "      <th>gewicht_KG</th>\n",
       "      <th>burgerlijke_staat</th>\n",
       "      <th>jaarsalaris_eu</th>\n",
       "      <th>huishouden_grootte</th>\n",
       "      <th>stad</th>\n",
       "      <th>provincie</th>\n",
       "      <th>opleiding_niveau</th>\n",
       "      <th>autobezit</th>\n",
       "      <th>fietsbezit</th>\n",
       "      <th>elektrisch_auto</th>\n",
       "      <th>km_auto_per_jaar</th>\n",
       "      <th>km_fiets_per_jaar</th>\n",
       "      <th>km_ov_per_jaar</th>\n",
       "      <th>km_vliegtuig_per_jaar</th>\n",
       "      <th>dagen_thuiswerken_per_week_pro_rato</th>\n",
       "      <th>dagen_kantoorwerken_per_week_pro_rato</th>\n",
       "      <th>dagen_in_buitenland_per_jaar</th>\n",
       "      <th>gebruik_carsharing</th>\n",
       "      <th>co2_uitstoot_per_jaar_KG</th>\n",
       "    </tr>\n",
       "  </thead>\n",
       "  <tbody>\n",
       "    <tr>\n",
       "      <th>0</th>\n",
       "      <td>811069</td>\n",
       "      <td>man</td>\n",
       "      <td>50</td>\n",
       "      <td>52.66</td>\n",
       "      <td>weduwe/weduwnaar</td>\n",
       "      <td>48003.64</td>\n",
       "      <td>5</td>\n",
       "      <td>Almere</td>\n",
       "      <td>Flevoland</td>\n",
       "      <td>MBO</td>\n",
       "      <td>ja</td>\n",
       "      <td>ja</td>\n",
       "      <td>nee</td>\n",
       "      <td>13266.05</td>\n",
       "      <td>2040.54</td>\n",
       "      <td>3227.95</td>\n",
       "      <td>480.71</td>\n",
       "      <td>4</td>\n",
       "      <td>1</td>\n",
       "      <td>20</td>\n",
       "      <td>Nooit</td>\n",
       "      <td>7591.93</td>\n",
       "    </tr>\n",
       "    <tr>\n",
       "      <th>1</th>\n",
       "      <td>246882</td>\n",
       "      <td>vrouw</td>\n",
       "      <td>65</td>\n",
       "      <td>64.58</td>\n",
       "      <td>samenwonend</td>\n",
       "      <td>55208.63</td>\n",
       "      <td>2</td>\n",
       "      <td>Leeuwarden</td>\n",
       "      <td>Overijssel</td>\n",
       "      <td>WO</td>\n",
       "      <td>ja</td>\n",
       "      <td>nee</td>\n",
       "      <td>nee</td>\n",
       "      <td>15229.89</td>\n",
       "      <td>0.00</td>\n",
       "      <td>2298.96</td>\n",
       "      <td>1423.34</td>\n",
       "      <td>5</td>\n",
       "      <td>0</td>\n",
       "      <td>7</td>\n",
       "      <td>Heel soms</td>\n",
       "      <td>8742.25</td>\n",
       "    </tr>\n",
       "    <tr>\n",
       "      <th>2</th>\n",
       "      <td>978385</td>\n",
       "      <td>man</td>\n",
       "      <td>49</td>\n",
       "      <td>90.87</td>\n",
       "      <td>samenwonend</td>\n",
       "      <td>29533.78</td>\n",
       "      <td>2</td>\n",
       "      <td>Tilburg</td>\n",
       "      <td>Utrecht</td>\n",
       "      <td>HBO</td>\n",
       "      <td>ja</td>\n",
       "      <td>ja</td>\n",
       "      <td>ja</td>\n",
       "      <td>19853.24</td>\n",
       "      <td>1540.46</td>\n",
       "      <td>4504.21</td>\n",
       "      <td>632.48</td>\n",
       "      <td>4</td>\n",
       "      <td>1</td>\n",
       "      <td>2</td>\n",
       "      <td>Altijd</td>\n",
       "      <td>4513.56</td>\n",
       "    </tr>\n",
       "    <tr>\n",
       "      <th>3</th>\n",
       "      <td>120468</td>\n",
       "      <td>man</td>\n",
       "      <td>34</td>\n",
       "      <td>80.43</td>\n",
       "      <td>gehuwd</td>\n",
       "      <td>44453.27</td>\n",
       "      <td>2</td>\n",
       "      <td>Maastricht</td>\n",
       "      <td>Utrecht</td>\n",
       "      <td>HBO</td>\n",
       "      <td>ja</td>\n",
       "      <td>ja</td>\n",
       "      <td>nee</td>\n",
       "      <td>9935.50</td>\n",
       "      <td>1825.92</td>\n",
       "      <td>4407.56</td>\n",
       "      <td>1266.84</td>\n",
       "      <td>3</td>\n",
       "      <td>2</td>\n",
       "      <td>21</td>\n",
       "      <td>Heel soms</td>\n",
       "      <td>6904.41</td>\n",
       "    </tr>\n",
       "    <tr>\n",
       "      <th>4</th>\n",
       "      <td>637034</td>\n",
       "      <td>man</td>\n",
       "      <td>60</td>\n",
       "      <td>72.28</td>\n",
       "      <td>ongehuwd</td>\n",
       "      <td>56497.64</td>\n",
       "      <td>2</td>\n",
       "      <td>Leiden</td>\n",
       "      <td>Gelderland</td>\n",
       "      <td>MBO</td>\n",
       "      <td>ja</td>\n",
       "      <td>ja</td>\n",
       "      <td>ja</td>\n",
       "      <td>16266.67</td>\n",
       "      <td>1851.07</td>\n",
       "      <td>1936.12</td>\n",
       "      <td>1676.00</td>\n",
       "      <td>0</td>\n",
       "      <td>5</td>\n",
       "      <td>0</td>\n",
       "      <td>Nooit</td>\n",
       "      <td>4420.80</td>\n",
       "    </tr>\n",
       "  </tbody>\n",
       "</table>\n",
       "</div>"
      ],
      "text/plain": [
       "   persoon_ID geslacht  leeftijd  gewicht_KG burgerlijke_staat  \\\n",
       "0      811069      man        50       52.66  weduwe/weduwnaar   \n",
       "1      246882    vrouw        65       64.58       samenwonend   \n",
       "2      978385      man        49       90.87       samenwonend   \n",
       "3      120468      man        34       80.43            gehuwd   \n",
       "4      637034      man        60       72.28          ongehuwd   \n",
       "\n",
       "   jaarsalaris_eu  huishouden_grootte        stad   provincie  \\\n",
       "0        48003.64                   5      Almere   Flevoland   \n",
       "1        55208.63                   2  Leeuwarden  Overijssel   \n",
       "2        29533.78                   2     Tilburg     Utrecht   \n",
       "3        44453.27                   2  Maastricht     Utrecht   \n",
       "4        56497.64                   2      Leiden  Gelderland   \n",
       "\n",
       "  opleiding_niveau autobezit fietsbezit elektrisch_auto  km_auto_per_jaar  \\\n",
       "0              MBO        ja         ja             nee          13266.05   \n",
       "1               WO        ja        nee             nee          15229.89   \n",
       "2              HBO        ja         ja              ja          19853.24   \n",
       "3              HBO        ja         ja             nee           9935.50   \n",
       "4              MBO        ja         ja              ja          16266.67   \n",
       "\n",
       "   km_fiets_per_jaar  km_ov_per_jaar  km_vliegtuig_per_jaar  \\\n",
       "0            2040.54         3227.95                 480.71   \n",
       "1               0.00         2298.96                1423.34   \n",
       "2            1540.46         4504.21                 632.48   \n",
       "3            1825.92         4407.56                1266.84   \n",
       "4            1851.07         1936.12                1676.00   \n",
       "\n",
       "   dagen_thuiswerken_per_week_pro_rato  dagen_kantoorwerken_per_week_pro_rato  \\\n",
       "0                                    4                                      1   \n",
       "1                                    5                                      0   \n",
       "2                                    4                                      1   \n",
       "3                                    3                                      2   \n",
       "4                                    0                                      5   \n",
       "\n",
       "   dagen_in_buitenland_per_jaar gebruik_carsharing  co2_uitstoot_per_jaar_KG  \n",
       "0                            20              Nooit                   7591.93  \n",
       "1                             7          Heel soms                   8742.25  \n",
       "2                             2             Altijd                   4513.56  \n",
       "3                            21          Heel soms                   6904.41  \n",
       "4                             0              Nooit                   4420.80  "
      ]
     },
     "metadata": {},
     "output_type": "display_data"
    },
    {
     "name": "stdout",
     "output_type": "stream",
     "text": [
      "Column list\n"
     ]
    },
    {
     "data": {
      "text/plain": [
       "['persoon_ID',\n",
       " 'geslacht',\n",
       " 'leeftijd',\n",
       " 'gewicht_KG',\n",
       " 'burgerlijke_staat',\n",
       " 'jaarsalaris_eu',\n",
       " 'huishouden_grootte',\n",
       " 'stad',\n",
       " 'provincie',\n",
       " 'opleiding_niveau',\n",
       " 'autobezit',\n",
       " 'fietsbezit',\n",
       " 'elektrisch_auto',\n",
       " 'km_auto_per_jaar',\n",
       " 'km_fiets_per_jaar',\n",
       " 'km_ov_per_jaar',\n",
       " 'km_vliegtuig_per_jaar',\n",
       " 'dagen_thuiswerken_per_week_pro_rato',\n",
       " 'dagen_kantoorwerken_per_week_pro_rato',\n",
       " 'dagen_in_buitenland_per_jaar',\n",
       " 'gebruik_carsharing',\n",
       " 'co2_uitstoot_per_jaar_KG']"
      ]
     },
     "metadata": {},
     "output_type": "display_data"
    }
   ],
   "source": [
    "# Imports:\n",
    "import pandas as pd\n",
    "import numpy as np\n",
    "import matplotlib.pyplot as plt\n",
    "import seaborn as sns\n",
    "# Sklearn:\n",
    "from sklearn.model_selection import train_test_split\n",
    "from sklearn.model_selection import KFold\n",
    "from sklearn.linear_model import LinearRegression\n",
    "from sklearn.neighbors import KNeighborsRegressor\n",
    "# Data:\n",
    "pd.set_option('display.max_columns', None)\n",
    "df_co2 = pd.read_excel('Mobiliteitsdata.xlsx')\n",
    "print(\"Head of the data\")\n",
    "display(df_co2.head())\n",
    "print(\"Column list\")\n",
    "display(df_co2.columns.tolist())\n",
    "pd.set_option('display.max_columns', 10)"
   ]
  },
  {
   "cell_type": "markdown",
   "id": "3c3ad412d8cafae6",
   "metadata": {},
   "source": [
    "# Deel A: Data exploratie en voorbereidingDeel"
   ]
  },
  {
   "cell_type": "markdown",
   "id": "cfc770d5c37832cd",
   "metadata": {},
   "source": [
    "1.\tGeef voor elke variabele in de dataset weer tot welk meetniveau deze behoort."
   ]
  },
  {
   "attachments": {},
   "cell_type": "markdown",
   "id": "306c2732",
   "metadata": {},
   "source": [
    "| Variabele | Meetniveau |\n",
    "| --- | --- |\n",
    "| persoon_ID | Geen |\n",
    "| geslacht | Nominaal |\n",
    "| leeftijd | Ratio |\n",
    "| gewicht_KG | Ratio |\n",
    "| burgerlijke_staat | Nominaal |\n",
    "| jaarsalaris_eu | Ratio |\n",
    "| huishouden_grootte | Ratio |\n",
    "| stad | Nominaal |\n",
    "| provincie | Nominaal |\n",
    "| opleiding_niveau | Ordinaal |\n",
    "| autobezit | Nominaal |\n",
    "| fietsbezit | Nominaal |\n",
    "| elektrisch_auto | Nominaal |\n",
    "| km_auto_per_jaar | Ratio |\n",
    "| km_fiets_per_jaar | Ratio |\n",
    "| km_ov_per_jaar | Ratio |\n",
    "| km_vliegtuig_per_jaar | Ratio |\n",
    "| dagen_thuiswerken_per_week_pro_rato | Ratio |\n",
    "| dagen_kantoorwerken_per_week_pro_rato | Ratio |\n",
    "| dagen_in_buitenland_per_jaar | Ratio |\n",
    "| gebruik_carsharing | Ordinaal |\n",
    "| co2_uitstoot_per_jaar_KG | Ratio |"
   ]
  },
  {
   "cell_type": "code",
   "execution_count": 1,
   "id": "4b0010c823f81a75",
   "metadata": {
    "ExecuteTime": {
     "end_time": "2025-06-06T10:46:21.708818Z",
     "start_time": "2025-06-06T10:46:21.705403Z"
    }
   },
   "outputs": [],
   "source": [
    "# 1\n",
    "# Gemaakt in markdown. Wellicht dat we al eerder het ID droppen? Deze gaan we toch niet gebruiken\n",
    "# Mischien ook verstandig om hier ook toelichting bij te geven als dit nodig is?"
   ]
  },
  {
   "cell_type": "markdown",
   "id": "37e962b731cacbc2",
   "metadata": {},
   "source": [
    "2.\tWaarom is het nodig om vooraf te bekijken tot welk meetniveau elke variabele behoort?"
   ]
  },
  {
   "attachments": {},
   "cell_type": "markdown",
   "id": "95645fef",
   "metadata": {},
   "source": [
    "Dit helpt ons om te bepalen welke statistische methode we gaan gebruiken en om te bepalen hoe we de data gaan voorbewerken.<br>\n",
    "(Mischien nog wat dieper op in gaan)"
   ]
  },
  {
   "cell_type": "code",
   "execution_count": 2,
   "id": "9520b9481fafc5f9",
   "metadata": {
    "ExecuteTime": {
     "end_time": "2025-06-06T10:46:21.740613Z",
     "start_time": "2025-06-06T10:46:21.736795Z"
    }
   },
   "outputs": [],
   "source": [
    "# 2"
   ]
  },
  {
   "cell_type": "markdown",
   "id": "c046f5961ec561a7",
   "metadata": {},
   "source": [
    "3.\tGa na of er missende/niet kloppende/extreme waarden zijn in de dataset en ga hier op een adequate manier mee om."
   ]
  },
  {
   "cell_type": "code",
   "execution_count": 22,
   "id": "860a036d1369cb34",
   "metadata": {
    "ExecuteTime": {
     "end_time": "2025-06-06T10:46:21.759208Z",
     "start_time": "2025-06-06T10:46:21.754876Z"
    }
   },
   "outputs": [
    {
     "name": "stdout",
     "output_type": "stream",
     "text": [
      "Missende waarden percentage\n",
      "co2_uitstoot_per_jaar_KG    0.47\n",
      "jaarsalaris_eu              0.07\n",
      "stad                        0.07\n",
      "opleiding_niveau            0.07\n",
      "autobezit                   0.07\n",
      "dtype: float64\n",
      "Extreme waarden gedetecteerd in: co2_uitstoot_per_jaar_KG\n"
     ]
    },
    {
     "data": {
      "image/png": "[encoded data removed]",
      "text/plain": [
       "<Figure size 640x480 with 1 Axes>"
      ]
     },
     "metadata": {},
     "output_type": "display_data"
    },
    {
     "name": "stdout",
     "output_type": "stream",
     "text": [
      "Extreme waarden gedetecteerd in: gewicht_KG\n"
     ]
    },
    {
     "data": {
      "image/png": "[encoded data removed]",
      "text/plain": [
       "<Figure size 640x480 with 1 Axes>"
      ]
     },
     "metadata": {},
     "output_type": "display_data"
    },
    {
     "name": "stdout",
     "output_type": "stream",
     "text": [
      "Extreme waarden gedetecteerd in: jaarsalaris_eu\n"
     ]
    },
    {
     "data": {
      "image/png": "[encoded data removed]",
      "text/plain": [
       "<Figure size 640x480 with 1 Axes>"
      ]
     },
     "metadata": {},
     "output_type": "display_data"
    },
    {
     "name": "stdout",
     "output_type": "stream",
     "text": [
      "Extreme waarden gedetecteerd in: km_auto_per_jaar\n"
     ]
    },
    {
     "data": {
      "image/png": "[encoded data removed]",
      "text/plain": [
       "<Figure size 640x480 with 1 Axes>"
      ]
     },
     "metadata": {},
     "output_type": "display_data"
    },
    {
     "name": "stdout",
     "output_type": "stream",
     "text": [
      "Extreme waarden gedetecteerd in: km_ov_per_jaar\n"
     ]
    },
    {
     "data": {
      "image/png": "[encoded data removed]",
      "text/plain": [
       "<Figure size 640x480 with 1 Axes>"
      ]
     },
     "metadata": {},
     "output_type": "display_data"
    },
    {
     "name": "stdout",
     "output_type": "stream",
     "text": [
      "Extreme waarden gedetecteerd in: km_vliegtuig_per_jaar\n"
     ]
    },
    {
     "data": {
      "image/png": "[encoded data removed]",
      "text/plain": [
       "<Figure size 640x480 with 1 Axes>"
      ]
     },
     "metadata": {},
     "output_type": "display_data"
    }
   ],
   "source": [
    "# 3\n",
    "# import z-score\n",
    "from scipy.stats import zscore\n",
    "# Eerst missende waarden:\n",
    "mv = df_co2.isnull().mean() * 100\n",
    "print(\"Missende waarden percentage\")\n",
    "print(mv[mv > 0].sort_values(ascending=False).round(2))\n",
    "\n",
    "# Extreme waarden\n",
    "# Instellingen\n",
    "threshold = 3\n",
    "columns_to_check = df_co2.select_dtypes(include=[np.number]).columns.difference(['persoon_ID'])\n",
    "\n",
    "# Loop voor relevante kollomen\n",
    "for col in columns_to_check:\n",
    "    z_scores = zscore(df_co2[col].dropna())\n",
    "    extreme_mask = np.abs(z_scores) > threshold\n",
    "\n",
    "    if extreme_mask.any():\n",
    "        print(f\"Extreme waarden gedetecteerd in: {col}\")\n",
    "        sns.boxplot(x=df_co2[col])\n",
    "        plt.title(f\"Boxplot van {col}\")\n",
    "        plt.show()"
   ]
  },
  {
   "cell_type": "markdown",
   "id": "7f639670ffb56a61",
   "metadata": {},
   "source": [
    "4.\tKies 2 onafhankelijke variabelen waarvan je denkt dat het invloed kan hebben op de jaarlijkse CO2 uitstoot. Visualiseer de verdeling van deze twee variabelen en de verdeling van de afhankelijke variabele."
   ]
  },
  {
   "cell_type": "code",
   "execution_count": 4,
   "id": "f107c29f87b53f33",
   "metadata": {
    "ExecuteTime": {
     "end_time": "2025-06-06T10:46:21.778008Z",
     "start_time": "2025-06-06T10:46:21.775118Z"
    }
   },
   "outputs": [],
   "source": [
    "# 4"
   ]
  },
  {
   "cell_type": "markdown",
   "id": "924cdcfcf6f506ed",
   "metadata": {},
   "source": [
    "5.\tGeef een beschrijving van de 3 visualisaties met behulp van statistische termen."
   ]
  },
  {
   "cell_type": "code",
   "execution_count": 5,
   "id": "47ad8765da5574bf",
   "metadata": {
    "ExecuteTime": {
     "end_time": "2025-06-06T10:46:21.865819Z",
     "start_time": "2025-06-06T10:46:21.863269Z"
    }
   },
   "outputs": [],
   "source": [
    "# 5"
   ]
  },
  {
   "cell_type": "markdown",
   "id": "13814d25ae25452a",
   "metadata": {},
   "source": [
    "6.\tToets, met behulp van statistiek, of de verdelingen (vraag 4) normaal verdeeld zijn."
   ]
  },
  {
   "cell_type": "code",
   "execution_count": 6,
   "id": "9045510785682ffd",
   "metadata": {
    "ExecuteTime": {
     "end_time": "2025-06-06T10:46:21.883061Z",
     "start_time": "2025-06-06T10:46:21.879592Z"
    }
   },
   "outputs": [],
   "source": [
    "# 6"
   ]
  },
  {
   "cell_type": "markdown",
   "id": "90e53b2cd28304d5",
   "metadata": {},
   "source": [
    "7.\tOm ervoor te zorgen dat de onafhankelijke variabelen gebruikt kunnen worden voor Machine Learning moeten ze getransformeerd worden. Geef per meetniveau aan wat er moet gebeuren en waarom."
   ]
  },
  {
   "cell_type": "code",
   "execution_count": 7,
   "id": "fccab279692a20e1",
   "metadata": {
    "ExecuteTime": {
     "end_time": "2025-06-06T10:46:21.905613Z",
     "start_time": "2025-06-06T10:46:21.902605Z"
    }
   },
   "outputs": [],
   "source": [
    "# 7"
   ]
  },
  {
   "cell_type": "markdown",
   "id": "c1c58fb7607ae232",
   "metadata": {},
   "source": [
    "8.\tZorg dat je inzicht krijgt in de relatie tussen de variabelen. Wat zijn je bevindingen?"
   ]
  },
  {
   "cell_type": "code",
   "execution_count": 8,
   "id": "e035823f138499be",
   "metadata": {
    "ExecuteTime": {
     "end_time": "2025-06-06T10:46:21.981537Z",
     "start_time": "2025-06-06T10:46:21.975890Z"
    }
   },
   "outputs": [],
   "source": [
    "# 8"
   ]
  },
  {
   "cell_type": "markdown",
   "id": "ff5c4d54d4992cd8",
   "metadata": {},
   "source": [
    "9.\tWelke methode(n) heb je gebruikt en waarom?"
   ]
  },
  {
   "cell_type": "code",
   "execution_count": 9,
   "id": "89686f284938d041",
   "metadata": {
    "ExecuteTime": {
     "end_time": "2025-06-06T10:46:22.005069Z",
     "start_time": "2025-06-06T10:46:22.001586Z"
    }
   },
   "outputs": [],
   "source": [
    "# 9"
   ]
  },
  {
   "cell_type": "markdown",
   "id": "ace0c5f5c160e8a7",
   "metadata": {},
   "source": [
    "10.\tIs er sprake van multicollineariteit? Waarom zou dit een probleem kunnen zijn en wat zou jouw oplossing zijn?"
   ]
  },
  {
   "cell_type": "code",
   "execution_count": 10,
   "id": "7d4dda5306fe82d9",
   "metadata": {
    "ExecuteTime": {
     "end_time": "2025-06-06T10:46:22.023829Z",
     "start_time": "2025-06-06T10:46:22.020019Z"
    }
   },
   "outputs": [],
   "source": [
    "# 10"
   ]
  },
  {
   "cell_type": "markdown",
   "id": "effed37d0e5dbe",
   "metadata": {},
   "source": [
    "11.\tBekijk de relatie tussen uitstoot CO2 en de andere onafhankelijke variabelen per geslacht. Kom je hier tot een andere conclusie dan bij vraag 8?"
   ]
  },
  {
   "cell_type": "code",
   "execution_count": 11,
   "id": "cc99bb0fc61b69ec",
   "metadata": {
    "ExecuteTime": {
     "end_time": "2025-06-06T10:46:22.046785Z",
     "start_time": "2025-06-06T10:46:22.043045Z"
    }
   },
   "outputs": [],
   "source": [
    "# 11"
   ]
  },
  {
   "cell_type": "markdown",
   "id": "3e4baf649f98ccb8",
   "metadata": {},
   "source": [
    "# Deel B: Kansrekenen"
   ]
  },
  {
   "cell_type": "markdown",
   "id": "9fc575acbca39c22",
   "metadata": {},
   "source": [
    "12.\tWat is de kans dat een willekeurig persoon 5000 KG CO2 uitstoot? Gebruik de standaard normaal verdeling in de berekening."
   ]
  },
  {
   "cell_type": "code",
   "execution_count": null,
   "id": "5fd32c1cacd03660",
   "metadata": {},
   "outputs": [],
   "source": [
    "# 12"
   ]
  },
  {
   "cell_type": "markdown",
   "id": "6bd6e8bdbb07b225",
   "metadata": {},
   "source": [
    "13.\tOp welke manier wordt, bij deze berekening, een van de technieken van calculus toegepast?"
   ]
  },
  {
   "cell_type": "code",
   "execution_count": null,
   "id": "ae1cfc88e1715d86",
   "metadata": {},
   "outputs": [],
   "source": [
    "# 13"
   ]
  },
  {
   "cell_type": "markdown",
   "id": "88064fff1a230622",
   "metadata": {},
   "source": [
    "14.\tIs deze kans groter, gelijk of kleiner bij mannen t.o.v. vrouwen?"
   ]
  },
  {
   "cell_type": "code",
   "execution_count": null,
   "id": "fda37bbec7af3e1e",
   "metadata": {},
   "outputs": [],
   "source": [
    "# 14"
   ]
  },
  {
   "cell_type": "markdown",
   "id": "535973d5fb608608",
   "metadata": {},
   "source": [
    "# Deel C: Toetsende statistiek"
   ]
  },
  {
   "cell_type": "markdown",
   "id": "cfc374963e7711ee",
   "metadata": {},
   "source": [
    "15.\tStel de hypothesen op."
   ]
  },
  {
   "cell_type": "code",
   "execution_count": null,
   "id": "f1d834352424f3b3",
   "metadata": {},
   "outputs": [],
   "source": [
    "# 15"
   ]
  },
  {
   "cell_type": "markdown",
   "id": "5ae5da67607c658e",
   "metadata": {},
   "source": [
    "16.\tWelke type fouten kunnen er gemaakt worden?"
   ]
  },
  {
   "cell_type": "code",
   "execution_count": null,
   "id": "4beec8b19ac2cb4d",
   "metadata": {},
   "outputs": [],
   "source": [
    "# 16"
   ]
  },
  {
   "cell_type": "markdown",
   "id": "daddf05f8c201",
   "metadata": {},
   "source": [
    "17.\tWelke statistische toets moet je uitvoeren om te onderzoeken of er een significant verschil is?"
   ]
  },
  {
   "cell_type": "code",
   "execution_count": null,
   "id": "698abbc225c5be80",
   "metadata": {},
   "outputs": [],
   "source": [
    "# 17"
   ]
  },
  {
   "cell_type": "markdown",
   "id": "5130ff52c1ed30ad",
   "metadata": {},
   "source": [
    "18.\tVoer de toets uit."
   ]
  },
  {
   "cell_type": "code",
   "execution_count": null,
   "id": "27a88a1500843508",
   "metadata": {},
   "outputs": [],
   "source": [
    "# 18"
   ]
  },
  {
   "cell_type": "markdown",
   "id": "f6c22d5b9f57b961",
   "metadata": {},
   "source": [
    "19.\tGeef in je eigen woorden een toelichting op de betekenis van de p-waarde."
   ]
  },
  {
   "cell_type": "code",
   "execution_count": null,
   "id": "e74366a71d1d9dc8",
   "metadata": {},
   "outputs": [],
   "source": [
    "# 19"
   ]
  },
  {
   "cell_type": "markdown",
   "id": "40341d71e0d7341a",
   "metadata": {},
   "source": [
    "20.\tWelke conclusie kan je trekken?"
   ]
  },
  {
   "cell_type": "code",
   "execution_count": null,
   "id": "6d36a86b44b06b1e",
   "metadata": {},
   "outputs": [],
   "source": [
    "# 20"
   ]
  },
  {
   "cell_type": "markdown",
   "id": "8aaa879afde64411",
   "metadata": {},
   "source": [
    "# Deel D: Modelleren"
   ]
  },
  {
   "cell_type": "markdown",
   "id": "396eae6d1e2b1064",
   "metadata": {},
   "source": [
    "21.\tTrain een model om de jaarlijkse CO2 uitstoot te voorspellen. Op hoeveel verschillende mogelijkheden kan deze split gemaakt worden?"
   ]
  },
  {
   "cell_type": "code",
   "execution_count": null,
   "id": "eff94d74f81231d4",
   "metadata": {},
   "outputs": [],
   "source": [
    "# 21"
   ]
  },
  {
   "cell_type": "markdown",
   "id": "7d6b48c1b0354458",
   "metadata": {},
   "source": [
    "22.\tTrain een model om de jaarlijkse CO2 uitstoot te voorspellen. Welke metric zou je gebruiken om te toetsen hoe goed je model is en waarom?\n"
   ]
  },
  {
   "cell_type": "code",
   "execution_count": null,
   "id": "db08e060bb6fad82",
   "metadata": {},
   "outputs": [],
   "source": [
    "# 22"
   ]
  },
  {
   "cell_type": "markdown",
   "id": "e85d4f5a3b2f61d",
   "metadata": {},
   "source": [
    "23.\tGeef de wiskunde functie van het model en pas deze toe op jouw eigen situatie (kies 1 groepsgenoot)."
   ]
  },
  {
   "cell_type": "code",
   "execution_count": null,
   "id": "8b79772595b6180c",
   "metadata": {},
   "outputs": [],
   "source": [
    "# 23"
   ]
  },
  {
   "cell_type": "markdown",
   "id": "193d3dd705baa1a1",
   "metadata": {},
   "source": [
    "24.\tGebruik toetsende statistiek en de resultaten van de 20-fold cross validation om te onderzoeken welk model significant beter is."
   ]
  },
  {
   "cell_type": "code",
   "execution_count": null,
   "id": "3bb5e454af9d889e",
   "metadata": {},
   "outputs": [],
   "source": [
    "# 24"
   ]
  },
  {
   "cell_type": "markdown",
   "id": "f75c5b9022dee18",
   "metadata": {},
   "source": [
    "25.\tSplits de target variabele op in 2 klassen, kies hiervoor een geschikte punt. Codeer de eerste groep als 0 en de tweede groep als 1. Welk model zou je nu kunnen gebruiken en waarom?\n"
   ]
  },
  {
   "cell_type": "code",
   "execution_count": null,
   "id": "a54234c9d111cc2e",
   "metadata": {},
   "outputs": [],
   "source": [
    "# 25"
   ]
  },
  {
   "cell_type": "markdown",
   "id": "778eb798e0d65ff2",
   "metadata": {},
   "source": [
    "26.\tTrain een nieuw model op de nieuwe target, gebruik hierbij alleen de vijf meest invloedrijke onafhankelijke variabelen die je eerder hebt gekozen. Geef de wiskunde functie van dit model en pas deze toe op jouw eigen situatie (kies 1 groepsgenoot).\n"
   ]
  },
  {
   "cell_type": "code",
   "execution_count": null,
   "id": "5fc99fbbfa501809",
   "metadata": {},
   "outputs": [],
   "source": [
    "# 26"
   ]
  },
  {
   "cell_type": "markdown",
   "id": "59e834b70a39c195",
   "metadata": {},
   "source": [
    "27.\tSchrijf een conclusie op basis van de twee hoofdvragen van het portfolio (zie kopje ‘Vraagstellingen’)\n"
   ]
  },
  {
   "cell_type": "code",
   "execution_count": 1,
   "id": "a3599af620119e74",
   "metadata": {
    "ExecuteTime": {
     "end_time": "2025-06-06T10:36:52.949940Z",
     "start_time": "2025-06-06T10:36:52.946666Z"
    }
   },
   "outputs": [],
   "source": [
    "# 27"
   ]
  },
  {
   "cell_type": "markdown",
   "id": "2f30e29335c63e96",
   "metadata": {},
   "source": [
    "###"
   ]
  }
 ],
 "metadata": {
  "kernelspec": {
   "display_name": "Python 3",
   "language": "python",
   "name": "python3"
  },
  "language_info": {
   "codemirror_mode": {
    "name": "ipython",
    "version": 3
   },
   "file_extension": ".py",
   "mimetype": "text/x-python",
   "name": "python",
   "nbconvert_exporter": "python",
   "pygments_lexer": "ipython3",
   "version": "3.10.15"
  },
  "vscode": {
   "interpreter": {
    "hash": "e7370f93d1d0cde622a1f8e1c04877d8463912d04d973331ad4851f04de6915a"
   }
  }
 },
 "nbformat": 4,
 "nbformat_minor": 5
}
