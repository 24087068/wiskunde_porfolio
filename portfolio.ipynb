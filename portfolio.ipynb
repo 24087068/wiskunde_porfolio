{
 "cells": [
  {
   "metadata": {
    "ExecuteTime": {
     "end_time": "2025-06-06T10:57:13.804844Z",
     "start_time": "2025-06-06T10:57:13.497321Z"
    }
   },
   "cell_type": "code",
   "source": [
    "# Imports:\n",
    "import pandas as pd\n",
    "import numpy as np\n",
    "import matplotlib.pyplot as plt\n",
    "import seaborn as sns\n",
    "# Sklearn:\n",
    "from sklearn.model_selection import train_test_split\n",
    "from sklearn.model_selection import KFold\n",
    "from sklearn.linear_model import LinearRegression\n",
    "from sklearn.neighbors import KNeighborsRegressor\n",
    "# Data:\n",
    "df_co2 = pd.read_excel('../Mobiliteitsdata.xlsx')\n",
    "display(df_co2.head())"
   ],
   "id": "624c5e9fa39c923c",
   "outputs": [
    {
     "data": {
      "text/plain": [
       "   persoon_ID geslacht  leeftijd  gewicht_KG burgerlijke_staat  \\\n",
       "0      811069      man        50       52.66  weduwe/weduwnaar   \n",
       "1      246882    vrouw        65       64.58       samenwonend   \n",
       "2      978385      man        49       90.87       samenwonend   \n",
       "3      120468      man        34       80.43            gehuwd   \n",
       "4      637034      man        60       72.28          ongehuwd   \n",
       "\n",
       "   jaarsalaris_eu  huishouden_grootte        stad   provincie  \\\n",
       "0        48003.64                   5      Almere   Flevoland   \n",
       "1        55208.63                   2  Leeuwarden  Overijssel   \n",
       "2        29533.78                   2     Tilburg     Utrecht   \n",
       "3        44453.27                   2  Maastricht     Utrecht   \n",
       "4        56497.64                   2      Leiden  Gelderland   \n",
       "\n",
       "  opleiding_niveau  ... elektrisch_auto km_auto_per_jaar km_fiets_per_jaar  \\\n",
       "0              MBO  ...             nee         13266.05           2040.54   \n",
       "1               WO  ...             nee         15229.89              0.00   \n",
       "2              HBO  ...              ja         19853.24           1540.46   \n",
       "3              HBO  ...             nee          9935.50           1825.92   \n",
       "4              MBO  ...              ja         16266.67           1851.07   \n",
       "\n",
       "   km_ov_per_jaar  km_vliegtuig_per_jaar  dagen_thuiswerken_per_week_pro_rato  \\\n",
       "0         3227.95                 480.71                                    4   \n",
       "1         2298.96                1423.34                                    5   \n",
       "2         4504.21                 632.48                                    4   \n",
       "3         4407.56                1266.84                                    3   \n",
       "4         1936.12                1676.00                                    0   \n",
       "\n",
       "   dagen_kantoorwerken_per_week_pro_rato  dagen_in_buitenland_per_jaar  \\\n",
       "0                                      1                            20   \n",
       "1                                      0                             7   \n",
       "2                                      1                             2   \n",
       "3                                      2                            21   \n",
       "4                                      5                             0   \n",
       "\n",
       "   gebruik_carsharing  co2_uitstoot_per_jaar_KG  \n",
       "0               Nooit                   7591.93  \n",
       "1           Heel soms                   8742.25  \n",
       "2              Altijd                   4513.56  \n",
       "3           Heel soms                   6904.41  \n",
       "4               Nooit                   4420.80  \n",
       "\n",
       "[5 rows x 22 columns]"
      ],
      "text/html": [
       "<div>\n",
       "<style scoped>\n",
       "    .dataframe tbody tr th:only-of-type {\n",
       "        vertical-align: middle;\n",
       "    }\n",
       "\n",
       "    .dataframe tbody tr th {\n",
       "        vertical-align: top;\n",
       "    }\n",
       "\n",
       "    .dataframe thead th {\n",
       "        text-align: right;\n",
       "    }\n",
       "</style>\n",
       "<table border=\"1\" class=\"dataframe\">\n",
       "  <thead>\n",
       "    <tr style=\"text-align: right;\">\n",
       "      <th></th>\n",
       "      <th>persoon_ID</th>\n",
       "      <th>geslacht</th>\n",
       "      <th>leeftijd</th>\n",
       "      <th>gewicht_KG</th>\n",
       "      <th>burgerlijke_staat</th>\n",
       "      <th>jaarsalaris_eu</th>\n",
       "      <th>huishouden_grootte</th>\n",
       "      <th>stad</th>\n",
       "      <th>provincie</th>\n",
       "      <th>opleiding_niveau</th>\n",
       "      <th>...</th>\n",
       "      <th>elektrisch_auto</th>\n",
       "      <th>km_auto_per_jaar</th>\n",
       "      <th>km_fiets_per_jaar</th>\n",
       "      <th>km_ov_per_jaar</th>\n",
       "      <th>km_vliegtuig_per_jaar</th>\n",
       "      <th>dagen_thuiswerken_per_week_pro_rato</th>\n",
       "      <th>dagen_kantoorwerken_per_week_pro_rato</th>\n",
       "      <th>dagen_in_buitenland_per_jaar</th>\n",
       "      <th>gebruik_carsharing</th>\n",
       "      <th>co2_uitstoot_per_jaar_KG</th>\n",
       "    </tr>\n",
       "  </thead>\n",
       "  <tbody>\n",
       "    <tr>\n",
       "      <th>0</th>\n",
       "      <td>811069</td>\n",
       "      <td>man</td>\n",
       "      <td>50</td>\n",
       "      <td>52.66</td>\n",
       "      <td>weduwe/weduwnaar</td>\n",
       "      <td>48003.64</td>\n",
       "      <td>5</td>\n",
       "      <td>Almere</td>\n",
       "      <td>Flevoland</td>\n",
       "      <td>MBO</td>\n",
       "      <td>...</td>\n",
       "      <td>nee</td>\n",
       "      <td>13266.05</td>\n",
       "      <td>2040.54</td>\n",
       "      <td>3227.95</td>\n",
       "      <td>480.71</td>\n",
       "      <td>4</td>\n",
       "      <td>1</td>\n",
       "      <td>20</td>\n",
       "      <td>Nooit</td>\n",
       "      <td>7591.93</td>\n",
       "    </tr>\n",
       "    <tr>\n",
       "      <th>1</th>\n",
       "      <td>246882</td>\n",
       "      <td>vrouw</td>\n",
       "      <td>65</td>\n",
       "      <td>64.58</td>\n",
       "      <td>samenwonend</td>\n",
       "      <td>55208.63</td>\n",
       "      <td>2</td>\n",
       "      <td>Leeuwarden</td>\n",
       "      <td>Overijssel</td>\n",
       "      <td>WO</td>\n",
       "      <td>...</td>\n",
       "      <td>nee</td>\n",
       "      <td>15229.89</td>\n",
       "      <td>0.00</td>\n",
       "      <td>2298.96</td>\n",
       "      <td>1423.34</td>\n",
       "      <td>5</td>\n",
       "      <td>0</td>\n",
       "      <td>7</td>\n",
       "      <td>Heel soms</td>\n",
       "      <td>8742.25</td>\n",
       "    </tr>\n",
       "    <tr>\n",
       "      <th>2</th>\n",
       "      <td>978385</td>\n",
       "      <td>man</td>\n",
       "      <td>49</td>\n",
       "      <td>90.87</td>\n",
       "      <td>samenwonend</td>\n",
       "      <td>29533.78</td>\n",
       "      <td>2</td>\n",
       "      <td>Tilburg</td>\n",
       "      <td>Utrecht</td>\n",
       "      <td>HBO</td>\n",
       "      <td>...</td>\n",
       "      <td>ja</td>\n",
       "      <td>19853.24</td>\n",
       "      <td>1540.46</td>\n",
       "      <td>4504.21</td>\n",
       "      <td>632.48</td>\n",
       "      <td>4</td>\n",
       "      <td>1</td>\n",
       "      <td>2</td>\n",
       "      <td>Altijd</td>\n",
       "      <td>4513.56</td>\n",
       "    </tr>\n",
       "    <tr>\n",
       "      <th>3</th>\n",
       "      <td>120468</td>\n",
       "      <td>man</td>\n",
       "      <td>34</td>\n",
       "      <td>80.43</td>\n",
       "      <td>gehuwd</td>\n",
       "      <td>44453.27</td>\n",
       "      <td>2</td>\n",
       "      <td>Maastricht</td>\n",
       "      <td>Utrecht</td>\n",
       "      <td>HBO</td>\n",
       "      <td>...</td>\n",
       "      <td>nee</td>\n",
       "      <td>9935.50</td>\n",
       "      <td>1825.92</td>\n",
       "      <td>4407.56</td>\n",
       "      <td>1266.84</td>\n",
       "      <td>3</td>\n",
       "      <td>2</td>\n",
       "      <td>21</td>\n",
       "      <td>Heel soms</td>\n",
       "      <td>6904.41</td>\n",
       "    </tr>\n",
       "    <tr>\n",
       "      <th>4</th>\n",
       "      <td>637034</td>\n",
       "      <td>man</td>\n",
       "      <td>60</td>\n",
       "      <td>72.28</td>\n",
       "      <td>ongehuwd</td>\n",
       "      <td>56497.64</td>\n",
       "      <td>2</td>\n",
       "      <td>Leiden</td>\n",
       "      <td>Gelderland</td>\n",
       "      <td>MBO</td>\n",
       "      <td>...</td>\n",
       "      <td>ja</td>\n",
       "      <td>16266.67</td>\n",
       "      <td>1851.07</td>\n",
       "      <td>1936.12</td>\n",
       "      <td>1676.00</td>\n",
       "      <td>0</td>\n",
       "      <td>5</td>\n",
       "      <td>0</td>\n",
       "      <td>Nooit</td>\n",
       "      <td>4420.80</td>\n",
       "    </tr>\n",
       "  </tbody>\n",
       "</table>\n",
       "<p>5 rows × 22 columns</p>\n",
       "</div>"
      ]
     },
     "metadata": {},
     "output_type": "display_data"
    }
   ],
   "execution_count": 2
  },
  {
   "metadata": {},
   "cell_type": "markdown",
   "source": "# Deel A: Data exploratie en voorbereidingDeel",
   "id": "3c3ad412d8cafae6"
  },
  {
   "metadata": {},
   "cell_type": "markdown",
   "source": "1.\tGeef voor elke variabele in de dataset weer tot welk meetniveau deze behoort.",
   "id": "cfc770d5c37832cd"
  },
  {
   "metadata": {
    "ExecuteTime": {
     "end_time": "2025-06-06T10:46:21.708818Z",
     "start_time": "2025-06-06T10:46:21.705403Z"
    }
   },
   "cell_type": "code",
   "source": "# 1",
   "id": "4b0010c823f81a75",
   "outputs": [],
   "execution_count": 1
  },
  {
   "metadata": {},
   "cell_type": "markdown",
   "source": "2.\tWaarom is het nodig om vooraf te bekijken tot welk meetniveau elke variabele behoort?",
   "id": "37e962b731cacbc2"
  },
  {
   "metadata": {
    "ExecuteTime": {
     "end_time": "2025-06-06T10:46:21.740613Z",
     "start_time": "2025-06-06T10:46:21.736795Z"
    }
   },
   "cell_type": "code",
   "source": "# 2",
   "id": "9520b9481fafc5f9",
   "outputs": [],
   "execution_count": 2
  },
  {
   "metadata": {},
   "cell_type": "markdown",
   "source": "3.\tGa na of er missende/niet kloppende/extreme waarden zijn in de dataset en ga hier op een adequate manier mee om.",
   "id": "c046f5961ec561a7"
  },
  {
   "metadata": {
    "ExecuteTime": {
     "end_time": "2025-06-06T10:46:21.759208Z",
     "start_time": "2025-06-06T10:46:21.754876Z"
    }
   },
   "cell_type": "code",
   "source": "# 3",
   "id": "860a036d1369cb34",
   "outputs": [],
   "execution_count": 3
  },
  {
   "metadata": {},
   "cell_type": "markdown",
   "source": "4.\tKies 2 onafhankelijke variabelen waarvan je denkt dat het invloed kan hebben op de jaarlijkse CO2 uitstoot. Visualiseer de verdeling van deze twee variabelen en de verdeling van de afhankelijke variabele.",
   "id": "7f639670ffb56a61"
  },
  {
   "metadata": {
    "ExecuteTime": {
     "end_time": "2025-06-06T10:46:21.778008Z",
     "start_time": "2025-06-06T10:46:21.775118Z"
    }
   },
   "cell_type": "code",
   "source": "# 4",
   "id": "f107c29f87b53f33",
   "outputs": [],
   "execution_count": 4
  },
  {
   "metadata": {},
   "cell_type": "markdown",
   "source": "5.\tGeef een beschrijving van de 3 visualisaties met behulp van statistische termen.",
   "id": "924cdcfcf6f506ed"
  },
  {
   "metadata": {
    "ExecuteTime": {
     "end_time": "2025-06-06T10:46:21.865819Z",
     "start_time": "2025-06-06T10:46:21.863269Z"
    }
   },
   "cell_type": "code",
   "source": "# 5",
   "id": "47ad8765da5574bf",
   "outputs": [],
   "execution_count": 5
  },
  {
   "metadata": {},
   "cell_type": "markdown",
   "source": "6.\tToets, met behulp van statistiek, of de verdelingen (vraag 4) normaal verdeeld zijn.",
   "id": "13814d25ae25452a"
  },
  {
   "metadata": {
    "ExecuteTime": {
     "end_time": "2025-06-06T10:46:21.883061Z",
     "start_time": "2025-06-06T10:46:21.879592Z"
    }
   },
   "cell_type": "code",
   "source": "# 6",
   "id": "9045510785682ffd",
   "outputs": [],
   "execution_count": 6
  },
  {
   "metadata": {},
   "cell_type": "markdown",
   "source": "7.\tOm ervoor te zorgen dat de onafhankelijke variabelen gebruikt kunnen worden voor Machine Learning moeten ze getransformeerd worden. Geef per meetniveau aan wat er moet gebeuren en waarom.",
   "id": "90e53b2cd28304d5"
  },
  {
   "metadata": {
    "ExecuteTime": {
     "end_time": "2025-06-06T10:46:21.905613Z",
     "start_time": "2025-06-06T10:46:21.902605Z"
    }
   },
   "cell_type": "code",
   "source": "# 7",
   "id": "fccab279692a20e1",
   "outputs": [],
   "execution_count": 7
  },
  {
   "metadata": {},
   "cell_type": "markdown",
   "source": "8.\tZorg dat je inzicht krijgt in de relatie tussen de variabelen. Wat zijn je bevindingen?",
   "id": "c1c58fb7607ae232"
  },
  {
   "metadata": {
    "ExecuteTime": {
     "end_time": "2025-06-06T10:46:21.981537Z",
     "start_time": "2025-06-06T10:46:21.975890Z"
    }
   },
   "cell_type": "code",
   "source": "# 8",
   "id": "e035823f138499be",
   "outputs": [],
   "execution_count": 8
  },
  {
   "metadata": {},
   "cell_type": "markdown",
   "source": "9.\tWelke methode(n) heb je gebruikt en waarom?",
   "id": "ff5c4d54d4992cd8"
  },
  {
   "metadata": {
    "ExecuteTime": {
     "end_time": "2025-06-06T10:46:22.005069Z",
     "start_time": "2025-06-06T10:46:22.001586Z"
    }
   },
   "cell_type": "code",
   "source": "# 9",
   "id": "89686f284938d041",
   "outputs": [],
   "execution_count": 9
  },
  {
   "metadata": {},
   "cell_type": "markdown",
   "source": "10.\tIs er sprake van multicollineariteit? Waarom zou dit een probleem kunnen zijn en wat zou jouw oplossing zijn?",
   "id": "ace0c5f5c160e8a7"
  },
  {
   "metadata": {
    "ExecuteTime": {
     "end_time": "2025-06-06T10:46:22.023829Z",
     "start_time": "2025-06-06T10:46:22.020019Z"
    }
   },
   "cell_type": "code",
   "source": "# 10",
   "id": "7d4dda5306fe82d9",
   "outputs": [],
   "execution_count": 10
  },
  {
   "metadata": {},
   "cell_type": "markdown",
   "source": "11.\tBekijk de relatie tussen uitstoot CO2 en de andere onafhankelijke variabelen per geslacht. Kom je hier tot een andere conclusie dan bij vraag 8?",
   "id": "effed37d0e5dbe"
  },
  {
   "metadata": {
    "ExecuteTime": {
     "end_time": "2025-06-06T10:46:22.046785Z",
     "start_time": "2025-06-06T10:46:22.043045Z"
    }
   },
   "cell_type": "code",
   "source": "# 11",
   "id": "cc99bb0fc61b69ec",
   "outputs": [],
   "execution_count": 11
  },
  {
   "metadata": {},
   "cell_type": "markdown",
   "source": "# Deel B: Kansrekenen",
   "id": "3e4baf649f98ccb8"
  },
  {
   "metadata": {},
   "cell_type": "markdown",
   "source": "12.\tWat is de kans dat een willekeurig persoon 5000 KG CO2 uitstoot? Gebruik de standaard normaal verdeling in de berekening.",
   "id": "9fc575acbca39c22"
  },
  {
   "metadata": {},
   "cell_type": "code",
   "outputs": [],
   "execution_count": null,
   "source": "# 12",
   "id": "5fd32c1cacd03660"
  },
  {
   "metadata": {},
   "cell_type": "markdown",
   "source": "13.\tOp welke manier wordt, bij deze berekening, een van de technieken van calculus toegepast?",
   "id": "6bd6e8bdbb07b225"
  },
  {
   "metadata": {},
   "cell_type": "code",
   "outputs": [],
   "execution_count": null,
   "source": "# 13",
   "id": "ae1cfc88e1715d86"
  },
  {
   "metadata": {},
   "cell_type": "markdown",
   "source": "14.\tIs deze kans groter, gelijk of kleiner bij mannen t.o.v. vrouwen?",
   "id": "88064fff1a230622"
  },
  {
   "metadata": {},
   "cell_type": "code",
   "outputs": [],
   "execution_count": null,
   "source": "# 14",
   "id": "fda37bbec7af3e1e"
  },
  {
   "metadata": {},
   "cell_type": "markdown",
   "source": "# Deel C: Toetsende statistiek",
   "id": "535973d5fb608608"
  },
  {
   "metadata": {},
   "cell_type": "markdown",
   "source": "15.\tStel de hypothesen op.",
   "id": "cfc374963e7711ee"
  },
  {
   "metadata": {},
   "cell_type": "code",
   "outputs": [],
   "execution_count": null,
   "source": "# 15",
   "id": "f1d834352424f3b3"
  },
  {
   "metadata": {},
   "cell_type": "markdown",
   "source": "16.\tWelke type fouten kunnen er gemaakt worden?",
   "id": "5ae5da67607c658e"
  },
  {
   "metadata": {},
   "cell_type": "code",
   "outputs": [],
   "execution_count": null,
   "source": "# 16",
   "id": "4beec8b19ac2cb4d"
  },
  {
   "metadata": {},
   "cell_type": "markdown",
   "source": "17.\tWelke statistische toets moet je uitvoeren om te onderzoeken of er een significant verschil is?",
   "id": "daddf05f8c201"
  },
  {
   "metadata": {},
   "cell_type": "code",
   "outputs": [],
   "execution_count": null,
   "source": "# 17",
   "id": "698abbc225c5be80"
  },
  {
   "metadata": {},
   "cell_type": "markdown",
   "source": "18.\tVoer de toets uit.",
   "id": "5130ff52c1ed30ad"
  },
  {
   "metadata": {},
   "cell_type": "code",
   "outputs": [],
   "execution_count": null,
   "source": "# 18",
   "id": "27a88a1500843508"
  },
  {
   "metadata": {},
   "cell_type": "markdown",
   "source": "19.\tGeef in je eigen woorden een toelichting op de betekenis van de p-waarde.",
   "id": "f6c22d5b9f57b961"
  },
  {
   "metadata": {},
   "cell_type": "code",
   "outputs": [],
   "execution_count": null,
   "source": "# 19",
   "id": "e74366a71d1d9dc8"
  },
  {
   "metadata": {},
   "cell_type": "markdown",
   "source": "20.\tWelke conclusie kan je trekken?",
   "id": "40341d71e0d7341a"
  },
  {
   "metadata": {},
   "cell_type": "code",
   "outputs": [],
   "execution_count": null,
   "source": "# 20",
   "id": "6d36a86b44b06b1e"
  },
  {
   "metadata": {},
   "cell_type": "markdown",
   "source": "# Deel D: Modelleren",
   "id": "8aaa879afde64411"
  },
  {
   "metadata": {},
   "cell_type": "markdown",
   "source": "21.\tTrain een model om de jaarlijkse CO2 uitstoot te voorspellen. Op hoeveel verschillende mogelijkheden kan deze split gemaakt worden?",
   "id": "396eae6d1e2b1064"
  },
  {
   "metadata": {},
   "cell_type": "code",
   "outputs": [],
   "execution_count": null,
   "source": "# 21",
   "id": "eff94d74f81231d4"
  },
  {
   "metadata": {},
   "cell_type": "markdown",
   "source": "22.\tTrain een model om de jaarlijkse CO2 uitstoot te voorspellen. Welke metric zou je gebruiken om te toetsen hoe goed je model is en waarom?\n",
   "id": "7d6b48c1b0354458"
  },
  {
   "metadata": {},
   "cell_type": "code",
   "outputs": [],
   "execution_count": null,
   "source": "# 22",
   "id": "db08e060bb6fad82"
  },
  {
   "metadata": {},
   "cell_type": "markdown",
   "source": "23.\tGeef de wiskunde functie van het model en pas deze toe op jouw eigen situatie (kies 1 groepsgenoot).",
   "id": "e85d4f5a3b2f61d"
  },
  {
   "metadata": {},
   "cell_type": "code",
   "outputs": [],
   "execution_count": null,
   "source": "# 23",
   "id": "8b79772595b6180c"
  },
  {
   "metadata": {},
   "cell_type": "markdown",
   "source": "24.\tGebruik toetsende statistiek en de resultaten van de 20-fold cross validation om te onderzoeken welk model significant beter is.",
   "id": "193d3dd705baa1a1"
  },
  {
   "metadata": {},
   "cell_type": "code",
   "outputs": [],
   "execution_count": null,
   "source": "# 24",
   "id": "3bb5e454af9d889e"
  },
  {
   "metadata": {},
   "cell_type": "markdown",
   "source": "25.\tSplits de target variabele op in 2 klassen, kies hiervoor een geschikte punt. Codeer de eerste groep als 0 en de tweede groep als 1. Welk model zou je nu kunnen gebruiken en waarom?\n",
   "id": "f75c5b9022dee18"
  },
  {
   "metadata": {},
   "cell_type": "code",
   "outputs": [],
   "execution_count": null,
   "source": "# 25",
   "id": "a54234c9d111cc2e"
  },
  {
   "metadata": {},
   "cell_type": "markdown",
   "source": "26.\tTrain een nieuw model op de nieuwe target, gebruik hierbij alleen de vijf meest invloedrijke onafhankelijke variabelen die je eerder hebt gekozen. Geef de wiskunde functie van dit model en pas deze toe op jouw eigen situatie (kies 1 groepsgenoot).\n",
   "id": "778eb798e0d65ff2"
  },
  {
   "metadata": {},
   "cell_type": "code",
   "outputs": [],
   "execution_count": null,
   "source": "# 26",
   "id": "5fc99fbbfa501809"
  },
  {
   "metadata": {},
   "cell_type": "markdown",
   "source": "27.\tSchrijf een conclusie op basis van de twee hoofdvragen van het portfolio (zie kopje ‘Vraagstellingen’)\n",
   "id": "59e834b70a39c195"
  },
  {
   "metadata": {
    "ExecuteTime": {
     "end_time": "2025-06-06T10:36:52.949940Z",
     "start_time": "2025-06-06T10:36:52.946666Z"
    }
   },
   "cell_type": "code",
   "source": "# 27",
   "id": "a3599af620119e74",
   "outputs": [],
   "execution_count": 1
  },
  {
   "metadata": {},
   "cell_type": "markdown",
   "source": "###",
   "id": "2f30e29335c63e96"
  }
 ],
 "metadata": {
  "kernelspec": {
   "display_name": "Python 3",
   "language": "python",
   "name": "python3"
  },
  "language_info": {
   "codemirror_mode": {
    "name": "ipython",
    "version": 2
   },
   "file_extension": ".py",
   "mimetype": "text/x-python",
   "name": "python",
   "nbconvert_exporter": "python",
   "pygments_lexer": "ipython2",
   "version": "2.7.6"
  }
 },
 "nbformat": 4,
 "nbformat_minor": 5
}
