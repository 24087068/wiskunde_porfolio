{
 "cells": [
  {
   "metadata": {},
   "cell_type": "code",
   "outputs": [],
   "execution_count": null,
   "source": "",
   "id": "5e116832723c1985"
  },
  {
   "metadata": {},
   "cell_type": "code",
   "outputs": [],
   "execution_count": null,
   "source": [
    "# Imports:\n",
    "import pandas as pd\n",
    "import numpy as np\n",
    "import matplotlib.pyplot as plt\n",
    "import seaborn as sns\n",
    "# Sklearn:\n",
    "from sklearn.model_selection import train_test_split\n",
    "from sklearn.neighbors import KNeighborsRegressor\n",
    "from sklearn.preprocessing import StandardScaler\n",
    "from sklearn.linear_model import LinearRegression\n",
    "from sklearn.model_selection import cross_val_score\n",
    "from sklearn.model_selection import KFold\n",
    "from sklearn.metrics import r2_score, mean_squared_error\n",
    "from sklearn.linear_model import LogisticRegression\n",
    "# Other:\n",
    "from scipy.stats import shapiro\n",
    "from scipy.stats import iqr\n",
    "from scipy.stats import ttest_rel\n",
    "\n",
    "# Data:\n",
    "pd.set_option('display.max_columns', None)\n",
    "df_co2 = pd.read_excel('Mobiliteitsdata.xlsx')\n",
    "print(\"Head of the data\")\n",
    "display(df_co2.head())\n",
    "print(\"Column list\")\n",
    "display(df_co2.columns.tolist())\n",
    "pd.set_option('display.max_columns', 10)"
   ],
   "id": "3b2a4f4557683e04"
  },
  {
   "metadata": {},
   "cell_type": "markdown",
   "source": "# Deel A: Data exploratie en voorbereiding",
   "id": "9eb4dc4ada3a6567"
  },
  {
   "metadata": {},
   "cell_type": "markdown",
   "source": "1.\tGeef voor elke variabele in de dataset weer tot welk meetniveau deze behoort.",
   "id": "34a5e8e217297c72"
  },
  {
   "metadata": {},
   "cell_type": "markdown",
   "source": [
    "| Variabele | Meetniveau |\n",
    "| --- | --- |\n",
    "| persoon_ID | Geen |\n",
    "| geslacht | Nominaal |\n",
    "| leeftijd | Ratio |\n",
    "| gewicht_KG | Ratio |\n",
    "| burgerlijke_staat | Nominaal |\n",
    "| jaarsalaris_eu | Ratio |\n",
    "| huishouden_grootte | Ratio |\n",
    "| stad | Nominaal |\n",
    "| provincie | Nominaal |\n",
    "| opleiding_niveau | Ordinaal |\n",
    "| autobezit | Nominaal |\n",
    "| fietsbezit | Nominaal |\n",
    "| elektrisch_auto | Nominaal |\n",
    "| km_auto_per_jaar | Ratio |\n",
    "| km_fiets_per_jaar | Ratio |\n",
    "| km_ov_per_jaar | Ratio |\n",
    "| km_vliegtuig_per_jaar | Ratio |\n",
    "| dagen_thuiswerken_per_week_pro_rato | Ratio |\n",
    "| dagen_kantoorwerken_per_week_pro_rato | Ratio |\n",
    "| dagen_in_buitenland_per_jaar | Ratio |\n",
    "| gebruik_carsharing | Ordinaal |\n",
    "| co2_uitstoot_per_jaar_KG | Ratio |"
   ],
   "id": "9fa19b522c93ebe2"
  },
  {
   "metadata": {},
   "cell_type": "code",
   "outputs": [],
   "execution_count": null,
   "source": [
    "# 1\n",
    "# Gemaakt in markdown. Wellicht dat we al eerder het ID droppen? Deze gaan we toch niet gebruiken\n",
    "# Mischien ook verstandig om hier ook toelichting bij te geven als dit nodig is?"
   ],
   "id": "935bb87689666c36"
  },
  {
   "metadata": {},
   "cell_type": "markdown",
   "source": "2.\tWaarom is het nodig om vooraf te bekijken tot welk meetniveau elke variabele behoort?",
   "id": "b4d0d102bae2235d"
  },
  {
   "metadata": {},
   "cell_type": "markdown",
   "source": [
    "Dit helpt ons om te bepalen welke statistische methode we gaan gebruiken en om te bepalen hoe we de data gaan voorbewerken.<br>\n",
    "(Mischien nog wat dieper op in gaan)"
   ],
   "id": "106699b25713b974"
  },
  {
   "metadata": {},
   "cell_type": "code",
   "outputs": [],
   "execution_count": null,
   "source": "# 2",
   "id": "b1d35de4e31b8936"
  },
  {
   "metadata": {},
   "cell_type": "markdown",
   "source": "3.\tGa na of er missende/niet kloppende/extreme waarden zijn in de dataset en ga hier op een adequate manier mee om.",
   "id": "359a79ffee06f464"
  },
  {
   "metadata": {},
   "cell_type": "code",
   "outputs": [],
   "execution_count": null,
   "source": [
    "# 3\n",
    "# import z-score\n",
    "from scipy.stats import zscore\n",
    "# Eerst missende waarden:\n",
    "mv = df_co2.isnull().mean() * 100\n",
    "print(\"Missende waarden percentage\")\n",
    "print(mv[mv > 0].sort_values(ascending=False).round(2))\n",
    "\n",
    "# Extreme waarden\n",
    "# Instellingen\n",
    "threshold = 3\n",
    "columns_to_check = df_co2.select_dtypes(include=[np.number]).columns.difference(['persoon_ID'])\n",
    "\n",
    "# Loop voor relevante kollomen\n",
    "for col in columns_to_check:\n",
    "    z_scores = zscore(df_co2[col].dropna())\n",
    "    extreme_mask = np.abs(z_scores) > threshold\n",
    "\n",
    "    if extreme_mask.any():\n",
    "        print(f\"Extreme waarden gedetecteerd in: {col}\")\n",
    "        sns.boxplot(x=df_co2[col])\n",
    "        plt.title(f\"Boxplot van {col}\")\n",
    "        plt.show()"
   ],
   "id": "5be122f5dd27b0c5"
  },
  {
   "metadata": {},
   "cell_type": "markdown",
   "source": "4.\tKies 2 onafhankelijke variabelen waarvan je denkt dat het invloed kan hebben op de jaarlijkse CO2 uitstoot. Visualiseer de verdeling van deze twee variabelen en de verdeling van de afhankelijke variabele.",
   "id": "97e5fbc981e13c5f"
  },
  {
   "metadata": {},
   "cell_type": "markdown",
   "source": [
    "Twee kolommen die ik heb gekozen met potential correlatie/invloed op \"co2_uitstoot_per_jaar_KG\" zijn: \"km_auto_per_jaar\" en \"km_vliegtuig_per_jaar\". Ik heb voor deze twee kolommen gekozen, omdat deze twee vervoermiddelen worden vaak gebruikt en gebruiken ook veel brandstof.\n",
    "\n",
    "Op de heatmap kan je zien dat ik had wel gelijk en deze twee variabelen hadden het grootste invloed. In het geval van de auto's er is een heel grote (bijna perfecte) positive correlatie, maar wat verrassing is, is dat hoewel vliegtuigen het tweede hoogste correlatie hierbij hebben die is nog steeds heel klein. Dit is een zwake positive correlatie dat betekent dat gebruiken van vliegtuigen heeft kleine invloed op co2 uitstoot per jaar in kilograms per kilometer. Het is belangrijk om te merken dat vliegtuigen worden gebruikt om grotere afstanden te reisen in kleine tijden en dus terwijl co2 productie per km kan veel minder zijn voor vliegtuigen,\n",
    "\n",
    "Ik heb voor hist plot gekozen, omdat die laat zien verdelingen goed.\n",
    "Er zijn geen afhankelijk variabelen met echte invloed (behalve co2 zelf) waarmee de correlatie zou groot zijn (alles minder dan 0.1 corr)."
   ],
   "id": "40fbaf1230ae19a0"
  },
  {
   "metadata": {},
   "cell_type": "code",
   "outputs": [],
   "execution_count": null,
   "source": [
    "# 4\n",
    "# heatmap\n",
    "numeric_cols = df_co2.select_dtypes(include=['int64', 'float64']).columns\n",
    "df_numeric = df_co2[numeric_cols]\n",
    "plt.figure(figsize=(10, 5))\n",
    "sns.heatmap(df_numeric.corr(), annot=True)\n",
    "plt.show()\n",
    "\n",
    "# columns\n",
    "car_kpy = df_co2['km_auto_per_jaar']\n",
    "plane_kpy = df_co2['km_vliegtuig_per_jaar']\n",
    "co2_py = df_co2['co2_uitstoot_per_jaar_KG']\n",
    "#sns.regplot(x=car_kpy, y=co2_py)\n",
    "#plt.show()\n",
    "#sns.regplot(x=plane_kpy, y=co2_py)\n",
    "#plt.show()\n",
    "\n",
    "# hist plot\n",
    "def hist_plot_maker(data, x):\n",
    "    sns.histplot(data=data, x=x)\n",
    "    plt.show()\n",
    "hist_plot_maker(df_co2, car_kpy)\n",
    "hist_plot_maker(df_co2, plane_kpy)\n",
    "hist_plot_maker(df_co2, co2_py)"
   ],
   "id": "9fbbdfd4e2134d0c"
  },
  {
   "metadata": {},
   "cell_type": "markdown",
   "source": "5.\tGeef een beschrijving van de 3 visualisaties met behulp van statistische termen.",
   "id": "4fe05215cf2a9752"
  },
  {
   "metadata": {},
   "cell_type": "markdown",
   "source": [
    "Bij alle visualizes er is grote hoeveelheid van data met ≈0 waarden, dit heeft een invloed bij de spread en verdeling van de data en betekent ook dat data is niet altijd qua statistieken \"netjes\" verdeeld. Het is ook de rede waarom ik heb gekozen om IQR in plaats van bereik te gebruiken.\n",
    "\n",
    "#1 (km_auto_per_jaar): Zonder extreme waarden mean, mode en mediaan zijn in ongeveer hetzelfde plek. Er is geen Skewness.\n",
    "\n",
    "#2 (km_vliegtuig_per_jaar): Er is grootste getallen op de linkerkant van de plot met kleinste getallen op de rechterkant. Dit geeft aan rechte/positive Skewness van 0.414 (kleine \"tail\" op rechte kant), met negatieve Kurtosis van -0.34, dus de \"peak\" is best wel \"flat\" in vergelijking met normaal verdeeld data.\n",
    "\n",
    "#3 (co2_uitstoot_per_jaar_KG): Vergelijkbare rechte Skewness met plot #2 (0.440) maar dan met grootse negative Kurtosis, dus te \"peak\" is nog meer \"flatter\".\n",
    "\n"
   ],
   "id": "4e738193ed9d5cd2"
  },
  {
   "metadata": {},
   "cell_type": "code",
   "outputs": [],
   "execution_count": null,
   "source": [
    "# 5\n",
    "# function with column statistics\n",
    "def show_statistics(var):\n",
    "    print(var.describe())\n",
    "    print(f\"Median: {var.median()}\")\n",
    "    print(f\"Skewness: {var.skew()}\")\n",
    "    print(f\"Kurtosis: {var.kurt()}\")\n",
    "    print(f\"IQR: {iqr(var)}\")\n",
    "    print(f\"Null: {var.isnull().sum()}\")\n",
    "print(\"--- km_auto_per_jaar ---\")\n",
    "show_statistics(car_kpy)\n",
    "print(\"--- km_vliegtuig_per_jaar ---\")\n",
    "show_statistics(plane_kpy)\n",
    "print(\"--- co2_uitstoot_per_jaar_KG ---\")\n",
    "show_statistics(co2_py)"
   ],
   "id": "7e848bf8285af2a1"
  },
  {
   "metadata": {},
   "cell_type": "markdown",
   "source": "6.\tToets, met behulp van statistiek, of de verdelingen (vraag 4) normaal verdeeld zijn.",
   "id": "42f16387f6bc5a6f"
  },
  {
   "metadata": {},
   "cell_type": "markdown",
   "source": "Ik heb een functie gemaakt die gebruikt shapiro om te berekenen of de verdelingen normaal verdeeld zijn. Dit is niet 100% accuraat maar met berekeningen uit vorige opdracht met statistieken krijg ik een goede beeld van de verdeling. Ik heb hierbij threshold van 0.05 p gezet, omdat dit de norm is in bepalen of de verschil klein genoeg is. Als die p groter is dan de threshold, dan de data is normaal verdeeld.",
   "id": "566a3895198fed4e"
  },
  {
   "metadata": {},
   "cell_type": "code",
   "outputs": [],
   "execution_count": null,
   "source": [
    "# 6\n",
    "def normaal_verdeeld(var):\n",
    "    stat, p = shapiro(var)\n",
    "    print(f\"Normaal Verdeeld: {p > 0.05} ({p})\")\n",
    "\n",
    "print(\"--- km_auto_per_jaar ---\")\n",
    "normaal_verdeeld(car_kpy)\n",
    "print(\"--- km_vliegtuig_per_jaar ---\")\n",
    "normaal_verdeeld(plane_kpy)\n",
    "print(\"--- co2_uitstoot_per_jaar_KG ---\")\n",
    "normaal_verdeeld(co2_py) # p van 1 kan niet hier kloppen..."
   ],
   "id": "f79a844256c98125"
  },
  {
   "metadata": {},
   "cell_type": "markdown",
   "source": "7.\tOm ervoor te zorgen dat de onafhankelijke variabelen gebruikt kunnen worden voor Machine Learning moeten ze getransformeerd worden. Geef per meetniveau aan wat er moet gebeuren en waarom.",
   "id": "3dc1a0591cc0c131"
  },
  {
   "metadata": {},
   "cell_type": "markdown",
   "source": [
    "In ider geval de data moet in de vorm van dataframe of numpy array zijn zonder null waarden en numerieke waarden.\n",
    "\n",
    "Nominaal: Categorische data zonder volgorde moet worden omgezet naar dummyvariabelen, zodat het model de categorieën kan gebruiken zonder te denken dat er een volgorde is.\n",
    "\n",
    "Ordinaal: Data moet naar numerieke waarden geconverteerd worden (mapping), zodat ze in een model kunnen worden ingevuld en voorspeld worden.\n",
    "\n",
    "Interval: Standarizatie (Z-scoren) uitvoeren om data op schaal te krijgen, zodat de data gelijk verdeeld is op de schaal bij verschillende variabelen.\n",
    "Ratio: Hetzelfde als bij Interval.\n"
   ],
   "id": "e5c91e8a19305166"
  },
  {
   "metadata": {},
   "cell_type": "markdown",
   "source": "8.\tVoer de transformatie uit. Let op dat je de getransformeerde variabelen in een nieuw dataframe opslaat, zodat je de oorspronkelijke waarden behoudt. De getransformeerde variabelen gebruik je alleen bij deel D. Zorg dat je inzicht krijgt in de relatie tussen de variabelen. Wat zijn je bevindingen?",
   "id": "7548e78be2fd7b8b"
  },
  {
   "metadata": {},
   "cell_type": "markdown",
   "source": "Ik heb copies gemaakt van dataframes om de organelle niet te veranderen. Daarna heb ik aanpassingen gemaakt op basis van opdracht 1 voor de kolommen.",
   "id": "5f84b9e7b67145f8"
  },
  {
   "metadata": {},
   "cell_type": "code",
   "outputs": [],
   "execution_count": null,
   "source": [
    "# 8\n",
    "# Dumming Nominaals:\n",
    "transformed_df_co2 = df_co2.copy()\n",
    "transformed_df_co2 = pd.get_dummies(transformed_df_co2, columns=['geslacht', 'burgerlijke_staat', 'stad', 'provincie', 'autobezit', 'fietsbezit', 'elektrisch_auto'], drop_first=True)\n",
    "\n",
    "# Mapping Ordinaals:\n",
    "print(transformed_df_co2['opleiding_niveau'].unique())\n",
    "print(transformed_df_co2['gebruik_carsharing'].unique())\n",
    "transformed_df_co2['opleiding_niveau'] = transformed_df_co2['opleiding_niveau'].map(\n",
    "    {'MBO': 1, 'HBO': 2, 'WO': 3})\n",
    "transformed_df_co2['gebruik_carsharing'] = transformed_df_co2['gebruik_carsharing'].map(\n",
    "    {'Nooit': 1, 'Heel soms': 2, 'Soms': 3, 'Vaak': 4, 'Altijd': 5})\n",
    "\n",
    "# Standardizing Ratios:\n",
    "ratio_cols = ['leeftijd', 'gewicht_KG', 'jaarsalaris_eu', 'huishouden_grootte','km_auto_per_jaar', 'km_fiets_per_jaar', 'km_ov_per_jaar', 'km_vliegtuig_per_jaar', 'dagen_thuiswerken_per_week_pro_rato', 'dagen_kantoorwerken_per_week_pro_rato', 'dagen_in_buitenland_per_jaar','co2_uitstoot_per_jaar_KG']\n",
    "\n",
    "scaler = StandardScaler()\n",
    "scaled_df_co2 = transformed_df_co2.copy()\n",
    "scaled_df_co2[ratio_cols] = scaler.fit_transform(scaled_df_co2[ratio_cols])"
   ],
   "id": "9c270b28d908fcd"
  },
  {
   "metadata": {},
   "cell_type": "markdown",
   "source": "9.\tWelke methode(n) heb je gebruikt en waarom?",
   "id": "b197ebf213c39dff"
  },
  {
   "metadata": {},
   "cell_type": "markdown",
   "source": "Methoden die heb ik hierbij gebruikt zijn .unique(), omdat ik had alle unique waarden van deze kolommen nodig om te beslissen wat moet ik met behulp van .map() mappen voor ordinaal kolommen. Ernaast heb ik StandardScaler() en fit_transform() hier gebruikt om de data te standarizieren (mean in het middle met elke std van 1) voor ratios. get_dummies() is hierbij gebruikt om categorisch data naar numeriek data te veranderen (elke unique waarde krijgt een kolom). Ik heb ook .copy() hier gebruikt om geen vertandingen aan main df te maken, er naas er is ook copy voor scalen gemaakt, omdat er waren twee df nodig.",
   "id": "1666a928a925a2ed"
  },
  {
   "metadata": {},
   "cell_type": "markdown",
   "source": "10.\tIs er sprake van multicollineariteit? Waarom zou dit een probleem kunnen zijn en wat zou jouw oplossing zijn?",
   "id": "44f9b8357645a7dd"
  },
  {
   "metadata": {},
   "cell_type": "code",
   "outputs": [],
   "execution_count": null,
   "source": [
    "# 10\n",
    "any_corrs = scaled_df_co2.corr()\n",
    "strong_corrs = []\n",
    "columns = any_corrs.columns\n",
    "for i in range(len(columns)):\n",
    "    for j in range(i+1, len(columns)): # om te voorkomen duplicate\n",
    "        col1 = columns[i] # eerste kolom\n",
    "        col2 = columns[j] # tweede kolom\n",
    "        corr_value = any_corrs.loc[col1, col2] # correlatie waarde\n",
    "        if abs(corr_value) > 0.5 and abs(corr_value) != 1: # filter en verwijder -\n",
    "            strong_corrs.append((col1, col2, corr_value))\n",
    "for col1, col2, corr in strong_corrs:\n",
    "    print(f\"{col1} VS {col2}: {corr:.2f}\")"
   ],
   "id": "45945b2703993879"
  },
  {
   "metadata": {},
   "cell_type": "markdown",
   "source": [
    "Mannen vs Vrouwen hebben hier perfecte negatieve correlatie coefficient, dat betekent dat als een positieve is dan de andere negatieve wordt (omdat dit is een binary kolom). Er naast km_auto_per jaar heeft sterke negatieve correlatie met autobezit_nee, hetzelfde hoort ook bij km_fiets_per_jaar vs fietsbezit_nee. Deze twee zijn logisch en ook verwacht. Bij predicitev model bouwen een van deze kolommen zou moeten verwijderd zijn om multicollineariteit te voorkomen. Dit zou een probleem zijn, omdat het geeft eigelijk een \"weight\" aan een kolom terwijl dat helemaal niet nodig is.\n",
    "\n",
    "Ik heb gekozen om deze for loop te gebruiken om correlaties te vinden van X variabelen. Heatmap was mij eerste idee maar na data transformatie er waren gewoon te veel kolommen."
   ],
   "id": "a3ef19d80e5d7ec7"
  },
  {
   "metadata": {},
   "cell_type": "markdown",
   "source": "11.\tBekijk de relatie tussen uitstoot CO2 en de andere onafhankelijke variabelen per geslacht. Kom je hier tot een andere conclusie dan bij vraag 8?",
   "id": "5ac3997238ee2d6a"
  },
  {
   "metadata": {},
   "cell_type": "code",
   "outputs": [],
   "execution_count": null,
   "source": [
    "# 11\n",
    "x_kolommen = ['km_auto_per_jaar', 'km_vliegtuig_per_jaar']\n",
    "for col in x_kolommen:\n",
    "    sns.lmplot(data=df_co2, x=col, y='co2_uitstoot_per_jaar_KG', hue='geslacht')\n",
    "    plt.title(f'{col} vs CO2 per geslacht')\n",
    "    plt.xlabel(col)\n",
    "    plt.ylabel('CO2 per jaar in kg')\n",
    "    plt.show()"
   ],
   "id": "17ceab42e6011528"
  },
  {
   "metadata": {},
   "cell_type": "markdown",
   "source": "# Deel B: Kansrekenen",
   "id": "c1c98e0b0d93c112"
  },
  {
   "metadata": {},
   "cell_type": "markdown",
   "source": "12.\tWat is de kans dat een willekeurig persoon 5000 KG CO2 uitstoot? Gebruik de standaard normaal verdeling in de berekening.",
   "id": "9294d5a2f187c1f8"
  },
  {
   "metadata": {},
   "cell_type": "code",
   "outputs": [],
   "execution_count": null,
   "source": "# 12",
   "id": "f3696e8b4be1ace"
  },
  {
   "metadata": {},
   "cell_type": "markdown",
   "source": "13.\tOp welke manier wordt, bij deze berekening, een van de technieken van calculus toegepast?",
   "id": "39d1e651533287fe"
  },
  {
   "metadata": {},
   "cell_type": "code",
   "outputs": [],
   "execution_count": null,
   "source": "# 13",
   "id": "abe0b557ede419d3"
  },
  {
   "metadata": {},
   "cell_type": "markdown",
   "source": "14.\tIs deze kans groter, gelijk of kleiner bij mannen t.o.v. vrouwen?",
   "id": "959786386f4ee4d1"
  },
  {
   "metadata": {},
   "cell_type": "code",
   "outputs": [],
   "execution_count": null,
   "source": "# 14",
   "id": "fe291f5b0df5e989"
  },
  {
   "metadata": {},
   "cell_type": "markdown",
   "source": "# Deel C: Toetsende statistiek",
   "id": "6f17e654e7381c48"
  },
  {
   "metadata": {},
   "cell_type": "markdown",
   "source": "15.\tStel de hypothesen op.",
   "id": "a5698272d1bdd8a3"
  },
  {
   "metadata": {},
   "cell_type": "code",
   "outputs": [],
   "execution_count": null,
   "source": "# 15",
   "id": "1bc5d1447900494d"
  },
  {
   "metadata": {},
   "cell_type": "markdown",
   "source": "16.\tWelke type fouten kunnen er gemaakt worden?",
   "id": "905a541507bb71df"
  },
  {
   "metadata": {},
   "cell_type": "code",
   "outputs": [],
   "execution_count": null,
   "source": "# 16",
   "id": "f470c0115b89396"
  },
  {
   "metadata": {},
   "cell_type": "markdown",
   "source": "17.\tWelke statistische toets moet je uitvoeren om te onderzoeken of er een significant verschil is?",
   "id": "784fc318ef6e16d3"
  },
  {
   "metadata": {},
   "cell_type": "code",
   "outputs": [],
   "execution_count": null,
   "source": "# 17",
   "id": "180daebd60e5cbed"
  },
  {
   "metadata": {},
   "cell_type": "markdown",
   "source": "18.\tVoer de toets uit.",
   "id": "d0bd36f2b6473943"
  },
  {
   "metadata": {},
   "cell_type": "code",
   "outputs": [],
   "execution_count": null,
   "source": "# 18",
   "id": "c07dcabfbc55cf3f"
  },
  {
   "metadata": {},
   "cell_type": "markdown",
   "source": "19.\tGeef in je eigen woorden een toelichting op de betekenis van de p-waarde.",
   "id": "95d3ce417e6ddc39"
  },
  {
   "metadata": {},
   "cell_type": "code",
   "outputs": [],
   "execution_count": null,
   "source": "# 19",
   "id": "646e12471192b91e"
  },
  {
   "metadata": {},
   "cell_type": "markdown",
   "source": "20.\tWelke conclusie kan je trekken?",
   "id": "7106b0e84dc5b3f8"
  },
  {
   "metadata": {},
   "cell_type": "code",
   "outputs": [],
   "execution_count": null,
   "source": "# 20",
   "id": "685c52df48f6221c"
  },
  {
   "metadata": {},
   "cell_type": "markdown",
   "source": "# Deel D: Modelleren",
   "id": "3bce1af24c82ef4c"
  },
  {
   "metadata": {},
   "cell_type": "markdown",
   "source": "21.\tTrain een model om de jaarlijkse CO2 uitstoot te voorspellen. Op hoeveel verschillende mogelijkheden kan deze split gemaakt worden?",
   "id": "ce3a148e6a50123c"
  },
  {
   "metadata": {},
   "cell_type": "markdown",
   "source": "Deze split kan op veel verschillende manieren gemaakt worden door test_size en random_state hyperparameters te tweaken. Maar verder een van de workflows is om y kolom te droppen voor X, en voor y allen y kolom te gebruiken. Sklearn module (train_test_split) wordt hier gebruikt om splitting automatisch te doen.",
   "id": "1db99fce62ea167f"
  },
  {
   "metadata": {},
   "cell_type": "code",
   "outputs": [],
   "execution_count": null,
   "source": [
    "# 21\n",
    "scaled_df_co2.dropna(inplace=True)\n",
    "# omdat er zo weinig nulwaarden waren ik heb gekozen om rows met missende waarden te verwijderen\n",
    "print(scaled_df_co2.isnull().sum()) # geen null waarden\n",
    "print(scaled_df_co2.dtypes) # numerieke kolommen\n",
    "print(type(scaled_df_co2)) # dataframe vorm\n",
    "# Data voldoet nu al aan machine learning criteria\n",
    "X = scaled_df_co2[['km_auto_per_jaar', 'km_vliegtuig_per_jaar']].values\n",
    "y = scaled_df_co2['co2_uitstoot_per_jaar_KG'].values\n",
    "X_train, X_test, y_train, y_test = train_test_split(X, y, test_size=0.2, random_state=21)\n"
   ],
   "id": "27d92f3b45cbcc01"
  },
  {
   "metadata": {},
   "cell_type": "markdown",
   "source": "22.\tTrain een model om de jaarlijkse CO2 uitstoot te voorspellen. Welke metric zou je gebruiken om te toetsen hoe goed je model is en waarom?\n",
   "id": "9f0bd19f437b10c3"
  },
  {
   "metadata": {},
   "cell_type": "markdown",
   "source": "Om te kijken hoe goed ons model werkt, zou ik RMSE hier gebruiken, omdat die terug gaat naar originele units en dus geeft aan de beste beeld van de performance van ons model. Er naas R^2 ik hierbij ook handing om te controleren om data op schaal te zetten en evalueren. Ik heb KFold gebruikt om meer accurate evaluatie te hebben. Data die gaan wij voorspellen is een regressie (geen binary data) dus metric systeem zo als confusion matrix of andere methoden die gebruiken True-Positives, True-Negatives, etc., zou hier niet goed kunnen werken.",
   "id": "120738546824d033"
  },
  {
   "metadata": {
    "ExecuteTime": {
     "end_time": "2025-06-22T14:14:37.067737Z",
     "start_time": "2025-06-22T14:14:37.023793Z"
    }
   },
   "cell_type": "code",
   "source": [
    "# 22\n",
    "X = scaled_df_co2[['km_auto_per_jaar', 'km_vliegtuig_per_jaar']].values\n",
    "y = scaled_df_co2['co2_uitstoot_per_jaar_KG'].values\n",
    "kf = KFold(n_splits=5, shuffle=True, random_state=42) # maak 5 folds\n",
    "reg = LinearRegression() # maak model\n",
    "rmse_scores = []\n",
    "r2_scores = []\n",
    "for fold, (train_idx, test_idx) in enumerate(kf.split(X)):\n",
    "    X_train, X_test = X[train_idx], X[test_idx] # features\n",
    "    y_train, y_test = y[train_idx], y[test_idx]\n",
    "    reg.fit(X_train, y_train)\n",
    "    y_pred = reg.predict(X_test)\n",
    "    rmse_scores.append(np.sqrt(mean_squared_error(y_test, y_pred)))\n",
    "    r2_scores.append(r2_score(y_test, y_pred))\n",
    "print(f\"Mean RMSE: {np.mean(rmse_scores).round(3)}\")\n",
    "print(f\"Mean R2: {np.mean(r2_scores).round(3)}\")"
   ],
   "id": "78d4b7c14982bef4",
   "outputs": [
    {
     "name": "stdout",
     "output_type": "stream",
     "text": [
      "Mean RMSE: 0.402\n",
      "Mean R2: 0.837\n"
     ]
    }
   ],
   "execution_count": 167
  },
  {
   "metadata": {},
   "cell_type": "markdown",
   "source": "23.\tGeef de wiskunde functie van het model en pas deze toe op jouw eigen situatie (kies 1 groepsgenoot).",
   "id": "5fdcee42e6369e72"
  },
  {
   "metadata": {},
   "cell_type": "markdown",
   "source": [
    "$$y = \\beta_0 + \\beta_1 \\cdot x_1 + \\beta_2 \\cdot x_2$$\n",
    "\n",
    "y: co2_uitstoot_per_jaar_KG.\n",
    "\n",
    "$x_1$: km_auto_per_jaar.\n",
    "\n",
    "$x_2$: km_vliegtuig_per_jaar.\n",
    "\n",
    "$\\beta_0$: Intercept (bias term).\n",
    "\n",
    "$\\beta_1$: Coefficient voor km_auto_per_jaar.\n",
    "\n",
    "$\\beta_2$: Coefficient voor km_vliegtuig_per_jaar."
   ],
   "id": "eaa0d0d349529bd2"
  },
  {
   "metadata": {},
   "cell_type": "code",
   "outputs": [],
   "execution_count": null,
   "source": [
    "# 23\n",
    "# GenAi: https://grok.com/share/c2hhcmQtMg%3D%3D_a47f4b25-838d-4d26-ab7d-42c72ace49fd\n",
    "# Voorbeeld data\n",
    "group_member_data = np.array([[12000, 5000]])  # [[km_auto_per_jaar, km_vliegtuig_per_jaar]]\n",
    "scaler = StandardScaler()\n",
    "scaler.fit(scaled_df_co2[['km_auto_per_jaar', 'km_vliegtuig_per_jaar']])\n",
    "scaled_group_member_data = scaler.transform(group_member_data)\n",
    "# voorspelling:\n",
    "predicted_co2 = reg.predict(scaled_group_member_data)\n",
    "\n",
    "print(f\"Voorspelling CO2: {predicted_co2[0]:.2f} kg per jaar\")"
   ],
   "id": "e617e3a080913a7e"
  },
  {
   "metadata": {},
   "cell_type": "markdown",
   "source": "24. Kies de vijf onafhankelijke variabelen die de meeste invloed hebben op de voorspelling. Train en test nu twee modellen (1: met alle variabelen en 2: met de vijf meest invloedrijke variabelen). Kies 1 metric om de nauwkeurigheden van de modellen te kwantificeren. Gebruik hiervoor 20-fold crossvalidation. Gebruik toetsende statistiek en de resultaten van de 20-fold cross validation om te onderzoeken welk model significant beter is.",
   "id": "1a2e5f393af0ded2"
  },
  {
   "metadata": {
    "ExecuteTime": {
     "end_time": "2025-06-22T14:16:11.659370Z",
     "start_time": "2025-06-22T14:16:11.466155Z"
    }
   },
   "cell_type": "code",
   "source": [
    "# 24\n",
    "# Functie die maakt 20 folds en bereikent RMSE voor elke split\n",
    "def rmse_20_reg(X, y):\n",
    "    kf = KFold(n_splits=20, shuffle=True, random_state=42)\n",
    "    reg = LinearRegression()\n",
    "    rmse_scores = []\n",
    "    for train_idx, test_idx in kf.split(X):\n",
    "        X_train, X_test = X[train_idx], X[test_idx]\n",
    "        y_train, y_test = y[train_idx], y[test_idx]\n",
    "        reg.fit(X_train, y_train)\n",
    "        y_pred = reg.predict(X_test)\n",
    "        rmse_scores.append(np.sqrt(mean_squared_error(y_test, y_pred)))\n",
    "    return rmse_scores\n",
    "\n",
    "# Top 5 features (X)\n",
    "co2_corr = scaled_df_co2.corr()['co2_uitstoot_per_jaar_KG'].sort_values(ascending=False)\n",
    "top5_features = co2_corr.drop('co2_uitstoot_per_jaar_KG').head(5).index.tolist()\n",
    "print(top5_features)\n",
    "\n",
    "# Split data in X met alle kolommen behalve y, en andere X met alleen maar top 5 kolommen, en naar y kolom\n",
    "X_all = scaled_df_co2.drop('co2_uitstoot_per_jaar_KG', axis=1).values\n",
    "X_top5 = scaled_df_co2[top5_features].values\n",
    "y = scaled_df_co2['co2_uitstoot_per_jaar_KG'].values\n",
    "\n",
    "# Gebruik custom functie om data in folds te trainen en testen en berekenen de RMSE van elke fold\n",
    "rmse_all = rmse_20_reg(X_all, y)\n",
    "rmse_top5 = rmse_20_reg(X_top5, y)\n",
    "print(f\"Alle kolommen RMSE: {np.mean(rmse_all).round(3)}\")\n",
    "print(f\"Top 5 kolommen RMSE: {np.mean(rmse_top5).round(3)}\")\n",
    "\n",
    "# t-test en p-value\n",
    "t_stat, p_value = ttest_rel(rmse_all, rmse_top5)\n",
    "print(f\"T-test p-value: {p_value.round(3)}\")\n",
    "if p_value < 0.05:\n",
    "    print(\"H0 rejected (er is een significant verschil trussen modellen)\")\n",
    "else:\n",
    "    print(\"Er is geen statistische verschil\")"
   ],
   "id": "3c5b7a95cd3694ed",
   "outputs": [
    {
     "name": "stdout",
     "output_type": "stream",
     "text": [
      "['km_auto_per_jaar', 'elektrisch_auto_nee', 'km_vliegtuig_per_jaar', 'dagen_in_buitenland_per_jaar', 'km_ov_per_jaar']\n",
      "Alle kolommen RMSE: 0.267\n",
      "Top 5 kolommen RMSE: 0.261\n",
      "T-test p-value: 0.001\n",
      "H0 rejected (er is een significant verschil trussen modellen)\n"
     ]
    }
   ],
   "execution_count": 168
  },
  {
   "metadata": {},
   "cell_type": "markdown",
   "source": "Ik heb voor RMSE gekozen, omdat die laat het verschil (errors) zien in echte units. Er naast door mij berekening blijkt dat p_value bij t-test kleiner dat 0.05 is, dat betekent dat H0 hypothesis hier rejected wordt. Op basis van dat ik trek een conlusie dat het verschil tussen modellen is statistisch aanwezig.",
   "id": "b43b8b449ce21183"
  },
  {
   "metadata": {},
   "cell_type": "markdown",
   "source": "25.\tSplits de target variabele op in 2 klassen, kies hiervoor een geschikte punt. Codeer de eerste groep als 0 en de tweede groep als 1. Welk model zou je nu kunnen gebruiken en waarom?\n",
   "id": "a9bc3ba4fca6a424"
  },
  {
   "metadata": {},
   "cell_type": "markdown",
   "source": "Ik heb gekozen om data splitsen in het middle van totaal hoeveelheid, daarom heb ik median hier gebruikt om die als criteria van middel te bepalen. Deze split verdeeld y in binare data en dus een logistieke regressie is hierbij mogelijk en aangeraden. Ernaast deze model kan dat geëvalueerd worden met True positive, True negatieve, False positieve en False negatieve op confusion matrix en metric scoren zoals precision, recall en f1.",
   "id": "7ae683d62ebcf174"
  },
  {
   "metadata": {},
   "cell_type": "code",
   "outputs": [],
   "execution_count": null,
   "source": [
    "# 25\n",
    "median_co2 = scaled_df_co2['co2_uitstoot_per_jaar_KG'].median()\n",
    "co2_0 = scaled_df_co2[scaled_df_co2['co2_uitstoot_per_jaar_KG'] <= median_co2]\n",
    "co2_1 = scaled_df_co2[scaled_df_co2['co2_uitstoot_per_jaar_KG'] > median_co2]\n",
    "print(co2_0['co2_uitstoot_per_jaar_KG'].describe()) # Ik gebruik hier .describe() om te kijken of waarden kloppen bij mediaan verdeling\n",
    "print(\"---\" * 100)\n",
    "print(co2_1['co2_uitstoot_per_jaar_KG'].describe())"
   ],
   "id": "240c946a1b205e49"
  },
  {
   "metadata": {},
   "cell_type": "markdown",
   "source": "26.\tTrain een nieuw model op de nieuwe target, gebruik hierbij alleen de vijf meest invloedrijke onafhankelijke variabelen die je eerder hebt gekozen. Geef de wiskunde functie van dit model en pas deze toe op jouw eigen situatie (kies 1 groepsgenoot).\n",
   "id": "fb4d0982b9d4a25a"
  },
  {
   "metadata": {},
   "cell_type": "code",
   "outputs": [],
   "execution_count": null,
   "source": [
    "# 26\n",
    "# Bron: https://pandas.pydata.org/docs/reference/api/pandas.DataFrame.astype.html\n",
    "# Maak binary kolom aan op basis van mediaan criteria en split data in X en y om ze te trainen\n",
    "X = scaled_df_co2[top5_features]\n",
    "y = (scaled_df_co2['co2_uitstoot_per_jaar_KG'] > median_co2).astype(int)\n",
    "X_train, X_test, y_train, y_test = train_test_split(X, y, test_size=0.2, random_state=21)\n",
    "\n",
    "# Logistic regressie om binary data te voorspellen:\n",
    "model = LogisticRegression(max_iter=1000) # max_iter om balans te houden tussen goede voorspellingen en efficient m\n",
    "model.fit(X_train, y_train)\n",
    "\n",
    "# Evaluate model accuracy\n",
    "accuracy = model.score(X_test, y_test)\n",
    "print(f\"Logistic accuracy: {accuracy}\") # om te kijken hoe vaak logistic regressie maakt een error, dit is een goede metric systeem hier, omdat data die wordt voorspelt is binary.\n",
    "print(\"---\" * 100)\n",
    "\n",
    "# wiskunde functie van model\n",
    "# GenAI: https://grok.com/share/c2hhcmQtMg%3D%3D_7455cf79-92fe-4373-9ef8-8ee6b232beb4\n",
    "# Get coefficients en intercept\n",
    "coefficients = model.coef_[0]\n",
    "intercept = model.intercept_[0]\n",
    "print(\"Wiskundige functie (z):\")\n",
    "print(f\"z = {intercept:.3f} + \", end=\"\")\n",
    "for coef, feature in zip(coefficients, top5_features):\n",
    "    print(f\"{coef:.3f} * {feature} + \", end=\"\")\n",
    "print(\"\\b\\b\")\n",
    "\n",
    "# Groepsgenoot voorbeeld\n",
    "group_member_data = np.array([[15000, 6.5, 1400, 100, 5]])  # [[km_auto_per_jaar, elektrisch_auto_nee, km_vliegtuig_per_jaar, dagen_in_buitenland_per_jaar, km_ov_per_jaar]]\n",
    "scaler = StandardScaler()\n",
    "scaler.fit(scaled_df_co2[top5_features])\n",
    "scaled_group_member_data = scaler.transform(group_member_data)\n",
    "# voorspelling:\n",
    "predicted_co2 = model.predict_proba(scaled_group_member_data)\n",
    "print(predicted_co2)"
   ],
   "id": "9b92309aab851a9a"
  },
  {
   "metadata": {},
   "cell_type": "markdown",
   "source": "Uit het resultaat blijk het dat accuracy voor onze logistic model is heel hoog. Dit is een kenmerk van goed gekozene features voor het trainen van model om y te voorspellen.",
   "id": "754c9a8817ff0599"
  },
  {
   "metadata": {},
   "cell_type": "markdown",
   "source": "27.\tSchrijf een conclusie op basis van de twee hoofdvragen van het portfolio (zie kopje ‘Vraagstellingen’)\n",
   "id": "5576fe16b381cd7"
  },
  {
   "metadata": {},
   "cell_type": "markdown",
   "source": "- Welke persoonlijke en mobiliteitsgerelateerde factoren verklaren verschillen in de jaarlijkse CO₂-uitstoot tussen burgers?",
   "id": "c7f98cd3b6367b95"
  },
  {
   "metadata": {},
   "cell_type": "markdown",
   "source": "",
   "id": "77acaac65d0cf688"
  },
  {
   "metadata": {},
   "cell_type": "markdown",
   "source": "- In welke mate kunnen we individuele uitstoot nauwkeurig voorspellen op basis van een combinatie van sociaaldemografische kenmerken en mobiliteitsgedrag?",
   "id": "ccf3825cfcded290"
  },
  {
   "metadata": {},
   "cell_type": "markdown",
   "source": "",
   "id": "aa34683cd51af3e8"
  },
  {
   "metadata": {},
   "cell_type": "code",
   "outputs": [],
   "execution_count": null,
   "source": "# 27",
   "id": "ccf72fda8d5996d5"
  }
 ],
 "metadata": {
  "kernelspec": {
   "display_name": "Python 3",
   "language": "python",
   "name": "python3"
  },
  "language_info": {
   "codemirror_mode": {
    "name": "ipython",
    "version": 2
   },
   "file_extension": ".py",
   "mimetype": "text/x-python",
   "name": "python",
   "nbconvert_exporter": "python",
   "pygments_lexer": "ipython2",
   "version": "2.7.6"
  }
 },
 "nbformat": 4,
 "nbformat_minor": 5
}
