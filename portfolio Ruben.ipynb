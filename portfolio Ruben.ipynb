{
 "cells": [
  {
   "cell_type": "code",
   "execution_count": 2,
   "id": "624c5e9fa39c923c",
   "metadata": {
    "ExecuteTime": {
     "end_time": "2025-06-13T10:11:36.398306Z",
     "start_time": "2025-06-13T10:11:35.311653Z"
    }
   },
   "outputs": [
    {
     "name": "stdout",
     "output_type": "stream",
     "text": [
      "Head of the data\n"
     ]
    },
    {
     "data": {
      "text/html": [
       "<div>\n",
       "<style scoped>\n",
       "    .dataframe tbody tr th:only-of-type {\n",
       "        vertical-align: middle;\n",
       "    }\n",
       "\n",
       "    .dataframe tbody tr th {\n",
       "        vertical-align: top;\n",
       "    }\n",
       "\n",
       "    .dataframe thead th {\n",
       "        text-align: right;\n",
       "    }\n",
       "</style>\n",
       "<table border=\"1\" class=\"dataframe\">\n",
       "  <thead>\n",
       "    <tr style=\"text-align: right;\">\n",
       "      <th></th>\n",
       "      <th>persoon_ID</th>\n",
       "      <th>geslacht</th>\n",
       "      <th>leeftijd</th>\n",
       "      <th>gewicht_KG</th>\n",
       "      <th>burgerlijke_staat</th>\n",
       "      <th>jaarsalaris_eu</th>\n",
       "      <th>huishouden_grootte</th>\n",
       "      <th>stad</th>\n",
       "      <th>provincie</th>\n",
       "      <th>opleiding_niveau</th>\n",
       "      <th>autobezit</th>\n",
       "      <th>fietsbezit</th>\n",
       "      <th>elektrisch_auto</th>\n",
       "      <th>km_auto_per_jaar</th>\n",
       "      <th>km_fiets_per_jaar</th>\n",
       "      <th>km_ov_per_jaar</th>\n",
       "      <th>km_vliegtuig_per_jaar</th>\n",
       "      <th>dagen_thuiswerken_per_week_pro_rato</th>\n",
       "      <th>dagen_kantoorwerken_per_week_pro_rato</th>\n",
       "      <th>dagen_in_buitenland_per_jaar</th>\n",
       "      <th>gebruik_carsharing</th>\n",
       "      <th>co2_uitstoot_per_jaar_KG</th>\n",
       "    </tr>\n",
       "  </thead>\n",
       "  <tbody>\n",
       "    <tr>\n",
       "      <th>0</th>\n",
       "      <td>811069</td>\n",
       "      <td>man</td>\n",
       "      <td>50</td>\n",
       "      <td>52.66</td>\n",
       "      <td>weduwe/weduwnaar</td>\n",
       "      <td>48003.64</td>\n",
       "      <td>5</td>\n",
       "      <td>Almere</td>\n",
       "      <td>Flevoland</td>\n",
       "      <td>MBO</td>\n",
       "      <td>ja</td>\n",
       "      <td>ja</td>\n",
       "      <td>nee</td>\n",
       "      <td>13266.05</td>\n",
       "      <td>2040.54</td>\n",
       "      <td>3227.95</td>\n",
       "      <td>480.71</td>\n",
       "      <td>4</td>\n",
       "      <td>1</td>\n",
       "      <td>20</td>\n",
       "      <td>Nooit</td>\n",
       "      <td>7591.93</td>\n",
       "    </tr>\n",
       "    <tr>\n",
       "      <th>1</th>\n",
       "      <td>246882</td>\n",
       "      <td>vrouw</td>\n",
       "      <td>65</td>\n",
       "      <td>64.58</td>\n",
       "      <td>samenwonend</td>\n",
       "      <td>55208.63</td>\n",
       "      <td>2</td>\n",
       "      <td>Leeuwarden</td>\n",
       "      <td>Overijssel</td>\n",
       "      <td>WO</td>\n",
       "      <td>ja</td>\n",
       "      <td>nee</td>\n",
       "      <td>nee</td>\n",
       "      <td>15229.89</td>\n",
       "      <td>0.00</td>\n",
       "      <td>2298.96</td>\n",
       "      <td>1423.34</td>\n",
       "      <td>5</td>\n",
       "      <td>0</td>\n",
       "      <td>7</td>\n",
       "      <td>Heel soms</td>\n",
       "      <td>8742.25</td>\n",
       "    </tr>\n",
       "    <tr>\n",
       "      <th>2</th>\n",
       "      <td>978385</td>\n",
       "      <td>man</td>\n",
       "      <td>49</td>\n",
       "      <td>90.87</td>\n",
       "      <td>samenwonend</td>\n",
       "      <td>29533.78</td>\n",
       "      <td>2</td>\n",
       "      <td>Tilburg</td>\n",
       "      <td>Utrecht</td>\n",
       "      <td>HBO</td>\n",
       "      <td>ja</td>\n",
       "      <td>ja</td>\n",
       "      <td>ja</td>\n",
       "      <td>19853.24</td>\n",
       "      <td>1540.46</td>\n",
       "      <td>4504.21</td>\n",
       "      <td>632.48</td>\n",
       "      <td>4</td>\n",
       "      <td>1</td>\n",
       "      <td>2</td>\n",
       "      <td>Altijd</td>\n",
       "      <td>4513.56</td>\n",
       "    </tr>\n",
       "    <tr>\n",
       "      <th>3</th>\n",
       "      <td>120468</td>\n",
       "      <td>man</td>\n",
       "      <td>34</td>\n",
       "      <td>80.43</td>\n",
       "      <td>gehuwd</td>\n",
       "      <td>44453.27</td>\n",
       "      <td>2</td>\n",
       "      <td>Maastricht</td>\n",
       "      <td>Utrecht</td>\n",
       "      <td>HBO</td>\n",
       "      <td>ja</td>\n",
       "      <td>ja</td>\n",
       "      <td>nee</td>\n",
       "      <td>9935.50</td>\n",
       "      <td>1825.92</td>\n",
       "      <td>4407.56</td>\n",
       "      <td>1266.84</td>\n",
       "      <td>3</td>\n",
       "      <td>2</td>\n",
       "      <td>21</td>\n",
       "      <td>Heel soms</td>\n",
       "      <td>6904.41</td>\n",
       "    </tr>\n",
       "    <tr>\n",
       "      <th>4</th>\n",
       "      <td>637034</td>\n",
       "      <td>man</td>\n",
       "      <td>60</td>\n",
       "      <td>72.28</td>\n",
       "      <td>ongehuwd</td>\n",
       "      <td>56497.64</td>\n",
       "      <td>2</td>\n",
       "      <td>Leiden</td>\n",
       "      <td>Gelderland</td>\n",
       "      <td>MBO</td>\n",
       "      <td>ja</td>\n",
       "      <td>ja</td>\n",
       "      <td>ja</td>\n",
       "      <td>16266.67</td>\n",
       "      <td>1851.07</td>\n",
       "      <td>1936.12</td>\n",
       "      <td>1676.00</td>\n",
       "      <td>0</td>\n",
       "      <td>5</td>\n",
       "      <td>0</td>\n",
       "      <td>Nooit</td>\n",
       "      <td>4420.80</td>\n",
       "    </tr>\n",
       "  </tbody>\n",
       "</table>\n",
       "</div>"
      ],
      "text/plain": [
       "   persoon_ID geslacht  leeftijd  gewicht_KG burgerlijke_staat  \\\n",
       "0      811069      man        50       52.66  weduwe/weduwnaar   \n",
       "1      246882    vrouw        65       64.58       samenwonend   \n",
       "2      978385      man        49       90.87       samenwonend   \n",
       "3      120468      man        34       80.43            gehuwd   \n",
       "4      637034      man        60       72.28          ongehuwd   \n",
       "\n",
       "   jaarsalaris_eu  huishouden_grootte        stad   provincie  \\\n",
       "0        48003.64                   5      Almere   Flevoland   \n",
       "1        55208.63                   2  Leeuwarden  Overijssel   \n",
       "2        29533.78                   2     Tilburg     Utrecht   \n",
       "3        44453.27                   2  Maastricht     Utrecht   \n",
       "4        56497.64                   2      Leiden  Gelderland   \n",
       "\n",
       "  opleiding_niveau autobezit fietsbezit elektrisch_auto  km_auto_per_jaar  \\\n",
       "0              MBO        ja         ja             nee          13266.05   \n",
       "1               WO        ja        nee             nee          15229.89   \n",
       "2              HBO        ja         ja              ja          19853.24   \n",
       "3              HBO        ja         ja             nee           9935.50   \n",
       "4              MBO        ja         ja              ja          16266.67   \n",
       "\n",
       "   km_fiets_per_jaar  km_ov_per_jaar  km_vliegtuig_per_jaar  \\\n",
       "0            2040.54         3227.95                 480.71   \n",
       "1               0.00         2298.96                1423.34   \n",
       "2            1540.46         4504.21                 632.48   \n",
       "3            1825.92         4407.56                1266.84   \n",
       "4            1851.07         1936.12                1676.00   \n",
       "\n",
       "   dagen_thuiswerken_per_week_pro_rato  dagen_kantoorwerken_per_week_pro_rato  \\\n",
       "0                                    4                                      1   \n",
       "1                                    5                                      0   \n",
       "2                                    4                                      1   \n",
       "3                                    3                                      2   \n",
       "4                                    0                                      5   \n",
       "\n",
       "   dagen_in_buitenland_per_jaar gebruik_carsharing  co2_uitstoot_per_jaar_KG  \n",
       "0                            20              Nooit                   7591.93  \n",
       "1                             7          Heel soms                   8742.25  \n",
       "2                             2             Altijd                   4513.56  \n",
       "3                            21          Heel soms                   6904.41  \n",
       "4                             0              Nooit                   4420.80  "
      ]
     },
     "metadata": {},
     "output_type": "display_data"
    },
    {
     "name": "stdout",
     "output_type": "stream",
     "text": [
      "Column list\n"
     ]
    },
    {
     "data": {
      "text/plain": [
       "['persoon_ID',\n",
       " 'geslacht',\n",
       " 'leeftijd',\n",
       " 'gewicht_KG',\n",
       " 'burgerlijke_staat',\n",
       " 'jaarsalaris_eu',\n",
       " 'huishouden_grootte',\n",
       " 'stad',\n",
       " 'provincie',\n",
       " 'opleiding_niveau',\n",
       " 'autobezit',\n",
       " 'fietsbezit',\n",
       " 'elektrisch_auto',\n",
       " 'km_auto_per_jaar',\n",
       " 'km_fiets_per_jaar',\n",
       " 'km_ov_per_jaar',\n",
       " 'km_vliegtuig_per_jaar',\n",
       " 'dagen_thuiswerken_per_week_pro_rato',\n",
       " 'dagen_kantoorwerken_per_week_pro_rato',\n",
       " 'dagen_in_buitenland_per_jaar',\n",
       " 'gebruik_carsharing',\n",
       " 'co2_uitstoot_per_jaar_KG']"
      ]
     },
     "metadata": {},
     "output_type": "display_data"
    }
   ],
   "source": [
    "# Imports:\n",
    "import pandas as pd\n",
    "import numpy as np\n",
    "import matplotlib.pyplot as plt\n",
    "import seaborn as sns\n",
    "# Sklearn:\n",
    "from sklearn.model_selection import train_test_split\n",
    "from sklearn.model_selection import KFold\n",
    "from sklearn.linear_model import LinearRegression\n",
    "from sklearn.neighbors import KNeighborsRegressor\n",
    "from sklearn.preprocessing import StandardScaler\n",
    "# Other:\n",
    "from scipy.stats import shapiro\n",
    "from scipy.stats import iqr\n",
    "\n",
    "# Data:\n",
    "pd.set_option('display.max_columns', None)\n",
    "df_co2 = pd.read_excel('Mobiliteitsdata.xlsx')\n",
    "print(\"Head of the data\")\n",
    "display(df_co2.head())\n",
    "print(\"Column list\")\n",
    "display(df_co2.columns.tolist())\n",
    "pd.set_option('display.max_columns', 10)"
   ]
  },
  {
   "cell_type": "markdown",
   "id": "3c3ad412d8cafae6",
   "metadata": {},
   "source": [
    "# Deel A: Data exploratie en voorbereiding"
   ]
  },
  {
   "cell_type": "markdown",
   "id": "cfc770d5c37832cd",
   "metadata": {},
   "source": [
    "1.\tGeef voor elke variabele in de dataset weer tot welk meetniveau deze behoort."
   ]
  },
  {
   "attachments": {},
   "cell_type": "markdown",
   "id": "306c2732",
   "metadata": {},
   "source": [
    "\n",
    "\n",
    "| **Variabele**               | **Meetniveau**      | **Uitleg**                                                                 |\n",
    "|-----------------------------|---------------------|----------------------------------------------------------------------------|\n",
    "| Geslacht                    | Nominaal            | Man/vrouw, geen ordening.                                                  |\n",
    "| Leeftijd                    | Ratio               | Continue numerieke waarde (absoluut nulpunt = 0).                          |\n",
    "| Gewicht (kg)                | Ratio               | Continue numerieke waarde.                                                 |\n",
    "| Burgerlijke staat           | Nominaal            | Categorieën zoals \"gehuwd\", \"samenwonend\", etc. (geen rangorde).           |\n",
    "| Jaarsalaris (€)             | Ratio               | Discreet* maar behandeld als continue variabele.                           |\n",
    "| Huishouden grootte (1–5)    | Ordinaal            | Numerieke schaal met rangorde, geen gelijke intervallen.                   |\n",
    "| Stad & Provincie            | Nominaal            | Categorieën zonder ordening (bijv. Amsterdam, Utrecht).                    |\n",
    "| Opleidingsniveau            | Ordinaal            | Rangorde: MBO < HBO < WO.                                                  |\n",
    "| Autobezit / Fietsbezit      | Nominaal            | Binaire variabele (ja/nee).                                                |\n",
    "| Elektrische auto            | Nominaal            | Binaire variabele (ja/nee).                                                |\n",
    "| Kilometers (auto/fiets/OV/vliegtuig) | Ratio       | Continue numerieke waarden.                                                |\n",
    "| Dagen thuiswerken/kantoor   | Ordinaal* of Ratio  | Technisch ratio (aantal dagen), maar soms ordinaal geïnterpreteerd.        |\n",
    "| Dagen in buitenland         | Ratio               | Numerieke telling.                                                         |\n",
    "| Carsharing-gebruik          | Nominaal            | Categorieën (bijv. \"nooit\", \"soms\", \"vaak\").                               |\n",
    "| CO₂-uitstoot (kg)           | Ratio               | Continue numerieke waarde.                                                 |\n"
   ]
  },
  {
   "cell_type": "code",
   "execution_count": 3,
   "id": "4b0010c823f81a75",
   "metadata": {
    "ExecuteTime": {
     "end_time": "2025-06-13T07:34:37.885200Z",
     "start_time": "2025-06-13T07:34:37.881431Z"
    }
   },
   "outputs": [],
   "source": [
    "# 1\n",
    "# Gemaakt in markdown. Wellicht hebben we het personen ID weggelaten, Deze gaan we toch niet gebruiken voor statistische onderzoeken.\n"
   ]
  },
  {
   "cell_type": "markdown",
   "id": "37e962b731cacbc2",
   "metadata": {},
   "source": [
    "2.\tWaarom is het nodig om vooraf te bekijken tot welk meetniveau elke variabele behoort?"
   ]
  },
  {
   "attachments": {},
   "cell_type": "markdown",
   "id": "95645fef",
   "metadata": {},
   "source": [
    "Door te kijken naar het meetniveau van elke variabele, krijg je al snel inzicht in hoe je met die variabelen kunt omgaan binnen je analyse. Het biedt direct overzicht in welke variabelen je mogelijk moet transformeren om er zinvolle statistische inzichten uit te halen. Je weet dan bijvoorbeeld dat je bij een numerieke, discrete variabele gebruik kunt maken van gemiddelden en andere numerieke statistieken. Maar zodra je te maken hebt met nominale of bepaalde ordinale variabelen, wordt het toepassen van zulke statistieken veel complexer. Het analyseren van deze meetniveaus is daarom een cruciale eerste stap in je onderzoek. Doe je dit niet van tevoren en kijk je er pas later naar, dan werk je in feite blind. Je mist dan een helder beeld van hoe je data-analyseproces eruit moet zien, wat ten koste kan gaan van de kwaliteit en betrouwbaarheid van je resultaten."
   ]
  },
  {
   "cell_type": "markdown",
   "id": "c046f5961ec561a7",
   "metadata": {},
   "source": [
    "3.\tGa na of er missende/niet kloppende/extreme waarden zijn in de dataset en ga hier op een adequate manier mee om."
   ]
  },
  {
   "cell_type": "code",
   "execution_count": 4,
   "id": "860a036d1369cb34",
   "metadata": {
    "ExecuteTime": {
     "end_time": "2025-06-13T07:34:38.745357Z",
     "start_time": "2025-06-13T07:34:37.917321Z"
    }
   },
   "outputs": [
    {
     "name": "stdout",
     "output_type": "stream",
     "text": [
      "Missende waarden percentage\n",
      "co2_uitstoot_per_jaar_KG    0.47\n",
      "jaarsalaris_eu              0.07\n",
      "stad                        0.07\n",
      "opleiding_niveau            0.07\n",
      "autobezit                   0.07\n",
      "dtype: float64\n",
      "Extreme waarden gedetecteerd in: co2_uitstoot_per_jaar_KG\n"
     ]
    },
    {
     "data": {
      "image/png": "[encoded data removed]",
      "text/plain": [
       "<Figure size 640x480 with 1 Axes>"
      ]
     },
     "metadata": {},
     "output_type": "display_data"
    },
    {
     "name": "stdout",
     "output_type": "stream",
     "text": [
      "Aantal extreme waarden: 3\n",
      "Percentage extreme waarden: 0.20%\n",
      "Extreme waarden gedetecteerd in: gewicht_KG\n"
     ]
    },
    {
     "data": {
      "image/png": "[encoded data removed]",
      "text/plain": [
       "<Figure size 640x480 with 1 Axes>"
      ]
     },
     "metadata": {},
     "output_type": "display_data"
    },
    {
     "name": "stdout",
     "output_type": "stream",
     "text": [
      "Aantal extreme waarden: 6\n",
      "Percentage extreme waarden: 0.40%\n",
      "Extreme waarden gedetecteerd in: jaarsalaris_eu\n"
     ]
    },
    {
     "data": {
      "image/png": "[encoded data removed]",
      "text/plain": [
       "<Figure size 640x480 with 1 Axes>"
      ]
     },
     "metadata": {},
     "output_type": "display_data"
    },
    {
     "name": "stdout",
     "output_type": "stream",
     "text": [
      "Aantal extreme waarden: 5\n",
      "Percentage extreme waarden: 0.33%\n",
      "Extreme waarden gedetecteerd in: km_auto_per_jaar\n"
     ]
    },
    {
     "data": {
      "image/png": "[encoded data removed]",
      "text/plain": [
       "<Figure size 640x480 with 1 Axes>"
      ]
     },
     "metadata": {},
     "output_type": "display_data"
    },
    {
     "name": "stdout",
     "output_type": "stream",
     "text": [
      "Aantal extreme waarden: 1\n",
      "Percentage extreme waarden: 0.07%\n",
      "Extreme waarden gedetecteerd in: km_ov_per_jaar\n"
     ]
    },
    {
     "data": {
      "image/png": "[encoded data removed]",
      "text/plain": [
       "<Figure size 640x480 with 1 Axes>"
      ]
     },
     "metadata": {},
     "output_type": "display_data"
    },
    {
     "name": "stdout",
     "output_type": "stream",
     "text": [
      "Aantal extreme waarden: 3\n",
      "Percentage extreme waarden: 0.20%\n",
      "Extreme waarden gedetecteerd in: km_vliegtuig_per_jaar\n"
     ]
    },
    {
     "data": {
      "image/png": "[encoded data removed]",
      "text/plain": [
       "<Figure size 640x480 with 1 Axes>"
      ]
     },
     "metadata": {},
     "output_type": "display_data"
    },
    {
     "name": "stdout",
     "output_type": "stream",
     "text": [
      "Aantal extreme waarden: 2\n",
      "Percentage extreme waarden: 0.13%\n"
     ]
    }
   ],
   "source": [
    "# 3\n",
    "# import z-score\n",
    "from scipy.stats import zscore\n",
    "import numpy as np\n",
    "import pandas as pd\n",
    "\n",
    "# Eerst missende waarden:\n",
    "mv = df_co2.isnull().mean() * 100\n",
    "print(\"Missende waarden percentage\")\n",
    "print(mv[mv > 0].sort_values(ascending=False).round(2))\n",
    "\n",
    "# Strategie voor missende waarden\n",
    "# Voor numerieke kolommen: mediaan imputatie (robuuster dan gemiddelde)\n",
    "# Voor categorische kolommen: meest voorkomende waarde (modus)\n",
    "# Voor ratio variabelen: mediaan\n",
    "\n",
    "# Numerieke kolommen\n",
    "numeric_cols = df_co2.select_dtypes(include=[np.number]).columns.difference(['persoon_ID'])\n",
    "for col in numeric_cols:\n",
    "    if df_co2[col].isnull().any():\n",
    "        df_co2[col] = df_co2[col].fillna(df_co2[col].median())\n",
    "\n",
    "# Categorische kolommen\n",
    "categorical_cols = df_co2.select_dtypes(include=['object']).columns\n",
    "for col in categorical_cols:\n",
    "    if df_co2[col].isnull().any():\n",
    "        df_co2[col] = df_co2[col].fillna(df_co2[col].mode()[0])\n",
    "\n",
    "# Extreme waarden\n",
    "threshold = 3\n",
    "columns_to_check = numeric_cols\n",
    "\n",
    "# Loop voor relevante kolommen\n",
    "for col in columns_to_check:\n",
    "    z_scores = zscore(df_co2[col].dropna())\n",
    "    extreme_mask = np.abs(z_scores) > threshold\n",
    "\n",
    "    if extreme_mask.any():\n",
    "        print(f\"Extreme waarden gedetecteerd in: {col}\")\n",
    "        sns.boxplot(x=df_co2[col])\n",
    "        plt.title(f\"Boxplot van {col}\")\n",
    "        plt.show()\n",
    "        \n",
    "        # Print aantal extreme waarden\n",
    "        n_extreme = extreme_mask.sum()\n",
    "        print(f\"Aantal extreme waarden: {n_extreme}\")\n",
    "        print(f\"Percentage extreme waarden: {(n_extreme/len(df_co2))*100:.2f}%\")"
   ]
  },
  {
   "cell_type": "markdown",
   "id": "273400f2",
   "metadata": {},
   "source": [
    "In dit deel van de code hebben we eerst onderzocht waar er sprake is van missende waarden, door per kolom het percentage ontbrekende data te berekenen. Wat hierbij direct opvalt, is dat de kolom met CO₂-uitstoot per jaar (in kilogram) bijna 50% aan ontbrekende waarden bevat. Op zichzelf hoeft dat niet problematisch te zijn, maar het betekent wel dat we de helft van deze data slechts beperkt kunnen gebruiken voor bepaalde analyses of modellen.\n",
    "\n",
    "Een mogelijke aanpak zou kunnen zijn om deze kolom te gebruiken als basis voor een train-test-split. We zouden dan de rijen zonder een CO₂-waarde kunnen gebruiken voor training, en de rijen met een CO₂-waarde als testset. Zo maken we optimaal gebruik van de beschikbare data, ondanks de hoge mate van ontbrekende waarden in deze specifieke variabele. Dit is voorlopig slechts een overweging en kan later verder worden uitgewerkt.\n",
    "\n",
    "Verder zien we dat ook de kolommen jaarsalaris, stad, opleidingsniveau en autobezit allemaal exact dezelfde hoeveelheid missende waarden hebben. Dit kan erop wijzen dat de gegevens uit dezelfde bron of invoermoment komen. Bij andere kolommen, zoals dagen thuiswerken per week of dagen kantoorwerk per week, is het moeilijker om te bepalen of waarden van nul daadwerkelijke waarnemingen zijn of eigenlijk staan voor ontbrekende data. Hier moeten we dus extra voorzichtig mee omgaan.\n",
    "\n",
    "Wat betreft de aanpak van missende waarden in de code:\n",
    "Voor numerieke en ratio-variabelen hebben we ervoor gekozen om te imputeren met de mediaan, omdat imputeren met nul de verdeling en correlaties aanzienlijk zou kunnen verstoren. Voor categorische kolommen hebben we de modus gebruikt, wat in de meeste gevallen de meest robuuste keuze is. Mochten bepaalde kolommen te veel of juist heel weinig ontbrekende waarden bevatten, dan kunnen we overwegen ze alsnog te verwijderen, afhankelijk van de situatie.\n",
    "\n",
    "De imputatie hebben we geïmplementeerd met behulp van for-loops. Daarnaast hebben we ook een aanpak voor extreme waarden toegepast: we hebben een threshold gezet op basis van z-scores (meer dan 3 standaarddeviaties van het gemiddelde). Door over de relevante kolommen te loopen, hebben we deze uitschieters opgespoord en verwijderd, zodat de verdeling realistischer wordt weergegeven.\n",
    "\n",
    "In de visualisaties is onder andere zichtbaar dat het gewicht in kilogram nog aanzienlijke spreiding vertoont, en dat er zelfs een waarde van 0 aanwezig was – wat duidelijk onrealistisch is en daarom is verwijderd. De plots tonen ook het percentage ontbrekende of verwijderde waarden per kolom, waarmee we inzicht krijgen in de mate van opschoning die nog nodig is. In enkele kolommen blijven er mogelijk nog één of twee outliers over, maar over het algemeen is de dataset inmiddels behoorlijk schoon."
   ]
  },
  {
   "cell_type": "markdown",
   "id": "7f639670ffb56a61",
   "metadata": {},
   "source": [
    "### 4.\tKies 2 onafhankelijke variabelen waarvan je denkt dat het invloed kan hebben op de jaarlijkse CO2 uitstoot. Visualiseer de verdeling van deze twee variabelen en de verdeling van de afhankelijke variabele."
   ]
  },
  {
   "cell_type": "code",
   "execution_count": 28,
   "id": "f107c29f87b53f33",
   "metadata": {
    "ExecuteTime": {
     "end_time": "2025-06-13T07:34:39.725247Z",
     "start_time": "2025-06-13T07:34:38.781123Z"
    }
   },
   "outputs": [
    {
     "data": {
      "image/png": "[encoded data removed]",
      "text/plain": [
       "<Figure size 640x480 with 1 Axes>"
      ]
     },
     "metadata": {},
     "output_type": "display_data"
    },
    {
     "data": {
      "image/png": "[encoded data removed]",
      "text/plain": [
       "<Figure size 640x480 with 1 Axes>"
      ]
     },
     "metadata": {},
     "output_type": "display_data"
    },
    {
     "data": {
      "image/png": "[encoded data removed]",
      "text/plain": [
       "<Figure size 640x480 with 1 Axes>"
      ]
     },
     "metadata": {},
     "output_type": "display_data"
    }
   ],
   "source": [
    "# 4\n",
    "# heatmap\n",
    "#numeric_cols = df_co2.select_dtypes(include=['int64', 'float64']).columns\n",
    "#df_numeric = df_co2[numeric_cols]\n",
    "#plt.figure(figsize=(10, 5))\n",
    "#sns.heatmap(df_numeric.corr(), annot=True)\n",
    "#plt.show()\n",
    "\n",
    "# columns\n",
    "car_kpy = df_co2['km_auto_per_jaar']\n",
    "plane_kpy = df_co2['km_vliegtuig_per_jaar']\n",
    "co2_py = df_co2['co2_uitstoot_per_jaar_KG']\n",
    "#sns.regplot(x=car_kpy, y=co2_py)\n",
    "#plt.show()\n",
    "#sns.regplot(x=plane_kpy, y=co2_py)\n",
    "#plt.show()\n",
    "\n",
    "# hist plot\n",
    "def hist_plot_maker(data, x):\n",
    "    sns.histplot(data=data, x=x)\n",
    "    plt.show()\n",
    "hist_plot_maker(df_co2, car_kpy)\n",
    "hist_plot_maker(df_co2, plane_kpy)\n",
    "hist_plot_maker(df_co2, co2_py)"
   ]
  },
  {
   "cell_type": "markdown",
   "id": "49a0b999",
   "metadata": {},
   "source": [
    "Twee kolommen die ik heb geselecteerd vanwege een mogelijke correlatie of invloed op de variabele \"co2_uitstoot_per_jaar_KG\" zijn \"km_auto_per_jaar\" en \"km_vliegtuig_per_jaar\". Ik heb juist voor deze twee gekozen omdat het om veelgebruikte vervoersmiddelen gaat, die bovendien bekend staan om hun relatief hoge brandstofverbruik.\n",
    "\n",
    "Op de heatmap van de correlatiematrix is te zien dat deze aanname grotendeels klopt: beide variabelen vertonen inderdaad een van de sterkste correlaties met de CO₂-uitstoot. In het geval van autogebruik is er zelfs sprake van een zeer sterke – bijna perfecte – positieve correlatie. Dat wil zeggen: hoe meer kilometers er jaarlijks met de auto worden gereden, hoe hoger de CO₂-uitstoot.\n",
    "\n",
    "Wat echter opvalt, is dat het gebruik van het vliegtuig – ondanks dat het de tweede hoogste correlatie met CO₂-uitstoot heeft – alsnog maar een zwakke positieve correlatie laat zien. Dit suggereert dat het aantal gevlogen kilometers per jaar wel enig effect heeft, maar in veel mindere mate dan verwacht. Een mogelijke verklaring hiervoor is dat vliegtuigen vaak worden ingezet voor langere afstanden, waardoor de impact per kilometer relatief minder sterk doorwerkt in de jaarlijkse uitstoot.\n",
    "\n",
    "Voor de visualisatie heb ik gekozen voor een histogram, omdat dit type plot een goed beeld geeft van de verdeling van de waarden binnen een variabele.\n",
    "\n",
    "Verder valt op dat er – afgezien van de CO₂-waarde zelf – geen andere variabelen zijn met een duidelijke of sterke correlatie: vrijwel alle andere waarden in de correlatiematrix blijven onder een grens van 0.1. Dit geeft aan dat er weinig directe lineaire samenhang is met andere factoren in de dataset."
   ]
  },
  {
   "cell_type": "markdown",
   "id": "924cdcfcf6f506ed",
   "metadata": {},
   "source": [
    "### 5.\tGeef een beschrijving van de 3 visualisaties met behulp van statistische termen."
   ]
  },
  {
   "cell_type": "markdown",
   "id": "249455ce76bbe78b",
   "metadata": {},
   "source": [
    "Een belangrijk aspect dat bij alle visualisaties naar voren komt, is de aanwezigheid van een groot aantal waarden rond nul. Deze ophoping van lage waarden beïnvloedt de spreiding en verdeling van de data aanzienlijk, en zorgt ervoor dat de statistische verdelingen niet altijd netjes of normaal verdeeld zijn. Dit was ook de reden waarom ik ervoor heb gekozen om de interkwartielafstand (IQR) te gebruiken in plaats van het bereik (min-max), omdat IQR robuuster is voor scheve of asymmetrische verdelingen en minder gevoelig voor outliers.\n",
    "\n",
    "Analyse per variabele:\n",
    "1. km_auto_per_jaar\n",
    "Bij deze variabele valt op dat, na het verwijderen van extreme waarden, het gemiddelde, de mediaan en de modus vrijwel gelijk liggen. Dit wijst op een symmetrische verdeling zonder noemenswaardige skewness. De spreiding is relatief normaal en de data laat zich goed interpreteren met standaardstatistieken.\n",
    "\n",
    "2. km_vliegtuig_per_jaar\n",
    "De verdeling van deze variabele is duidelijk asymmetrisch. Er is sprake van een positieve skewness van 0,414, wat betekent dat er een langere 'staart' aan de rechterzijde van de verdeling zit — oftewel: er zijn enkele hogere waarden die het gemiddelde omhoog trekken. Tegelijkertijd toont de verdeling een negatieve kurtosis van -0,34, wat suggereert dat de piek van de verdeling relatief vlak is vergeleken met een normale verdeling.\n",
    "\n",
    "3. co2_uitstoot_per_jaar_KG\n",
    "Deze variabele vertoont een vergelijkbare positieve skewness (0,440) als de variabele km_vliegtuig_per_jaar, met een nog sterkere negatieve kurtosis. Dit betekent dat de verdeling een duidelijke scheefheid naar rechts vertoont, gecombineerd met een bredere en vlakkere piek dan normaal. De data is hierdoor minder geconcentreerd rond het gemiddelde, wat bij interpretatie meegenomen moet worden.\n",
    "\n"
   ]
  },
  {
   "cell_type": "code",
   "execution_count": 6,
   "id": "47ad8765da5574bf",
   "metadata": {
    "ExecuteTime": {
     "end_time": "2025-06-13T07:34:39.770342Z",
     "start_time": "2025-06-13T07:34:39.748416Z"
    }
   },
   "outputs": [
    {
     "name": "stdout",
     "output_type": "stream",
     "text": [
      "--- km_auto_per_jaar ---\n",
      "count     1500.000000\n",
      "mean      8597.262393\n",
      "std       7021.428530\n",
      "min      -6506.630000\n",
      "25%          0.000000\n",
      "50%       9356.380000\n",
      "75%      13842.732500\n",
      "max      34618.870000\n",
      "Name: km_auto_per_jaar, dtype: float64\n",
      "Median: 9356.380000000001\n",
      "Skewness: 0.1678828783231597\n",
      "Kurtosis: -0.960381076063419\n",
      "IQR: 13842.7325\n",
      "Null: 0\n",
      "--- km_vliegtuig_per_jaar ---\n",
      "count    1500.000000\n",
      "mean     1072.277327\n",
      "std       748.651072\n",
      "min         0.000000\n",
      "25%       471.540000\n",
      "50%      1052.140000\n",
      "75%      1588.555000\n",
      "max      3808.200000\n",
      "Name: km_vliegtuig_per_jaar, dtype: float64\n",
      "Median: 1052.1399999999999\n",
      "Skewness: 0.41399042702396605\n",
      "Kurtosis: -0.3404479466219743\n",
      "IQR: 1117.015\n",
      "Null: 0\n",
      "--- co2_uitstoot_per_jaar_KG ---\n",
      "count     1500.000000\n",
      "mean      4889.417613\n",
      "std       3431.283947\n",
      "min          0.000000\n",
      "25%       1442.475000\n",
      "50%       4651.740000\n",
      "75%       7471.172500\n",
      "max      18098.440000\n",
      "Name: co2_uitstoot_per_jaar_KG, dtype: float64\n",
      "Median: 4651.74\n",
      "Skewness: 0.441674118662967\n",
      "Kurtosis: -0.711451621451018\n",
      "IQR: 6028.6975\n",
      "Null: 0\n"
     ]
    }
   ],
   "source": [
    "# 5\n",
    "# function with column statistics\n",
    "def show_statistics(var):\n",
    "    print(var.describe())\n",
    "    print(f\"Median: {var.median()}\")\n",
    "    print(f\"Skewness: {var.skew()}\")\n",
    "    print(f\"Kurtosis: {var.kurt()}\")\n",
    "    print(f\"IQR: {iqr(var)}\")\n",
    "    print(f\"Null: {var.isnull().sum()}\")\n",
    "print(\"--- km_auto_per_jaar ---\")\n",
    "show_statistics(car_kpy)\n",
    "print(\"--- km_vliegtuig_per_jaar ---\")\n",
    "show_statistics(plane_kpy)\n",
    "print(\"--- co2_uitstoot_per_jaar_KG ---\")\n",
    "show_statistics(co2_py)"
   ]
  },
  {
   "cell_type": "markdown",
   "id": "13814d25ae25452a",
   "metadata": {},
   "source": [
    "6.\tToets, met behulp van statistiek, of de verdelingen (vraag 4) normaal verdeeld zijn."
   ]
  },
  {
   "cell_type": "markdown",
   "id": "93815548e42723ed",
   "metadata": {},
   "source": [
    "Ik heb een functie gemaakt die gebruikt shapiro om te berekenen of de verdelingen normaal verdeeld zijn. Dit is niet 100% accuraat maar met berekeningen uit vorige opdracht met statistieken krijg ik een goede beeld van de verdeling. Ik heb hierbij threshold van 0.05 p gezet, omdat dit de norm is in bepalen of de verschil klein genoeg is. Als die p groter is dan de threshold, dan de data is normaal verdeeld."
   ]
  },
  {
   "cell_type": "code",
   "execution_count": 7,
   "id": "9045510785682ffd",
   "metadata": {
    "ExecuteTime": {
     "end_time": "2025-06-13T07:34:39.849026Z",
     "start_time": "2025-06-13T07:34:39.829423Z"
    }
   },
   "outputs": [
    {
     "name": "stdout",
     "output_type": "stream",
     "text": [
      "--- km_auto_per_jaar ---\n",
      "Normaal Verdeeld: False (8.351651722054391e-28)\n",
      "--- km_vliegtuig_per_jaar ---\n",
      "Normaal Verdeeld: False (1.8340720034474885e-18)\n",
      "--- co2_uitstoot_per_jaar_KG ---\n",
      "Normaal Verdeeld: False (2.9871908310683048e-24)\n"
     ]
    }
   ],
   "source": [
    "# 6\n",
    "def normaal_verdeeld(var):\n",
    "    stat, p = shapiro(var)\n",
    "    print(f\"Normaal Verdeeld: {p > 0.05} ({p})\")\n",
    "\n",
    "print(\"--- km_auto_per_jaar ---\")\n",
    "normaal_verdeeld(car_kpy)\n",
    "print(\"--- km_vliegtuig_per_jaar ---\")\n",
    "normaal_verdeeld(plane_kpy)\n",
    "print(\"--- co2_uitstoot_per_jaar_KG ---\")\n",
    "normaal_verdeeld(co2_py) # p van 1 kan niet hier kloppen..."
   ]
  },
  {
   "cell_type": "markdown",
   "id": "90e53b2cd28304d5",
   "metadata": {},
   "source": [
    "7.\tOm ervoor te zorgen dat de onafhankelijke variabelen gebruikt kunnen worden voor Machine Learning moeten ze getransformeerd worden. Geef per meetniveau aan wat er moet gebeuren en waarom."
   ]
  },
  {
   "cell_type": "markdown",
   "id": "14dceabb1ea36c1c",
   "metadata": {},
   "source": [
    "In ider geval de data moet in de vorm van dataframe of numpy array zijn zonder null waarden en numerieke waarden.\n",
    "\n",
    "Nominaal: Categorische data zonder volgorde moet worden omgezet naar dummyvariabelen, zodat het model de categorieën kan gebruiken zonder te denken dat er een volgorde is.\n",
    "\n",
    "Ordinaal: Data moet naar numerieke waarden geconverteerd worden (mapping), zodat ze in een model kunnen worden ingevuld en voorspeld worden.\n",
    "\n",
    "Interval: Standarizatie (Z-scoren) uitvoeren om data op schaal te krijgen, zodat de data gelijk verdeeld is op de schaal bij verschillende variabelen.\n",
    "Ratio: Hetzelfde als bij Interval.\n"
   ]
  },
  {
   "cell_type": "markdown",
   "id": "c1c58fb7607ae232",
   "metadata": {},
   "source": [
    "8.\tVoer de transformatie uit. Let op dat je de getransformeerde variabelen in een nieuw dataframe opslaat, zodat je de oorspronkelijke waarden behoudt. De getransformeerde variabelen gebruik je alleen bij deel D. Zorg dat je inzicht krijgt in de relatie tussen de variabelen. Wat zijn je bevindingen?"
   ]
  },
  {
   "cell_type": "markdown",
   "id": "fb43442fa4aa6c35",
   "metadata": {},
   "source": [
    "Ik heb copies gemaakt van dataframes om de organelle niet te veranderen. Daarna heb ik aanpassingen gemaakt op basis van opdracht 1 voor de kolommen. "
   ]
  },
  {
   "cell_type": "code",
   "execution_count": 8,
   "id": "373e7c30b96d3d9a",
   "metadata": {
    "ExecuteTime": {
     "end_time": "2025-06-13T10:14:27.388969Z",
     "start_time": "2025-06-13T10:14:27.363151Z"
    }
   },
   "outputs": [
    {
     "name": "stdout",
     "output_type": "stream",
     "text": [
      "['MBO' 'WO' 'HBO']\n",
      "['Nooit' 'Heel soms' 'Altijd' 'Vaak' 'Soms']\n"
     ]
    }
   ],
   "source": [
    "# 8\n",
    "# Dumming Nominaals:\n",
    "nominaal_co2_dum = df_co2.copy()\n",
    "nominaal_co2_dum = pd.get_dummies(df_co2, columns=['geslacht', 'burgerlijke_staat', 'stad', 'provincie', 'autobezit', 'fietsbezit', 'elektrisch_auto'], drop_first=True)\n",
    "\n",
    "# Mapping Ordinaals:\n",
    "print(df_co2['opleiding_niveau'].unique())\n",
    "print(df_co2['gebruik_carsharing'].unique())\n",
    "ordinaal_co2_num = df_co2.copy()\n",
    "ordinaal_co2_num['opleiding_niveau'] = ordinaal_co2_num['opleiding_niveau'].map(\n",
    "    {'MBO': 1, 'HBO': 2, 'WO': 3})\n",
    "ordinaal_co2_num['gebruik_carsharing'] = ordinaal_co2_num['gebruik_carsharing'].map(\n",
    "    {'Nooit': 1, 'Heel soms': 2, 'Soms': 3, 'Vaak': 4, 'Altijd': 5})\n",
    "\n",
    "# Standardizing Ratios:\n",
    "ratio_co2 = ['leeftijd', 'gewicht_KG', 'jaarsalaris_eu', 'huishouden_grootte',\n",
    "                 'km_auto_per_jaar', 'km_fiets_per_jaar', 'km_ov_per_jaar',\n",
    "                 'km_vliegtuig_per_jaar', 'dagen_thuiswerken_per_week_pro_rato',\n",
    "                 'dagen_kantoorwerken_per_week_pro_rato', 'dagen_in_buitenland_per_jaar','co2_uitstoot_per_jaar_KG']\n",
    "scaler = StandardScaler()\n",
    "co2_ratio_scaled = ordinaal_co2_num.copy()\n",
    "co2_ratio_scaled[ratio_co2] = scaler.fit_transform(ordinaal_co2_num[ratio_co2])\n",
    "\n",
    "# En nu om nog verder inzicht te krijgen in de relaties tussen variabelen:\n"
   ]
  },
  {
   "cell_type": "markdown",
   "id": "ff5c4d54d4992cd8",
   "metadata": {},
   "source": [
    "9.\tWelke methode(n) heb je gebruikt en waarom?"
   ]
  },
  {
   "cell_type": "code",
   "execution_count": 9,
   "id": "89686f284938d041",
   "metadata": {
    "ExecuteTime": {
     "end_time": "2025-06-13T07:34:39.980688Z",
     "start_time": "2025-06-13T07:34:39.976426Z"
    }
   },
   "outputs": [],
   "source": [
    "# 9"
   ]
  },
  {
   "cell_type": "markdown",
   "id": "ace0c5f5c160e8a7",
   "metadata": {},
   "source": [
    "10.\tIs er sprake van multicollineariteit? Waarom zou dit een probleem kunnen zijn en wat zou jouw oplossing zijn?"
   ]
  },
  {
   "cell_type": "code",
   "execution_count": 10,
   "id": "7d4dda5306fe82d9",
   "metadata": {
    "ExecuteTime": {
     "end_time": "2025-06-13T07:34:40.009566Z",
     "start_time": "2025-06-13T07:34:40.006750Z"
    }
   },
   "outputs": [],
   "source": [
    "# 10"
   ]
  },
  {
   "cell_type": "markdown",
   "id": "effed37d0e5dbe",
   "metadata": {},
   "source": [
    "11.\tBekijk de relatie tussen uitstoot CO2 en de andere onafhankelijke variabelen per geslacht. Kom je hier tot een andere conclusie dan bij vraag 8?"
   ]
  },
  {
   "cell_type": "code",
   "execution_count": 11,
   "id": "cc99bb0fc61b69ec",
   "metadata": {
    "ExecuteTime": {
     "end_time": "2025-06-13T07:34:40.050298Z",
     "start_time": "2025-06-13T07:34:40.046654Z"
    }
   },
   "outputs": [],
   "source": [
    "# 11"
   ]
  },
  {
   "cell_type": "markdown",
   "id": "3e4baf649f98ccb8",
   "metadata": {},
   "source": [
    "# Deel B: Kansrekenen"
   ]
  },
  {
   "cell_type": "markdown",
   "id": "9fc575acbca39c22",
   "metadata": {},
   "source": [
    "12.\tWat is de kans dat een willekeurig persoon 5000 KG CO2 uitstoot? Gebruik de standaard normaal verdeling in de berekening."
   ]
  },
  {
   "cell_type": "code",
   "execution_count": 12,
   "id": "5fd32c1cacd03660",
   "metadata": {
    "ExecuteTime": {
     "end_time": "2025-06-13T07:34:40.077772Z",
     "start_time": "2025-06-13T07:34:40.073838Z"
    }
   },
   "outputs": [],
   "source": [
    "# 12"
   ]
  },
  {
   "cell_type": "markdown",
   "id": "6bd6e8bdbb07b225",
   "metadata": {},
   "source": [
    "13.\tOp welke manier wordt, bij deze berekening, een van de technieken van calculus toegepast?"
   ]
  },
  {
   "cell_type": "code",
   "execution_count": 13,
   "id": "ae1cfc88e1715d86",
   "metadata": {
    "ExecuteTime": {
     "end_time": "2025-06-13T07:34:40.103608Z",
     "start_time": "2025-06-13T07:34:40.099085Z"
    }
   },
   "outputs": [],
   "source": [
    "# 13"
   ]
  },
  {
   "cell_type": "markdown",
   "id": "88064fff1a230622",
   "metadata": {},
   "source": [
    "14.\tIs deze kans groter, gelijk of kleiner bij mannen t.o.v. vrouwen?"
   ]
  },
  {
   "cell_type": "code",
   "execution_count": 14,
   "id": "fda37bbec7af3e1e",
   "metadata": {
    "ExecuteTime": {
     "end_time": "2025-06-13T07:34:40.133008Z",
     "start_time": "2025-06-13T07:34:40.128966Z"
    }
   },
   "outputs": [],
   "source": [
    "# 14"
   ]
  },
  {
   "cell_type": "markdown",
   "id": "535973d5fb608608",
   "metadata": {},
   "source": [
    "# Deel C: Toetsende statistiek"
   ]
  },
  {
   "cell_type": "markdown",
   "id": "cfc374963e7711ee",
   "metadata": {},
   "source": [
    "15.\tStel de hypothesen op."
   ]
  },
  {
   "cell_type": "code",
   "execution_count": 15,
   "id": "f1d834352424f3b3",
   "metadata": {
    "ExecuteTime": {
     "end_time": "2025-06-13T07:34:40.165391Z",
     "start_time": "2025-06-13T07:34:40.161339Z"
    }
   },
   "outputs": [],
   "source": [
    "# 15"
   ]
  },
  {
   "cell_type": "markdown",
   "id": "5ae5da67607c658e",
   "metadata": {},
   "source": [
    "16.\tWelke type fouten kunnen er gemaakt worden?"
   ]
  },
  {
   "cell_type": "code",
   "execution_count": 16,
   "id": "4beec8b19ac2cb4d",
   "metadata": {
    "ExecuteTime": {
     "end_time": "2025-06-13T07:34:40.203897Z",
     "start_time": "2025-06-13T07:34:40.200316Z"
    }
   },
   "outputs": [],
   "source": [
    "# 16"
   ]
  },
  {
   "cell_type": "markdown",
   "id": "daddf05f8c201",
   "metadata": {},
   "source": [
    "17.\tWelke statistische toets moet je uitvoeren om te onderzoeken of er een significant verschil is?"
   ]
  },
  {
   "cell_type": "code",
   "execution_count": 17,
   "id": "698abbc225c5be80",
   "metadata": {
    "ExecuteTime": {
     "end_time": "2025-06-13T07:34:40.242456Z",
     "start_time": "2025-06-13T07:34:40.238177Z"
    }
   },
   "outputs": [],
   "source": [
    "# 17"
   ]
  },
  {
   "cell_type": "markdown",
   "id": "5130ff52c1ed30ad",
   "metadata": {},
   "source": [
    "18.\tVoer de toets uit."
   ]
  },
  {
   "cell_type": "code",
   "execution_count": 18,
   "id": "27a88a1500843508",
   "metadata": {
    "ExecuteTime": {
     "end_time": "2025-06-13T07:34:40.272834Z",
     "start_time": "2025-06-13T07:34:40.268575Z"
    }
   },
   "outputs": [],
   "source": [
    "# 18"
   ]
  },
  {
   "cell_type": "markdown",
   "id": "f6c22d5b9f57b961",
   "metadata": {},
   "source": [
    "19.\tGeef in je eigen woorden een toelichting op de betekenis van de p-waarde."
   ]
  },
  {
   "cell_type": "code",
   "execution_count": 19,
   "id": "e74366a71d1d9dc8",
   "metadata": {
    "ExecuteTime": {
     "end_time": "2025-06-13T07:34:40.293526Z",
     "start_time": "2025-06-13T07:34:40.289907Z"
    }
   },
   "outputs": [],
   "source": [
    "# 19"
   ]
  },
  {
   "cell_type": "markdown",
   "id": "40341d71e0d7341a",
   "metadata": {},
   "source": [
    "20.\tWelke conclusie kan je trekken?"
   ]
  },
  {
   "cell_type": "code",
   "execution_count": 20,
   "id": "6d36a86b44b06b1e",
   "metadata": {
    "ExecuteTime": {
     "end_time": "2025-06-13T07:34:40.305139Z",
     "start_time": "2025-06-13T07:34:40.300387Z"
    }
   },
   "outputs": [],
   "source": [
    "# 20"
   ]
  },
  {
   "cell_type": "markdown",
   "id": "8aaa879afde64411",
   "metadata": {},
   "source": [
    "# Deel D: Modelleren"
   ]
  },
  {
   "cell_type": "markdown",
   "id": "396eae6d1e2b1064",
   "metadata": {},
   "source": [
    "21.\tTrain een model om de jaarlijkse CO2 uitstoot te voorspellen. Op hoeveel verschillende mogelijkheden kan deze split gemaakt worden?"
   ]
  },
  {
   "cell_type": "code",
   "execution_count": 21,
   "id": "eff94d74f81231d4",
   "metadata": {
    "ExecuteTime": {
     "end_time": "2025-06-13T07:34:40.332923Z",
     "start_time": "2025-06-13T07:34:40.329488Z"
    }
   },
   "outputs": [],
   "source": [
    "# 21"
   ]
  },
  {
   "cell_type": "markdown",
   "id": "7d6b48c1b0354458",
   "metadata": {},
   "source": [
    "22.\tTrain een model om de jaarlijkse CO2 uitstoot te voorspellen. Welke metric zou je gebruiken om te toetsen hoe goed je model is en waarom?\n"
   ]
  },
  {
   "cell_type": "code",
   "execution_count": 22,
   "id": "db08e060bb6fad82",
   "metadata": {
    "ExecuteTime": {
     "end_time": "2025-06-13T07:34:40.344543Z",
     "start_time": "2025-06-13T07:34:40.340733Z"
    }
   },
   "outputs": [],
   "source": [
    "# 22"
   ]
  },
  {
   "cell_type": "markdown",
   "id": "e85d4f5a3b2f61d",
   "metadata": {},
   "source": [
    "23.\tGeef de wiskunde functie van het model en pas deze toe op jouw eigen situatie (kies 1 groepsgenoot)."
   ]
  },
  {
   "cell_type": "code",
   "execution_count": 23,
   "id": "8b79772595b6180c",
   "metadata": {
    "ExecuteTime": {
     "end_time": "2025-06-13T07:34:40.372690Z",
     "start_time": "2025-06-13T07:34:40.368921Z"
    }
   },
   "outputs": [],
   "source": [
    "# 23"
   ]
  },
  {
   "cell_type": "markdown",
   "id": "193d3dd705baa1a1",
   "metadata": {},
   "source": [
    "24.\tGebruik toetsende statistiek en de resultaten van de 20-fold cross validation om te onderzoeken welk model significant beter is."
   ]
  },
  {
   "cell_type": "code",
   "execution_count": 24,
   "id": "3bb5e454af9d889e",
   "metadata": {
    "ExecuteTime": {
     "end_time": "2025-06-13T07:34:40.392790Z",
     "start_time": "2025-06-13T07:34:40.389533Z"
    }
   },
   "outputs": [],
   "source": [
    "# 24"
   ]
  },
  {
   "cell_type": "markdown",
   "id": "f75c5b9022dee18",
   "metadata": {},
   "source": [
    "25.\tSplits de target variabele op in 2 klassen, kies hiervoor een geschikte punt. Codeer de eerste groep als 0 en de tweede groep als 1. Welk model zou je nu kunnen gebruiken en waarom?\n"
   ]
  },
  {
   "cell_type": "code",
   "execution_count": 25,
   "id": "a54234c9d111cc2e",
   "metadata": {
    "ExecuteTime": {
     "end_time": "2025-06-13T07:34:40.430838Z",
     "start_time": "2025-06-13T07:34:40.427006Z"
    }
   },
   "outputs": [],
   "source": [
    "# 25"
   ]
  },
  {
   "cell_type": "markdown",
   "id": "778eb798e0d65ff2",
   "metadata": {},
   "source": [
    "26.\tTrain een nieuw model op de nieuwe target, gebruik hierbij alleen de vijf meest invloedrijke onafhankelijke variabelen die je eerder hebt gekozen. Geef de wiskunde functie van dit model en pas deze toe op jouw eigen situatie (kies 1 groepsgenoot).\n"
   ]
  },
  {
   "cell_type": "code",
   "execution_count": 26,
   "id": "5fc99fbbfa501809",
   "metadata": {
    "ExecuteTime": {
     "end_time": "2025-06-13T07:34:40.465647Z",
     "start_time": "2025-06-13T07:34:40.461487Z"
    }
   },
   "outputs": [],
   "source": [
    "# 26"
   ]
  },
  {
   "cell_type": "markdown",
   "id": "59e834b70a39c195",
   "metadata": {},
   "source": [
    "27.\tSchrijf een conclusie op basis van de twee hoofdvragen van het portfolio (zie kopje ‘Vraagstellingen’)\n"
   ]
  },
  {
   "cell_type": "code",
   "execution_count": 27,
   "id": "a3599af620119e74",
   "metadata": {
    "ExecuteTime": {
     "end_time": "2025-06-13T07:34:40.488097Z",
     "start_time": "2025-06-13T07:34:40.483521Z"
    }
   },
   "outputs": [],
   "source": [
    "# 27"
   ]
  },
  {
   "cell_type": "markdown",
   "id": "2f30e29335c63e96",
   "metadata": {},
   "source": [
    "###"
   ]
  }
 ],
 "metadata": {
  "kernelspec": {
   "display_name": "base",
   "language": "python",
   "name": "python3"
  },
  "language_info": {
   "codemirror_mode": {
    "name": "ipython",
    "version": 3
   },
   "file_extension": ".py",
   "mimetype": "text/x-python",
   "name": "python",
   "nbconvert_exporter": "python",
   "pygments_lexer": "ipython3",
   "version": "3.11.4"
  }
 },
 "nbformat": 4,
 "nbformat_minor": 5
}
