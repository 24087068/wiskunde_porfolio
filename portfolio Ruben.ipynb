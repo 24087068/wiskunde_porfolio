{
 "cells": [
  {
   "cell_type": "code",
   "execution_count": 34,
   "id": "624c5e9fa39c923c",
   "metadata": {
    "ExecuteTime": {
     "end_time": "2025-06-13T10:11:36.398306Z",
     "start_time": "2025-06-13T10:11:35.311653Z"
    }
   },
   "outputs": [
    {
     "name": "stdout",
     "output_type": "stream",
     "text": [
      "Head of the data\n"
     ]
    },
    {
     "data": {
      "text/html": [
       "<div>\n",
       "<style scoped>\n",
       "    .dataframe tbody tr th:only-of-type {\n",
       "        vertical-align: middle;\n",
       "    }\n",
       "\n",
       "    .dataframe tbody tr th {\n",
       "        vertical-align: top;\n",
       "    }\n",
       "\n",
       "    .dataframe thead th {\n",
       "        text-align: right;\n",
       "    }\n",
       "</style>\n",
       "<table border=\"1\" class=\"dataframe\">\n",
       "  <thead>\n",
       "    <tr style=\"text-align: right;\">\n",
       "      <th></th>\n",
       "      <th>persoon_ID</th>\n",
       "      <th>geslacht</th>\n",
       "      <th>leeftijd</th>\n",
       "      <th>gewicht_KG</th>\n",
       "      <th>burgerlijke_staat</th>\n",
       "      <th>jaarsalaris_eu</th>\n",
       "      <th>huishouden_grootte</th>\n",
       "      <th>stad</th>\n",
       "      <th>provincie</th>\n",
       "      <th>opleiding_niveau</th>\n",
       "      <th>autobezit</th>\n",
       "      <th>fietsbezit</th>\n",
       "      <th>elektrisch_auto</th>\n",
       "      <th>km_auto_per_jaar</th>\n",
       "      <th>km_fiets_per_jaar</th>\n",
       "      <th>km_ov_per_jaar</th>\n",
       "      <th>km_vliegtuig_per_jaar</th>\n",
       "      <th>dagen_thuiswerken_per_week_pro_rato</th>\n",
       "      <th>dagen_kantoorwerken_per_week_pro_rato</th>\n",
       "      <th>dagen_in_buitenland_per_jaar</th>\n",
       "      <th>gebruik_carsharing</th>\n",
       "      <th>co2_uitstoot_per_jaar_KG</th>\n",
       "    </tr>\n",
       "  </thead>\n",
       "  <tbody>\n",
       "    <tr>\n",
       "      <th>0</th>\n",
       "      <td>811069</td>\n",
       "      <td>man</td>\n",
       "      <td>50</td>\n",
       "      <td>52.66</td>\n",
       "      <td>weduwe/weduwnaar</td>\n",
       "      <td>48003.64</td>\n",
       "      <td>5</td>\n",
       "      <td>Almere</td>\n",
       "      <td>Flevoland</td>\n",
       "      <td>MBO</td>\n",
       "      <td>ja</td>\n",
       "      <td>ja</td>\n",
       "      <td>nee</td>\n",
       "      <td>13266.05</td>\n",
       "      <td>2040.54</td>\n",
       "      <td>3227.95</td>\n",
       "      <td>480.71</td>\n",
       "      <td>4</td>\n",
       "      <td>1</td>\n",
       "      <td>20</td>\n",
       "      <td>Nooit</td>\n",
       "      <td>7591.93</td>\n",
       "    </tr>\n",
       "    <tr>\n",
       "      <th>1</th>\n",
       "      <td>246882</td>\n",
       "      <td>vrouw</td>\n",
       "      <td>65</td>\n",
       "      <td>64.58</td>\n",
       "      <td>samenwonend</td>\n",
       "      <td>55208.63</td>\n",
       "      <td>2</td>\n",
       "      <td>Leeuwarden</td>\n",
       "      <td>Overijssel</td>\n",
       "      <td>WO</td>\n",
       "      <td>ja</td>\n",
       "      <td>nee</td>\n",
       "      <td>nee</td>\n",
       "      <td>15229.89</td>\n",
       "      <td>0.00</td>\n",
       "      <td>2298.96</td>\n",
       "      <td>1423.34</td>\n",
       "      <td>5</td>\n",
       "      <td>0</td>\n",
       "      <td>7</td>\n",
       "      <td>Heel soms</td>\n",
       "      <td>8742.25</td>\n",
       "    </tr>\n",
       "    <tr>\n",
       "      <th>2</th>\n",
       "      <td>978385</td>\n",
       "      <td>man</td>\n",
       "      <td>49</td>\n",
       "      <td>90.87</td>\n",
       "      <td>samenwonend</td>\n",
       "      <td>29533.78</td>\n",
       "      <td>2</td>\n",
       "      <td>Tilburg</td>\n",
       "      <td>Utrecht</td>\n",
       "      <td>HBO</td>\n",
       "      <td>ja</td>\n",
       "      <td>ja</td>\n",
       "      <td>ja</td>\n",
       "      <td>19853.24</td>\n",
       "      <td>1540.46</td>\n",
       "      <td>4504.21</td>\n",
       "      <td>632.48</td>\n",
       "      <td>4</td>\n",
       "      <td>1</td>\n",
       "      <td>2</td>\n",
       "      <td>Altijd</td>\n",
       "      <td>4513.56</td>\n",
       "    </tr>\n",
       "    <tr>\n",
       "      <th>3</th>\n",
       "      <td>120468</td>\n",
       "      <td>man</td>\n",
       "      <td>34</td>\n",
       "      <td>80.43</td>\n",
       "      <td>gehuwd</td>\n",
       "      <td>44453.27</td>\n",
       "      <td>2</td>\n",
       "      <td>Maastricht</td>\n",
       "      <td>Utrecht</td>\n",
       "      <td>HBO</td>\n",
       "      <td>ja</td>\n",
       "      <td>ja</td>\n",
       "      <td>nee</td>\n",
       "      <td>9935.50</td>\n",
       "      <td>1825.92</td>\n",
       "      <td>4407.56</td>\n",
       "      <td>1266.84</td>\n",
       "      <td>3</td>\n",
       "      <td>2</td>\n",
       "      <td>21</td>\n",
       "      <td>Heel soms</td>\n",
       "      <td>6904.41</td>\n",
       "    </tr>\n",
       "    <tr>\n",
       "      <th>4</th>\n",
       "      <td>637034</td>\n",
       "      <td>man</td>\n",
       "      <td>60</td>\n",
       "      <td>72.28</td>\n",
       "      <td>ongehuwd</td>\n",
       "      <td>56497.64</td>\n",
       "      <td>2</td>\n",
       "      <td>Leiden</td>\n",
       "      <td>Gelderland</td>\n",
       "      <td>MBO</td>\n",
       "      <td>ja</td>\n",
       "      <td>ja</td>\n",
       "      <td>ja</td>\n",
       "      <td>16266.67</td>\n",
       "      <td>1851.07</td>\n",
       "      <td>1936.12</td>\n",
       "      <td>1676.00</td>\n",
       "      <td>0</td>\n",
       "      <td>5</td>\n",
       "      <td>0</td>\n",
       "      <td>Nooit</td>\n",
       "      <td>4420.80</td>\n",
       "    </tr>\n",
       "  </tbody>\n",
       "</table>\n",
       "</div>"
      ],
      "text/plain": [
       "   persoon_ID geslacht  leeftijd  gewicht_KG burgerlijke_staat  \\\n",
       "0      811069      man        50       52.66  weduwe/weduwnaar   \n",
       "1      246882    vrouw        65       64.58       samenwonend   \n",
       "2      978385      man        49       90.87       samenwonend   \n",
       "3      120468      man        34       80.43            gehuwd   \n",
       "4      637034      man        60       72.28          ongehuwd   \n",
       "\n",
       "   jaarsalaris_eu  huishouden_grootte        stad   provincie  \\\n",
       "0        48003.64                   5      Almere   Flevoland   \n",
       "1        55208.63                   2  Leeuwarden  Overijssel   \n",
       "2        29533.78                   2     Tilburg     Utrecht   \n",
       "3        44453.27                   2  Maastricht     Utrecht   \n",
       "4        56497.64                   2      Leiden  Gelderland   \n",
       "\n",
       "  opleiding_niveau autobezit fietsbezit elektrisch_auto  km_auto_per_jaar  \\\n",
       "0              MBO        ja         ja             nee          13266.05   \n",
       "1               WO        ja        nee             nee          15229.89   \n",
       "2              HBO        ja         ja              ja          19853.24   \n",
       "3              HBO        ja         ja             nee           9935.50   \n",
       "4              MBO        ja         ja              ja          16266.67   \n",
       "\n",
       "   km_fiets_per_jaar  km_ov_per_jaar  km_vliegtuig_per_jaar  \\\n",
       "0            2040.54         3227.95                 480.71   \n",
       "1               0.00         2298.96                1423.34   \n",
       "2            1540.46         4504.21                 632.48   \n",
       "3            1825.92         4407.56                1266.84   \n",
       "4            1851.07         1936.12                1676.00   \n",
       "\n",
       "   dagen_thuiswerken_per_week_pro_rato  dagen_kantoorwerken_per_week_pro_rato  \\\n",
       "0                                    4                                      1   \n",
       "1                                    5                                      0   \n",
       "2                                    4                                      1   \n",
       "3                                    3                                      2   \n",
       "4                                    0                                      5   \n",
       "\n",
       "   dagen_in_buitenland_per_jaar gebruik_carsharing  co2_uitstoot_per_jaar_KG  \n",
       "0                            20              Nooit                   7591.93  \n",
       "1                             7          Heel soms                   8742.25  \n",
       "2                             2             Altijd                   4513.56  \n",
       "3                            21          Heel soms                   6904.41  \n",
       "4                             0              Nooit                   4420.80  "
      ]
     },
     "metadata": {},
     "output_type": "display_data"
    },
    {
     "name": "stdout",
     "output_type": "stream",
     "text": [
      "Column list\n"
     ]
    },
    {
     "data": {
      "text/plain": [
       "['persoon_ID',\n",
       " 'geslacht',\n",
       " 'leeftijd',\n",
       " 'gewicht_KG',\n",
       " 'burgerlijke_staat',\n",
       " 'jaarsalaris_eu',\n",
       " 'huishouden_grootte',\n",
       " 'stad',\n",
       " 'provincie',\n",
       " 'opleiding_niveau',\n",
       " 'autobezit',\n",
       " 'fietsbezit',\n",
       " 'elektrisch_auto',\n",
       " 'km_auto_per_jaar',\n",
       " 'km_fiets_per_jaar',\n",
       " 'km_ov_per_jaar',\n",
       " 'km_vliegtuig_per_jaar',\n",
       " 'dagen_thuiswerken_per_week_pro_rato',\n",
       " 'dagen_kantoorwerken_per_week_pro_rato',\n",
       " 'dagen_in_buitenland_per_jaar',\n",
       " 'gebruik_carsharing',\n",
       " 'co2_uitstoot_per_jaar_KG']"
      ]
     },
     "metadata": {},
     "output_type": "display_data"
    }
   ],
   "source": [
    "# Imports:\n",
    "import pandas as pd\n",
    "import numpy as np\n",
    "import matplotlib.pyplot as plt\n",
    "import seaborn as sns\n",
    "# Sklearn:\n",
    "from sklearn.model_selection import train_test_split\n",
    "from sklearn.model_selection import KFold\n",
    "from sklearn.linear_model import LinearRegression\n",
    "from sklearn.neighbors import KNeighborsRegressor\n",
    "from sklearn.preprocessing import StandardScaler\n",
    "# Other:\n",
    "from scipy.stats import shapiro\n",
    "from scipy.stats import iqr\n",
    "\n",
    "# Data:\n",
    "pd.set_option('display.max_columns', None)\n",
    "df_co2 = pd.read_excel('Mobiliteitsdata.xlsx')\n",
    "print(\"Head of the data\")\n",
    "display(df_co2.head())\n",
    "print(\"Column list\")\n",
    "display(df_co2.columns.tolist())\n",
    "pd.set_option('display.max_columns', 10)"
   ]
  },
  {
   "cell_type": "markdown",
   "id": "3c3ad412d8cafae6",
   "metadata": {},
   "source": [
    "# Deel A: Data exploratie en voorbereiding"
   ]
  },
  {
   "cell_type": "markdown",
   "id": "cfc770d5c37832cd",
   "metadata": {},
   "source": [
    "1.\tGeef voor elke variabele in de dataset weer tot welk meetniveau deze behoort."
   ]
  },
  {
   "attachments": {},
   "cell_type": "markdown",
   "id": "306c2732",
   "metadata": {},
   "source": [
    "\n",
    "\n",
    "| **Variabele**               | **Meetniveau**      | **Uitleg**                                                                 |\n",
    "|-----------------------------|---------------------|----------------------------------------------------------------------------|\n",
    "| Geslacht                    | Nominaal            | Man/vrouw, geen ordening.                                                  |\n",
    "| Leeftijd                    | Ratio               | Continue numerieke waarde (absoluut nulpunt = 0).                          |\n",
    "| Gewicht (kg)                | Ratio               | Continue numerieke waarde.                                                 |\n",
    "| Burgerlijke staat           | Nominaal            | Categorieën zoals \"gehuwd\", \"samenwonend\", etc. (geen rangorde).           |\n",
    "| Jaarsalaris (€)             | Ratio               | Discreet* maar behandeld als continue variabele.                           |\n",
    "| Huishouden grootte (1–5)    | Ordinaal            | Numerieke schaal met rangorde, geen gelijke intervallen.                   |\n",
    "| Stad & Provincie            | Nominaal            | Categorieën zonder ordening (bijv. Amsterdam, Utrecht).                    |\n",
    "| Opleidingsniveau            | Ordinaal            | Rangorde: MBO < HBO < WO.                                                  |\n",
    "| Autobezit / Fietsbezit      | Nominaal            | Binaire variabele (ja/nee).                                                |\n",
    "| Elektrische auto            | Nominaal            | Binaire variabele (ja/nee).                                                |\n",
    "| Kilometers (auto/fiets/OV/vliegtuig) | Ratio       | Continue numerieke waarden.                                                |\n",
    "| Dagen thuiswerken/kantoor   | Ordinaal* of Ratio  | Technisch ratio (aantal dagen), maar soms ordinaal geïnterpreteerd.        |\n",
    "| Dagen in buitenland         | Ratio               | Numerieke telling.                                                         |\n",
    "| Carsharing-gebruik          | Nominaal            | Categorieën (bijv. \"nooit\", \"soms\", \"vaak\").                               |\n",
    "| CO₂-uitstoot (kg)           | Ratio               | Continue numerieke waarde.                                                 |\n"
   ]
  },
  {
   "cell_type": "code",
   "execution_count": 35,
   "id": "4b0010c823f81a75",
   "metadata": {
    "ExecuteTime": {
     "end_time": "2025-06-13T07:34:37.885200Z",
     "start_time": "2025-06-13T07:34:37.881431Z"
    }
   },
   "outputs": [],
   "source": [
    "# 1\n",
    "# Gemaakt in markdown. Wellicht hebben we het personen ID weggelaten, Deze gaan we toch niet gebruiken voor statistische onderzoeken.\n"
   ]
  },
  {
   "cell_type": "markdown",
   "id": "37e962b731cacbc2",
   "metadata": {},
   "source": [
    "2.\tWaarom is het nodig om vooraf te bekijken tot welk meetniveau elke variabele behoort?"
   ]
  },
  {
   "attachments": {},
   "cell_type": "markdown",
   "id": "95645fef",
   "metadata": {},
   "source": [
    "Door te kijken naar het meetniveau van elke variabele, krijg je al snel inzicht in hoe je met die variabelen kunt omgaan binnen je analyse. Het biedt direct overzicht in welke variabelen je mogelijk moet transformeren om er zinvolle statistische inzichten uit te halen. Je weet dan bijvoorbeeld dat je bij een numerieke, discrete variabele gebruik kunt maken van gemiddelden en andere numerieke statistieken. Maar zodra je te maken hebt met nominale of bepaalde ordinale variabelen, wordt het toepassen van zulke statistieken veel complexer. Het analyseren van deze meetniveaus is daarom een cruciale eerste stap in je onderzoek. Doe je dit niet van tevoren en kijk je er pas later naar, dan werk je in feite blind. Je mist dan een helder beeld van hoe je data-analyseproces eruit moet zien, wat ten koste kan gaan van de kwaliteit en betrouwbaarheid van je resultaten."
   ]
  },
  {
   "cell_type": "markdown",
   "id": "c046f5961ec561a7",
   "metadata": {},
   "source": [
    "3.\tGa na of er missende/niet kloppende/extreme waarden zijn in de dataset en ga hier op een adequate manier mee om."
   ]
  },
  {
   "cell_type": "code",
   "execution_count": 36,
   "id": "860a036d1369cb34",
   "metadata": {
    "ExecuteTime": {
     "end_time": "2025-06-13T07:34:38.745357Z",
     "start_time": "2025-06-13T07:34:37.917321Z"
    }
   },
   "outputs": [
    {
     "name": "stdout",
     "output_type": "stream",
     "text": [
      "Missende waarden percentage\n",
      "co2_uitstoot_per_jaar_KG    0.47\n",
      "jaarsalaris_eu              0.07\n",
      "stad                        0.07\n",
      "opleiding_niveau            0.07\n",
      "autobezit                   0.07\n",
      "dtype: float64\n"
     ]
    },
    {
     "name": "stdout",
     "output_type": "stream",
     "text": [
      "Extreme waarden gedetecteerd in: co2_uitstoot_per_jaar_KG\n"
     ]
    },
    {
     "data": {
      "image/png": "[encoded data removed]",
      "text/plain": [
       "<Figure size 640x480 with 1 Axes>"
      ]
     },
     "metadata": {},
     "output_type": "display_data"
    },
    {
     "name": "stdout",
     "output_type": "stream",
     "text": [
      "Aantal extreme waarden: 3\n",
      "Percentage extreme waarden: 0.20%\n",
      "Extreme waarden gedetecteerd in: gewicht_KG\n"
     ]
    },
    {
     "data": {
      "image/png": "[encoded data removed]",
      "text/plain": [
       "<Figure size 640x480 with 1 Axes>"
      ]
     },
     "metadata": {},
     "output_type": "display_data"
    },
    {
     "name": "stdout",
     "output_type": "stream",
     "text": [
      "Aantal extreme waarden: 6\n",
      "Percentage extreme waarden: 0.40%\n",
      "Extreme waarden gedetecteerd in: jaarsalaris_eu\n"
     ]
    },
    {
     "data": {
      "image/png": "[encoded data removed]",
      "text/plain": [
       "<Figure size 640x480 with 1 Axes>"
      ]
     },
     "metadata": {},
     "output_type": "display_data"
    },
    {
     "name": "stdout",
     "output_type": "stream",
     "text": [
      "Aantal extreme waarden: 5\n",
      "Percentage extreme waarden: 0.33%\n",
      "Extreme waarden gedetecteerd in: km_auto_per_jaar\n"
     ]
    },
    {
     "data": {
      "image/png": "[encoded data removed]",
      "text/plain": [
       "<Figure size 640x480 with 1 Axes>"
      ]
     },
     "metadata": {},
     "output_type": "display_data"
    },
    {
     "name": "stdout",
     "output_type": "stream",
     "text": [
      "Aantal extreme waarden: 1\n",
      "Percentage extreme waarden: 0.07%\n",
      "Extreme waarden gedetecteerd in: km_ov_per_jaar\n"
     ]
    },
    {
     "data": {
      "image/png": "[encoded data removed]",
      "text/plain": [
       "<Figure size 640x480 with 1 Axes>"
      ]
     },
     "metadata": {},
     "output_type": "display_data"
    },
    {
     "name": "stdout",
     "output_type": "stream",
     "text": [
      "Aantal extreme waarden: 3\n",
      "Percentage extreme waarden: 0.20%\n",
      "Extreme waarden gedetecteerd in: km_vliegtuig_per_jaar\n"
     ]
    },
    {
     "data": {
      "image/png": "[encoded data removed]",
      "text/plain": [
       "<Figure size 640x480 with 1 Axes>"
      ]
     },
     "metadata": {},
     "output_type": "display_data"
    },
    {
     "name": "stdout",
     "output_type": "stream",
     "text": [
      "Aantal extreme waarden: 2\n",
      "Percentage extreme waarden: 0.13%\n"
     ]
    }
   ],
   "source": [
    "# 3\n",
    "# import z-score\n",
    "from scipy.stats import zscore\n",
    "import numpy as np\n",
    "import pandas as pd\n",
    "\n",
    "# Eerst missende waarden:\n",
    "mv = df_co2.isnull().mean() * 100\n",
    "print(\"Missende waarden percentage\")\n",
    "print(mv[mv > 0].sort_values(ascending=False).round(2))\n",
    "\n",
    "# Strategie voor missende waarden\n",
    "# Voor numerieke kolommen: mediaan imputatie (robuuster dan gemiddelde)\n",
    "# Voor categorische kolommen: meest voorkomende waarde (modus)\n",
    "# Voor ratio variabelen: mediaan\n",
    "\n",
    "# Numerieke kolommen\n",
    "numeric_cols = df_co2.select_dtypes(include=[np.number]).columns.difference(['persoon_ID'])\n",
    "for col in numeric_cols:\n",
    "    if df_co2[col].isnull().any():\n",
    "        df_co2[col] = df_co2[col].fillna(df_co2[col].median())\n",
    "\n",
    "# Categorische kolommen\n",
    "categorical_cols = df_co2.select_dtypes(include=['object']).columns\n",
    "for col in categorical_cols:\n",
    "    if df_co2[col].isnull().any():\n",
    "        df_co2[col] = df_co2[col].fillna(df_co2[col].mode()[0])\n",
    "\n",
    "# Extreme waarden\n",
    "threshold = 3\n",
    "columns_to_check = numeric_cols\n",
    "\n",
    "# Loop voor relevante kolommen\n",
    "for col in columns_to_check:\n",
    "    z_scores = zscore(df_co2[col].dropna())\n",
    "    extreme_mask = np.abs(z_scores) > threshold\n",
    "\n",
    "    if extreme_mask.any():\n",
    "        print(f\"Extreme waarden gedetecteerd in: {col}\")\n",
    "        sns.boxplot(x=df_co2[col])\n",
    "        plt.title(f\"Boxplot van {col}\")\n",
    "        plt.show()\n",
    "        \n",
    "        # Print aantal extreme waarden\n",
    "        n_extreme = extreme_mask.sum()\n",
    "        print(f\"Aantal extreme waarden: {n_extreme}\")\n",
    "        print(f\"Percentage extreme waarden: {(n_extreme/len(df_co2))*100:.2f}%\")"
   ]
  },
  {
   "cell_type": "markdown",
   "id": "273400f2",
   "metadata": {},
   "source": [
    "In dit deel van de code hebben we eerst onderzocht waar er sprake is van missende waarden, door per kolom het percentage ontbrekende data te berekenen. Wat hierbij direct opvalt, is dat de kolom met CO₂-uitstoot per jaar (in kilogram) bijna 50% aan ontbrekende waarden bevat. Op zichzelf hoeft dat niet problematisch te zijn, maar het betekent wel dat we de helft van deze data slechts beperkt kunnen gebruiken voor bepaalde analyses of modellen.\n",
    "\n",
    "Een mogelijke aanpak zou kunnen zijn om deze kolom te gebruiken als basis voor een train-test-split. We zouden dan de rijen zonder een CO₂-waarde kunnen gebruiken voor training, en de rijen met een CO₂-waarde als testset. Zo maken we optimaal gebruik van de beschikbare data, ondanks de hoge mate van ontbrekende waarden in deze specifieke variabele. Dit is voorlopig slechts een overweging en kan later verder worden uitgewerkt.\n",
    "\n",
    "Verder zien we dat ook de kolommen jaarsalaris, stad, opleidingsniveau en autobezit allemaal exact dezelfde hoeveelheid missende waarden hebben. Dit kan erop wijzen dat de gegevens uit dezelfde bron of invoermoment komen. Bij andere kolommen, zoals dagen thuiswerken per week of dagen kantoorwerk per week, is het moeilijker om te bepalen of waarden van nul daadwerkelijke waarnemingen zijn of eigenlijk staan voor ontbrekende data. Hier moeten we dus extra voorzichtig mee omgaan.\n",
    "\n",
    "Wat betreft de aanpak van missende waarden in de code:\n",
    "Voor numerieke en ratio-variabelen hebben we ervoor gekozen om te imputeren met de mediaan, omdat imputeren met nul de verdeling en correlaties aanzienlijk zou kunnen verstoren. Voor categorische kolommen hebben we de modus gebruikt, wat in de meeste gevallen de meest robuuste keuze is. Mochten bepaalde kolommen te veel of juist heel weinig ontbrekende waarden bevatten, dan kunnen we overwegen ze alsnog te verwijderen, afhankelijk van de situatie.\n",
    "\n",
    "De imputatie hebben we geïmplementeerd met behulp van for-loops. Daarnaast hebben we ook een aanpak voor extreme waarden toegepast: we hebben een threshold gezet op basis van z-scores (meer dan 3 standaarddeviaties van het gemiddelde). Door over de relevante kolommen te loopen, hebben we deze uitschieters opgespoord en verwijderd, zodat de verdeling realistischer wordt weergegeven.\n",
    "\n",
    "In de visualisaties is onder andere zichtbaar dat het gewicht in kilogram nog aanzienlijke spreiding vertoont, en dat er zelfs een waarde van 0 aanwezig was – wat duidelijk onrealistisch is en daarom is verwijderd. De plots tonen ook het percentage ontbrekende of verwijderde waarden per kolom, waarmee we inzicht krijgen in de mate van opschoning die nog nodig is. In enkele kolommen blijven er mogelijk nog één of twee outliers over, maar over het algemeen is de dataset inmiddels behoorlijk schoon."
   ]
  },
  {
   "cell_type": "markdown",
   "id": "7f639670ffb56a61",
   "metadata": {},
   "source": [
    "### 4.\tKies 2 onafhankelijke variabelen waarvan je denkt dat het invloed kan hebben op de jaarlijkse CO2 uitstoot. Visualiseer de verdeling van deze twee variabelen en de verdeling van de afhankelijke variabele."
   ]
  },
  {
   "cell_type": "code",
   "execution_count": 37,
   "id": "f107c29f87b53f33",
   "metadata": {
    "ExecuteTime": {
     "end_time": "2025-06-13T07:34:39.725247Z",
     "start_time": "2025-06-13T07:34:38.781123Z"
    }
   },
   "outputs": [
    {
     "data": {
      "image/png": "[encoded data removed]",
      "text/plain": [
       "<Figure size 640x480 with 1 Axes>"
      ]
     },
     "metadata": {},
     "output_type": "display_data"
    },
    {
     "data": {
      "image/png": "[encoded data removed]",
      "text/plain": [
       "<Figure size 640x480 with 1 Axes>"
      ]
     },
     "metadata": {},
     "output_type": "display_data"
    },
    {
     "data": {
      "image/png": "[encoded data removed]",
      "text/plain": [
       "<Figure size 640x480 with 1 Axes>"
      ]
     },
     "metadata": {},
     "output_type": "display_data"
    }
   ],
   "source": [
    "# 4\n",
    "# heatmap\n",
    "#numeric_cols = df_co2.select_dtypes(include=['int64', 'float64']).columns\n",
    "#df_numeric = df_co2[numeric_cols]\n",
    "#plt.figure(figsize=(10, 5))\n",
    "#sns.heatmap(df_numeric.corr(), annot=True)\n",
    "#plt.show()\n",
    "\n",
    "# columns\n",
    "car_kpy = df_co2['km_auto_per_jaar']\n",
    "plane_kpy = df_co2['km_vliegtuig_per_jaar']\n",
    "co2_py = df_co2['co2_uitstoot_per_jaar_KG']\n",
    "#sns.regplot(x=car_kpy, y=co2_py)\n",
    "#plt.show()\n",
    "#sns.regplot(x=plane_kpy, y=co2_py)\n",
    "#plt.show()\n",
    "\n",
    "# hist plot\n",
    "def hist_plot_maker(data, x):\n",
    "    sns.histplot(data=data, x=x)\n",
    "    plt.show()\n",
    "hist_plot_maker(df_co2, car_kpy)\n",
    "hist_plot_maker(df_co2, plane_kpy)\n",
    "hist_plot_maker(df_co2, co2_py)"
   ]
  },
  {
   "cell_type": "markdown",
   "id": "49a0b999",
   "metadata": {},
   "source": [
    "Twee kolommen die ik heb geselecteerd vanwege een mogelijke correlatie of invloed op de variabele \"co2_uitstoot_per_jaar_KG\" zijn \"km_auto_per_jaar\" en \"km_vliegtuig_per_jaar\". Ik heb juist voor deze twee gekozen omdat het om veelgebruikte vervoersmiddelen gaat, die bovendien bekend staan om hun relatief hoge brandstofverbruik.\n",
    "\n",
    "Op de heatmap van de correlatiematrix is te zien dat deze aanname grotendeels klopt: beide variabelen vertonen inderdaad een van de sterkste correlaties met de CO₂-uitstoot. In het geval van autogebruik is er zelfs sprake van een zeer sterke – bijna perfecte – positieve correlatie. Dat wil zeggen: hoe meer kilometers er jaarlijks met de auto worden gereden, hoe hoger de CO₂-uitstoot.\n",
    "\n",
    "Wat echter opvalt, is dat het gebruik van het vliegtuig – ondanks dat het de tweede hoogste correlatie met CO₂-uitstoot heeft – alsnog maar een zwakke positieve correlatie laat zien. Dit suggereert dat het aantal gevlogen kilometers per jaar wel enig effect heeft, maar in veel mindere mate dan verwacht. Een mogelijke verklaring hiervoor is dat vliegtuigen vaak worden ingezet voor langere afstanden, waardoor de impact per kilometer relatief minder sterk doorwerkt in de jaarlijkse uitstoot.\n",
    "\n",
    "Voor de visualisatie heb ik gekozen voor een histogram, omdat dit type plot een goed beeld geeft van de verdeling van de waarden binnen een variabele.\n",
    "\n",
    "Verder valt op dat er – afgezien van de CO₂-waarde zelf – geen andere variabelen zijn met een duidelijke of sterke correlatie: vrijwel alle andere waarden in de correlatiematrix blijven onder een grens van 0.1. Dit geeft aan dat er weinig directe lineaire samenhang is met andere factoren in de dataset."
   ]
  },
  {
   "cell_type": "markdown",
   "id": "924cdcfcf6f506ed",
   "metadata": {},
   "source": [
    "### 5.\tGeef een beschrijving van de 3 visualisaties met behulp van statistische termen."
   ]
  },
  {
   "cell_type": "markdown",
   "id": "249455ce76bbe78b",
   "metadata": {},
   "source": [
    "Een belangrijk aspect dat bij alle visualisaties naar voren komt, is de aanwezigheid van een groot aantal waarden rond nul. Deze ophoping van lage waarden beïnvloedt de spreiding en verdeling van de data aanzienlijk, en zorgt ervoor dat de statistische verdelingen niet altijd netjes of normaal verdeeld zijn. Dit was ook de reden waarom ik ervoor heb gekozen om de interkwartielafstand (IQR) te gebruiken in plaats van het bereik (min-max), omdat IQR robuuster is voor scheve of asymmetrische verdelingen en minder gevoelig voor outliers.\n",
    "\n",
    "Analyse per variabele:\n",
    "1. km_auto_per_jaar\n",
    "Bij deze variabele valt op dat, na het verwijderen van extreme waarden, het gemiddelde, de mediaan en de modus vrijwel gelijk liggen. Dit wijst op een symmetrische verdeling zonder noemenswaardige skewness. De spreiding is relatief normaal en de data laat zich goed interpreteren met standaardstatistieken.\n",
    "\n",
    "2. km_vliegtuig_per_jaar\n",
    "De verdeling van deze variabele is duidelijk asymmetrisch. Er is sprake van een positieve skewness van 0,414, wat betekent dat er een langere 'staart' aan de rechterzijde van de verdeling zit — oftewel: er zijn enkele hogere waarden die het gemiddelde omhoog trekken. Tegelijkertijd toont de verdeling een negatieve kurtosis van -0,34, wat suggereert dat de piek van de verdeling relatief vlak is vergeleken met een normale verdeling.\n",
    "\n",
    "3. co2_uitstoot_per_jaar_KG\n",
    "Deze variabele vertoont een vergelijkbare positieve skewness (0,440) als de variabele km_vliegtuig_per_jaar, met een nog sterkere negatieve kurtosis. Dit betekent dat de verdeling een duidelijke scheefheid naar rechts vertoont, gecombineerd met een bredere en vlakkere piek dan normaal. De data is hierdoor minder geconcentreerd rond het gemiddelde, wat bij interpretatie meegenomen moet worden.\n",
    "\n"
   ]
  },
  {
   "cell_type": "code",
   "execution_count": 38,
   "id": "47ad8765da5574bf",
   "metadata": {
    "ExecuteTime": {
     "end_time": "2025-06-13T07:34:39.770342Z",
     "start_time": "2025-06-13T07:34:39.748416Z"
    }
   },
   "outputs": [
    {
     "name": "stdout",
     "output_type": "stream",
     "text": [
      "--- km_auto_per_jaar ---\n",
      "count     1500.000000\n",
      "mean      8597.262393\n",
      "std       7021.428530\n",
      "min      -6506.630000\n",
      "25%          0.000000\n",
      "50%       9356.380000\n",
      "75%      13842.732500\n",
      "max      34618.870000\n",
      "Name: km_auto_per_jaar, dtype: float64\n",
      "Median: 9356.380000000001\n",
      "Skewness: 0.1678828783231597\n",
      "Kurtosis: -0.960381076063419\n",
      "IQR: 13842.7325\n",
      "Null: 0\n",
      "--- km_vliegtuig_per_jaar ---\n",
      "count    1500.000000\n",
      "mean     1072.277327\n",
      "std       748.651072\n",
      "min         0.000000\n",
      "25%       471.540000\n",
      "50%      1052.140000\n",
      "75%      1588.555000\n",
      "max      3808.200000\n",
      "Name: km_vliegtuig_per_jaar, dtype: float64\n",
      "Median: 1052.1399999999999\n",
      "Skewness: 0.41399042702396605\n",
      "Kurtosis: -0.3404479466219743\n",
      "IQR: 1117.015\n",
      "Null: 0\n",
      "--- co2_uitstoot_per_jaar_KG ---\n",
      "count     1500.000000\n",
      "mean      4911.244920\n",
      "std       3414.938547\n",
      "min          0.000000\n",
      "25%       1471.517500\n",
      "50%       4677.280000\n",
      "75%       7471.172500\n",
      "max      18098.440000\n",
      "Name: co2_uitstoot_per_jaar_KG, dtype: float64\n",
      "Median: 4677.28\n",
      "Skewness: 0.4425691062545293\n",
      "Kurtosis: -0.698498412847635\n",
      "IQR: 5999.655\n",
      "Null: 0\n"
     ]
    }
   ],
   "source": [
    "# 5\n",
    "# function with column statistics\n",
    "def show_statistics(var):\n",
    "    print(var.describe())\n",
    "    print(f\"Median: {var.median()}\")\n",
    "    print(f\"Skewness: {var.skew()}\")\n",
    "    print(f\"Kurtosis: {var.kurt()}\")\n",
    "    print(f\"IQR: {iqr(var)}\")\n",
    "    print(f\"Null: {var.isnull().sum()}\")\n",
    "print(\"--- km_auto_per_jaar ---\")\n",
    "show_statistics(car_kpy)\n",
    "print(\"--- km_vliegtuig_per_jaar ---\")\n",
    "show_statistics(plane_kpy)\n",
    "print(\"--- co2_uitstoot_per_jaar_KG ---\")\n",
    "show_statistics(co2_py)"
   ]
  },
  {
   "cell_type": "markdown",
   "id": "13814d25ae25452a",
   "metadata": {},
   "source": [
    "6.\tToets, met behulp van statistiek, of de verdelingen (vraag 4) normaal verdeeld zijn."
   ]
  },
  {
   "cell_type": "markdown",
   "id": "93815548e42723ed",
   "metadata": {},
   "source": [
    "Wij hebben een functie gemaakt die de Shapiro-test gebruikt om te bepalen of de verdelingen normaal zijn. Deze test is niet perfect, maar in combinatie met de statistieken uit de vorige opdracht geeft het wel een goed beeld van hoe de data verdeeld is.\n",
    "\n",
    "We hebben een p-waarde van 0,05 als grens gebruikt, omdat dit een gangbare drempel is in statistische toetsen. Als de p-waarde groter is dan 0,05, dan gaan we ervan uit dat de data normaal verdeeld is."
   ]
  },
  {
   "cell_type": "code",
   "execution_count": 39,
   "id": "9045510785682ffd",
   "metadata": {
    "ExecuteTime": {
     "end_time": "2025-06-13T07:34:39.849026Z",
     "start_time": "2025-06-13T07:34:39.829423Z"
    }
   },
   "outputs": [
    {
     "name": "stdout",
     "output_type": "stream",
     "text": [
      "--- km_auto_per_jaar ---\n",
      "Normaal Verdeeld: False (8.351651722054391e-28)\n",
      "--- km_vliegtuig_per_jaar ---\n",
      "Normaal Verdeeld: False (1.8340720034474885e-18)\n",
      "--- co2_uitstoot_per_jaar_KG ---\n",
      "Normaal Verdeeld: False (3.329854456141171e-24)\n"
     ]
    }
   ],
   "source": [
    "# 6\n",
    "def normaal_verdeeld(var):\n",
    "    stat, p = shapiro(var)\n",
    "    print(f\"Normaal Verdeeld: {p > 0.05} ({p})\")\n",
    "\n",
    "print(\"--- km_auto_per_jaar ---\")\n",
    "normaal_verdeeld(car_kpy)\n",
    "print(\"--- km_vliegtuig_per_jaar ---\")\n",
    "normaal_verdeeld(plane_kpy)\n",
    "print(\"--- co2_uitstoot_per_jaar_KG ---\")\n",
    "normaal_verdeeld(co2_py) # p van 1 kan niet hier kloppen..."
   ]
  },
  {
   "cell_type": "markdown",
   "id": "90e53b2cd28304d5",
   "metadata": {},
   "source": [
    "7.\tOm ervoor te zorgen dat de onafhankelijke variabelen gebruikt kunnen worden voor Machine Learning moeten ze getransformeerd worden. Geef per meetniveau aan wat er moet gebeuren en waarom."
   ]
  },
  {
   "cell_type": "markdown",
   "id": "14dceabb1ea36c1c",
   "metadata": {},
   "source": [
    "Om te bepalen hoe we de data moeten transformeren, is het belangrijk eerst goed te begrijpen wat het meetniveau van elke variabele betekent. Dat bepaalt namelijk hoe we ermee om moeten gaan in het model.\n",
    "\n",
    "Nominale variabelen, zoals geslacht of provincie, zijn categorisch zonder vaste volgorde. Deze moeten worden omgezet naar dummyvariabelen met one-hot encoding. Zo kan het model de verschillende categorieën gebruiken zonder te denken dat er een bepaalde volgorde in zit.\n",
    "\n",
    "Ordinale variabelen, zoals opleidingsniveau of huishoudgrootte op een schaal van 1 tot 5, hebben wél een vaste volgorde. Deze zetten we om naar numerieke waarden met een logische volgorde, bijvoorbeeld via een mapping. Zo begrijpt het model dat een hogere waarde iets betekent, zonder dat het rekent alsof het echte getallen zijn zoals bij ratio.\n",
    "\n",
    "Interval- en ratio-variabelen, zoals leeftijd, gewicht of kilometers per jaar, zijn continue numerieke waarden. Deze worden meestal gestandaardiseerd (bijvoorbeeld met een z-score) zodat de schaalverschillen tussen variabelen worden opgeheven en ze beter met elkaar te vergelijken zijn. Ratio-variabelen beginnen bij nul, maar worden verder op dezelfde manier behandeld als intervaldata.\n",
    "\n",
    "Er zijn ook variabelen die op het eerste gezicht ratio lijken, zoals dagen thuiswerken per week, maar die in sommige contexten beter als ordinaal kunnen worden gezien — zeker als er een specifieke relatie wordt verwacht met de uitkomstvariabele, zoals CO₂-uitstoot. Het is daarom belangrijk om per geval af te wegen hoe we ze definiëren.\n",
    "\n",
    "Verder is het cruciaal dat de data wordt voorbereid als een schone DataFrame of NumPy array, zonder ontbrekende waarden, en in numeriek formaat — anders kunnen veel modellen er niet mee overweg.\n",
    "\n",
    "Tot slot hebben we ook gekeken naar de verdeling van de data. In sommige gevallen kunnen we de verdeling proberen normaal te maken met transformaties. Als dat niet lukt, dan moeten we mogelijk overstappen op non-parametrische methoden, zoals een beslisboom, die minder gevoelig zijn voor verdelingsvormen. Ook is het goed om te onthouden dat de keuze tussen parametrisch en non-parametrisch afhangt van hoe goed de data aan de aannames voldoet, zoals normaliteit en lineariteit."
   ]
  },
  {
   "cell_type": "markdown",
   "id": "c1c58fb7607ae232",
   "metadata": {},
   "source": [
    "### 8.\tVoer de transformatie uit. Let op dat je de getransformeerde variabelen in een nieuw dataframe opslaat, zodat je de oorspronkelijke waarden behoudt. De getransformeerde variabelen gebruik je alleen bij deel D. Zorg dat je inzicht krijgt in de relatie tussen de variabelen. Wat zijn je bevindingen?"
   ]
  },
  {
   "cell_type": "markdown",
   "id": "fb43442fa4aa6c35",
   "metadata": {},
   "source": [
    "Ik heb copies gemaakt van dataframes om de organelle niet te veranderen. Daarna heb ik aanpassingen gemaakt op basis van opdracht 1 voor de kolommen. \n",
    "\n",
    "\n",
    "Wij hebben besloten om onze bevindingen en de relaties tussen de variabelen in opdracht 9 concreet uit te leggen. Zo vermijden we dat we het te gecompartmentaliseerd houden en zorgen ervoor dat het duidelijk in één deel verwerkt is, zonder verwarring te veroorzaken."
   ]
  },
  {
   "cell_type": "code",
   "execution_count": 40,
   "id": "373e7c30b96d3d9a",
   "metadata": {
    "ExecuteTime": {
     "end_time": "2025-06-13T10:14:27.388969Z",
     "start_time": "2025-06-13T10:14:27.363151Z"
    }
   },
   "outputs": [
    {
     "name": "stdout",
     "output_type": "stream",
     "text": [
      "['MBO' 'WO' 'HBO']\n",
      "['Nooit' 'Heel soms' 'Altijd' 'Vaak' 'Soms']\n",
      "\n",
      "Chi-squared test tussen geslacht en burgerlijke_staat:\n",
      "Chi2 waarde: 5.14\n",
      "p-waarde: 0.7427\n",
      "\n",
      "Chi-squared test tussen geslacht en stad:\n",
      "Chi2 waarde: 50.23\n",
      "p-waarde: 0.3850\n",
      "\n",
      "Chi-squared test tussen geslacht en provincie:\n",
      "Chi2 waarde: 14.85\n",
      "p-waarde: 0.8686\n",
      "\n",
      "Chi-squared test tussen geslacht en autobezit:\n",
      "Chi2 waarde: 0.83\n",
      "p-waarde: 0.6607\n",
      "\n",
      "Chi-squared test tussen geslacht en fietsbezit:\n",
      "Chi2 waarde: 0.21\n",
      "p-waarde: 0.8985\n",
      "\n",
      "Chi-squared test tussen geslacht en elektrisch_auto:\n",
      "Chi2 waarde: 1.28\n",
      "p-waarde: 0.5265\n",
      "\n",
      "Chi-squared test tussen burgerlijke_staat en geslacht:\n",
      "Chi2 waarde: 5.14\n",
      "p-waarde: 0.7427\n",
      "\n",
      "Chi-squared test tussen burgerlijke_staat en stad:\n",
      "Chi2 waarde: 104.44\n",
      "p-waarde: 0.2612\n",
      "\n",
      "Chi-squared test tussen burgerlijke_staat en provincie:\n",
      "Chi2 waarde: 37.85\n",
      "p-waarde: 0.7314\n",
      "\n",
      "Chi-squared test tussen burgerlijke_staat en autobezit:\n",
      "Chi2 waarde: 1.01\n",
      "p-waarde: 0.9082\n",
      "\n",
      "Chi-squared test tussen burgerlijke_staat en fietsbezit:\n",
      "Chi2 waarde: 3.42\n",
      "p-waarde: 0.4902\n",
      "\n",
      "Chi-squared test tussen burgerlijke_staat en elektrisch_auto:\n",
      "Chi2 waarde: 2.41\n",
      "p-waarde: 0.6603\n",
      "\n",
      "Chi-squared test tussen stad en geslacht:\n",
      "Chi2 waarde: 50.23\n",
      "p-waarde: 0.3850\n",
      "\n",
      "Chi-squared test tussen stad en burgerlijke_staat:\n",
      "Chi2 waarde: 104.44\n",
      "p-waarde: 0.2612\n",
      "\n",
      "Chi-squared test tussen stad en provincie:\n",
      "Chi2 waarde: 269.94\n",
      "p-waarde: 0.3877\n",
      "\n",
      "Chi-squared test tussen stad en autobezit:\n",
      "Chi2 waarde: 30.19\n",
      "p-waarde: 0.1787\n",
      "\n",
      "Chi-squared test tussen stad en fietsbezit:\n",
      "Chi2 waarde: 21.04\n",
      "p-waarde: 0.6364\n",
      "\n",
      "Chi-squared test tussen stad en elektrisch_auto:\n",
      "Chi2 waarde: 20.93\n",
      "p-waarde: 0.6431\n",
      "\n",
      "Chi-squared test tussen provincie en geslacht:\n",
      "Chi2 waarde: 14.85\n",
      "p-waarde: 0.8686\n",
      "\n",
      "Chi-squared test tussen provincie en burgerlijke_staat:\n",
      "Chi2 waarde: 37.85\n",
      "p-waarde: 0.7314\n",
      "\n",
      "Chi-squared test tussen provincie en stad:\n",
      "Chi2 waarde: 269.94\n",
      "p-waarde: 0.3877\n",
      "\n",
      "Chi-squared test tussen provincie en autobezit:\n",
      "Chi2 waarde: 14.55\n",
      "p-waarde: 0.2039\n",
      "\n",
      "Chi-squared test tussen provincie en fietsbezit:\n",
      "Chi2 waarde: 10.08\n",
      "p-waarde: 0.5235\n",
      "\n",
      "Chi-squared test tussen provincie en elektrisch_auto:\n",
      "Chi2 waarde: 6.06\n",
      "p-waarde: 0.8691\n",
      "\n",
      "Chi-squared test tussen autobezit en geslacht:\n",
      "Chi2 waarde: 0.83\n",
      "p-waarde: 0.6607\n",
      "\n",
      "Chi-squared test tussen autobezit en burgerlijke_staat:\n",
      "Chi2 waarde: 1.01\n",
      "p-waarde: 0.9082\n",
      "\n",
      "Chi-squared test tussen autobezit en stad:\n",
      "Chi2 waarde: 30.19\n",
      "p-waarde: 0.1787\n",
      "\n",
      "Chi-squared test tussen autobezit en provincie:\n",
      "Chi2 waarde: 14.55\n",
      "p-waarde: 0.2039\n",
      "\n",
      "Chi-squared test tussen autobezit en fietsbezit:\n",
      "Chi2 waarde: 0.03\n",
      "p-waarde: 0.8569\n",
      "\n",
      "Chi-squared test tussen autobezit en elektrisch_auto:\n",
      "Chi2 waarde: 0.10\n",
      "p-waarde: 0.7495\n",
      "\n",
      "Chi-squared test tussen fietsbezit en geslacht:\n",
      "Chi2 waarde: 0.21\n",
      "p-waarde: 0.8985\n",
      "\n",
      "Chi-squared test tussen fietsbezit en burgerlijke_staat:\n",
      "Chi2 waarde: 3.42\n",
      "p-waarde: 0.4902\n",
      "\n",
      "Chi-squared test tussen fietsbezit en stad:\n",
      "Chi2 waarde: 21.04\n",
      "p-waarde: 0.6364\n",
      "\n",
      "Chi-squared test tussen fietsbezit en provincie:\n",
      "Chi2 waarde: 10.08\n",
      "p-waarde: 0.5235\n",
      "\n",
      "Chi-squared test tussen fietsbezit en autobezit:\n",
      "Chi2 waarde: 0.03\n",
      "p-waarde: 0.8569\n",
      "\n",
      "Chi-squared test tussen fietsbezit en elektrisch_auto:\n",
      "Chi2 waarde: 0.09\n",
      "p-waarde: 0.7662\n",
      "\n",
      "Chi-squared test tussen elektrisch_auto en geslacht:\n",
      "Chi2 waarde: 1.28\n",
      "p-waarde: 0.5265\n",
      "\n",
      "Chi-squared test tussen elektrisch_auto en burgerlijke_staat:\n",
      "Chi2 waarde: 2.41\n",
      "p-waarde: 0.6603\n",
      "\n",
      "Chi-squared test tussen elektrisch_auto en stad:\n",
      "Chi2 waarde: 20.93\n",
      "p-waarde: 0.6431\n",
      "\n",
      "Chi-squared test tussen elektrisch_auto en provincie:\n",
      "Chi2 waarde: 6.06\n",
      "p-waarde: 0.8691\n",
      "\n",
      "Chi-squared test tussen elektrisch_auto en autobezit:\n",
      "Chi2 waarde: 0.10\n",
      "p-waarde: 0.7495\n",
      "\n",
      "Chi-squared test tussen elektrisch_auto en fietsbezit:\n",
      "Chi2 waarde: 0.09\n",
      "p-waarde: 0.7662\n",
      "\n",
      "ANOVA tussen geslacht en leeftijd:\n",
      "F-statistic: 1.61\n",
      "p-waarde: 0.1995\n",
      "\n",
      "ANOVA tussen geslacht en gewicht_KG:\n",
      "F-statistic: 2.92\n",
      "p-waarde: 0.0544\n",
      "\n",
      "ANOVA tussen geslacht en jaarsalaris_eu:\n",
      "F-statistic: 0.53\n",
      "p-waarde: 0.5893\n",
      "\n",
      "ANOVA tussen geslacht en huishouden_grootte:\n",
      "F-statistic: 0.50\n",
      "p-waarde: 0.6091\n",
      "\n",
      "ANOVA tussen geslacht en km_auto_per_jaar:\n",
      "F-statistic: 1.24\n",
      "p-waarde: 0.2883\n",
      "\n",
      "ANOVA tussen geslacht en km_fiets_per_jaar:\n",
      "F-statistic: 0.65\n",
      "p-waarde: 0.5244\n",
      "\n",
      "ANOVA tussen geslacht en km_ov_per_jaar:\n",
      "F-statistic: 0.13\n",
      "p-waarde: 0.8796\n",
      "\n",
      "ANOVA tussen geslacht en km_vliegtuig_per_jaar:\n",
      "F-statistic: 0.94\n",
      "p-waarde: 0.3898\n",
      "\n",
      "ANOVA tussen geslacht en dagen_thuiswerken_per_week_pro_rato:\n",
      "F-statistic: 0.47\n",
      "p-waarde: 0.6255\n",
      "\n",
      "ANOVA tussen geslacht en dagen_kantoorwerken_per_week_pro_rato:\n",
      "F-statistic: 0.47\n",
      "p-waarde: 0.6255\n",
      "\n",
      "ANOVA tussen geslacht en dagen_in_buitenland_per_jaar:\n",
      "F-statistic: 0.39\n",
      "p-waarde: 0.6793\n",
      "\n",
      "ANOVA tussen burgerlijke_staat en leeftijd:\n",
      "F-statistic: 0.58\n",
      "p-waarde: 0.6806\n",
      "\n",
      "ANOVA tussen burgerlijke_staat en gewicht_KG:\n",
      "F-statistic: 0.11\n",
      "p-waarde: 0.9785\n",
      "\n",
      "ANOVA tussen burgerlijke_staat en jaarsalaris_eu:\n",
      "F-statistic: 2.68\n",
      "p-waarde: 0.0302\n",
      "\n",
      "ANOVA tussen burgerlijke_staat en huishouden_grootte:\n",
      "F-statistic: 0.23\n",
      "p-waarde: 0.9229\n",
      "\n",
      "ANOVA tussen burgerlijke_staat en km_auto_per_jaar:\n",
      "F-statistic: 0.58\n",
      "p-waarde: 0.6802\n",
      "\n",
      "ANOVA tussen burgerlijke_staat en km_fiets_per_jaar:\n",
      "F-statistic: 0.67\n",
      "p-waarde: 0.6148\n",
      "\n",
      "ANOVA tussen burgerlijke_staat en km_ov_per_jaar:\n",
      "F-statistic: 1.68\n",
      "p-waarde: 0.1524\n",
      "\n",
      "ANOVA tussen burgerlijke_staat en km_vliegtuig_per_jaar:\n",
      "F-statistic: 0.97\n",
      "p-waarde: 0.4206\n",
      "\n",
      "ANOVA tussen burgerlijke_staat en dagen_thuiswerken_per_week_pro_rato:\n",
      "F-statistic: 0.48\n",
      "p-waarde: 0.7515\n",
      "\n",
      "ANOVA tussen burgerlijke_staat en dagen_kantoorwerken_per_week_pro_rato:\n",
      "F-statistic: 0.48\n",
      "p-waarde: 0.7515\n",
      "\n",
      "ANOVA tussen burgerlijke_staat en dagen_in_buitenland_per_jaar:\n",
      "F-statistic: 0.68\n",
      "p-waarde: 0.6052\n",
      "\n",
      "ANOVA tussen stad en leeftijd:\n",
      "F-statistic: 1.03\n",
      "p-waarde: 0.4243\n",
      "\n",
      "ANOVA tussen stad en gewicht_KG:\n",
      "F-statistic: 1.29\n",
      "p-waarde: 0.1587\n",
      "\n",
      "ANOVA tussen stad en jaarsalaris_eu:\n",
      "F-statistic: 0.79\n",
      "p-waarde: 0.7555\n",
      "\n",
      "ANOVA tussen stad en huishouden_grootte:\n",
      "F-statistic: 0.74\n",
      "p-waarde: 0.8155\n",
      "\n",
      "ANOVA tussen stad en km_auto_per_jaar:\n",
      "F-statistic: 1.33\n",
      "p-waarde: 0.1331\n",
      "\n",
      "ANOVA tussen stad en km_fiets_per_jaar:\n",
      "F-statistic: 0.80\n",
      "p-waarde: 0.7399\n",
      "\n",
      "ANOVA tussen stad en km_ov_per_jaar:\n",
      "F-statistic: 1.37\n",
      "p-waarde: 0.1114\n",
      "\n",
      "ANOVA tussen stad en km_vliegtuig_per_jaar:\n",
      "F-statistic: 0.97\n",
      "p-waarde: 0.5102\n",
      "\n",
      "ANOVA tussen stad en dagen_thuiswerken_per_week_pro_rato:\n",
      "F-statistic: 0.98\n",
      "p-waarde: 0.4952\n",
      "\n",
      "ANOVA tussen stad en dagen_kantoorwerken_per_week_pro_rato:\n",
      "F-statistic: 0.98\n",
      "p-waarde: 0.4952\n",
      "\n",
      "ANOVA tussen stad en dagen_in_buitenland_per_jaar:\n",
      "F-statistic: 0.94\n",
      "p-waarde: 0.5423\n",
      "\n",
      "ANOVA tussen provincie en leeftijd:\n",
      "F-statistic: 1.04\n",
      "p-waarde: 0.4080\n",
      "\n",
      "ANOVA tussen provincie en gewicht_KG:\n",
      "F-statistic: 0.86\n",
      "p-waarde: 0.5841\n",
      "\n",
      "ANOVA tussen provincie en jaarsalaris_eu:\n",
      "F-statistic: 1.14\n",
      "p-waarde: 0.3219\n",
      "\n",
      "ANOVA tussen provincie en huishouden_grootte:\n",
      "F-statistic: 0.41\n",
      "p-waarde: 0.9514\n",
      "\n",
      "ANOVA tussen provincie en km_auto_per_jaar:\n",
      "F-statistic: 1.15\n",
      "p-waarde: 0.3187\n",
      "\n",
      "ANOVA tussen provincie en km_fiets_per_jaar:\n",
      "F-statistic: 0.83\n",
      "p-waarde: 0.6121\n",
      "\n",
      "ANOVA tussen provincie en km_ov_per_jaar:\n",
      "F-statistic: 0.58\n",
      "p-waarde: 0.8498\n",
      "\n",
      "ANOVA tussen provincie en km_vliegtuig_per_jaar:\n",
      "F-statistic: 1.05\n",
      "p-waarde: 0.3979\n",
      "\n",
      "ANOVA tussen provincie en dagen_thuiswerken_per_week_pro_rato:\n",
      "F-statistic: 1.26\n",
      "p-waarde: 0.2434\n",
      "\n",
      "ANOVA tussen provincie en dagen_kantoorwerken_per_week_pro_rato:\n",
      "F-statistic: 1.26\n",
      "p-waarde: 0.2434\n",
      "\n",
      "ANOVA tussen provincie en dagen_in_buitenland_per_jaar:\n",
      "F-statistic: 2.14\n",
      "p-waarde: 0.0154\n",
      "\n",
      "ANOVA tussen autobezit en leeftijd:\n",
      "F-statistic: 0.54\n",
      "p-waarde: 0.4612\n",
      "\n",
      "ANOVA tussen autobezit en gewicht_KG:\n",
      "F-statistic: 0.44\n",
      "p-waarde: 0.5076\n",
      "\n",
      "ANOVA tussen autobezit en jaarsalaris_eu:\n",
      "F-statistic: 0.80\n",
      "p-waarde: 0.3699\n",
      "\n",
      "ANOVA tussen autobezit en huishouden_grootte:\n",
      "F-statistic: 0.13\n",
      "p-waarde: 0.7208\n",
      "\n",
      "ANOVA tussen autobezit en km_auto_per_jaar:\n",
      "F-statistic: 2331.35\n",
      "p-waarde: 0.0000\n",
      "\n",
      "ANOVA tussen autobezit en km_fiets_per_jaar:\n",
      "F-statistic: 0.09\n",
      "p-waarde: 0.7674\n",
      "\n",
      "ANOVA tussen autobezit en km_ov_per_jaar:\n",
      "F-statistic: 0.21\n",
      "p-waarde: 0.6446\n",
      "\n",
      "ANOVA tussen autobezit en km_vliegtuig_per_jaar:\n",
      "F-statistic: 2.73\n",
      "p-waarde: 0.0986\n",
      "\n",
      "ANOVA tussen autobezit en dagen_thuiswerken_per_week_pro_rato:\n",
      "F-statistic: 0.13\n",
      "p-waarde: 0.7168\n",
      "\n",
      "ANOVA tussen autobezit en dagen_kantoorwerken_per_week_pro_rato:\n",
      "F-statistic: 0.13\n",
      "p-waarde: 0.7168\n",
      "\n",
      "ANOVA tussen autobezit en dagen_in_buitenland_per_jaar:\n",
      "F-statistic: 1.75\n",
      "p-waarde: 0.1857\n",
      "\n",
      "ANOVA tussen fietsbezit en leeftijd:\n",
      "F-statistic: 0.27\n",
      "p-waarde: 0.6034\n",
      "\n",
      "ANOVA tussen fietsbezit en gewicht_KG:\n",
      "F-statistic: 0.12\n",
      "p-waarde: 0.7238\n",
      "\n",
      "ANOVA tussen fietsbezit en jaarsalaris_eu:\n",
      "F-statistic: 0.44\n",
      "p-waarde: 0.5065\n",
      "\n",
      "ANOVA tussen fietsbezit en huishouden_grootte:\n",
      "F-statistic: 7.37\n",
      "p-waarde: 0.0067\n",
      "\n",
      "ANOVA tussen fietsbezit en km_auto_per_jaar:\n",
      "F-statistic: 0.03\n",
      "p-waarde: 0.8519\n",
      "\n",
      "ANOVA tussen fietsbezit en km_fiets_per_jaar:\n",
      "F-statistic: 2263.14\n",
      "p-waarde: 0.0000\n",
      "\n",
      "ANOVA tussen fietsbezit en km_ov_per_jaar:\n",
      "F-statistic: 2.16\n",
      "p-waarde: 0.1419\n",
      "\n",
      "ANOVA tussen fietsbezit en km_vliegtuig_per_jaar:\n",
      "F-statistic: 0.07\n",
      "p-waarde: 0.7909\n",
      "\n",
      "ANOVA tussen fietsbezit en dagen_thuiswerken_per_week_pro_rato:\n",
      "F-statistic: 0.35\n",
      "p-waarde: 0.5538\n",
      "\n",
      "ANOVA tussen fietsbezit en dagen_kantoorwerken_per_week_pro_rato:\n",
      "F-statistic: 0.35\n",
      "p-waarde: 0.5538\n",
      "\n",
      "ANOVA tussen fietsbezit en dagen_in_buitenland_per_jaar:\n",
      "F-statistic: 0.65\n",
      "p-waarde: 0.4199\n",
      "\n",
      "ANOVA tussen elektrisch_auto en leeftijd:\n",
      "F-statistic: 0.04\n",
      "p-waarde: 0.8347\n",
      "\n",
      "ANOVA tussen elektrisch_auto en gewicht_KG:\n",
      "F-statistic: 0.05\n",
      "p-waarde: 0.8259\n",
      "\n",
      "ANOVA tussen elektrisch_auto en jaarsalaris_eu:\n",
      "F-statistic: 0.01\n",
      "p-waarde: 0.9407\n",
      "\n",
      "ANOVA tussen elektrisch_auto en huishouden_grootte:\n",
      "F-statistic: 0.47\n",
      "p-waarde: 0.4954\n",
      "\n",
      "ANOVA tussen elektrisch_auto en km_auto_per_jaar:\n",
      "F-statistic: 0.00\n",
      "p-waarde: 0.9454\n",
      "\n",
      "ANOVA tussen elektrisch_auto en km_fiets_per_jaar:\n",
      "F-statistic: 0.00\n",
      "p-waarde: 0.9692\n",
      "\n",
      "ANOVA tussen elektrisch_auto en km_ov_per_jaar:\n",
      "F-statistic: 0.00\n",
      "p-waarde: 0.9994\n",
      "\n",
      "ANOVA tussen elektrisch_auto en km_vliegtuig_per_jaar:\n",
      "F-statistic: 0.71\n",
      "p-waarde: 0.4003\n",
      "\n",
      "ANOVA tussen elektrisch_auto en dagen_thuiswerken_per_week_pro_rato:\n",
      "F-statistic: 1.33\n",
      "p-waarde: 0.2491\n",
      "\n",
      "ANOVA tussen elektrisch_auto en dagen_kantoorwerken_per_week_pro_rato:\n",
      "F-statistic: 1.33\n",
      "p-waarde: 0.2491\n",
      "\n",
      "ANOVA tussen elektrisch_auto en dagen_in_buitenland_per_jaar:\n",
      "F-statistic: 0.27\n",
      "p-waarde: 0.6004\n",
      "\n",
      "T-test tussen geslacht en leeftijd:\n",
      "t-statistic: 0.00\n",
      "p-waarde: 0.9982\n",
      "\n",
      "T-test tussen geslacht en gewicht_KG:\n",
      "t-statistic: 1.94\n",
      "p-waarde: 0.0529\n",
      "\n",
      "T-test tussen geslacht en jaarsalaris_eu:\n",
      "t-statistic: -1.01\n",
      "p-waarde: 0.3115\n",
      "\n",
      "T-test tussen geslacht en huishouden_grootte:\n",
      "t-statistic: -0.22\n",
      "p-waarde: 0.8229\n",
      "\n",
      "T-test tussen geslacht en km_auto_per_jaar:\n",
      "t-statistic: 1.02\n",
      "p-waarde: 0.3083\n",
      "\n",
      "T-test tussen geslacht en km_fiets_per_jaar:\n",
      "t-statistic: -0.59\n",
      "p-waarde: 0.5529\n",
      "\n",
      "T-test tussen geslacht en km_ov_per_jaar:\n",
      "t-statistic: -0.13\n",
      "p-waarde: 0.8941\n",
      "\n",
      "T-test tussen geslacht en km_vliegtuig_per_jaar:\n",
      "t-statistic: 1.07\n",
      "p-waarde: 0.2826\n",
      "\n",
      "T-test tussen geslacht en dagen_thuiswerken_per_week_pro_rato:\n",
      "t-statistic: -0.42\n",
      "p-waarde: 0.6761\n",
      "\n",
      "T-test tussen geslacht en dagen_kantoorwerken_per_week_pro_rato:\n",
      "t-statistic: 0.42\n",
      "p-waarde: 0.6761\n",
      "\n",
      "T-test tussen geslacht en dagen_in_buitenland_per_jaar:\n",
      "t-statistic: 0.67\n",
      "p-waarde: 0.5015\n",
      "\n",
      "Pearson correlatie tussen leeftijd en gewicht_KG:\n",
      "Correlatie: 0.00\n",
      "p-waarde: 0.8999\n",
      "\n",
      "Pearson correlatie tussen leeftijd en jaarsalaris_eu:\n",
      "Correlatie: -0.03\n",
      "p-waarde: 0.2349\n",
      "\n",
      "Pearson correlatie tussen leeftijd en huishouden_grootte:\n",
      "Correlatie: 0.04\n",
      "p-waarde: 0.1561\n",
      "\n",
      "Pearson correlatie tussen leeftijd en km_auto_per_jaar:\n",
      "Correlatie: -0.01\n",
      "p-waarde: 0.8060\n",
      "\n",
      "Pearson correlatie tussen leeftijd en km_fiets_per_jaar:\n",
      "Correlatie: -0.02\n",
      "p-waarde: 0.3860\n",
      "\n",
      "Pearson correlatie tussen leeftijd en km_ov_per_jaar:\n",
      "Correlatie: -0.02\n",
      "p-waarde: 0.3805\n",
      "\n",
      "Pearson correlatie tussen leeftijd en km_vliegtuig_per_jaar:\n",
      "Correlatie: -0.00\n",
      "p-waarde: 0.9511\n",
      "\n",
      "Pearson correlatie tussen leeftijd en dagen_thuiswerken_per_week_pro_rato:\n",
      "Correlatie: 0.00\n",
      "p-waarde: 0.8490\n",
      "\n",
      "Pearson correlatie tussen leeftijd en dagen_kantoorwerken_per_week_pro_rato:\n",
      "Correlatie: -0.00\n",
      "p-waarde: 0.8490\n",
      "\n",
      "Pearson correlatie tussen leeftijd en dagen_in_buitenland_per_jaar:\n",
      "Correlatie: -0.03\n",
      "p-waarde: 0.2779\n",
      "\n",
      "Pearson correlatie tussen gewicht_KG en leeftijd:\n",
      "Correlatie: 0.00\n",
      "p-waarde: 0.8999\n",
      "\n",
      "Pearson correlatie tussen gewicht_KG en jaarsalaris_eu:\n",
      "Correlatie: -0.01\n",
      "p-waarde: 0.6833\n",
      "\n",
      "Pearson correlatie tussen gewicht_KG en huishouden_grootte:\n",
      "Correlatie: -0.05\n",
      "p-waarde: 0.0532\n",
      "\n",
      "Pearson correlatie tussen gewicht_KG en km_auto_per_jaar:\n",
      "Correlatie: 0.00\n",
      "p-waarde: 0.8484\n",
      "\n",
      "Pearson correlatie tussen gewicht_KG en km_fiets_per_jaar:\n",
      "Correlatie: 0.01\n",
      "p-waarde: 0.6752\n",
      "\n",
      "Pearson correlatie tussen gewicht_KG en km_ov_per_jaar:\n",
      "Correlatie: -0.02\n",
      "p-waarde: 0.5089\n",
      "\n",
      "Pearson correlatie tussen gewicht_KG en km_vliegtuig_per_jaar:\n",
      "Correlatie: 0.00\n",
      "p-waarde: 0.8747\n",
      "\n",
      "Pearson correlatie tussen gewicht_KG en dagen_thuiswerken_per_week_pro_rato:\n",
      "Correlatie: -0.00\n",
      "p-waarde: 0.9311\n",
      "\n",
      "Pearson correlatie tussen gewicht_KG en dagen_kantoorwerken_per_week_pro_rato:\n",
      "Correlatie: 0.00\n",
      "p-waarde: 0.9311\n",
      "\n",
      "Pearson correlatie tussen gewicht_KG en dagen_in_buitenland_per_jaar:\n",
      "Correlatie: -0.00\n",
      "p-waarde: 0.9432\n",
      "\n",
      "Pearson correlatie tussen jaarsalaris_eu en leeftijd:\n",
      "Correlatie: -0.03\n",
      "p-waarde: 0.2349\n",
      "\n",
      "Pearson correlatie tussen jaarsalaris_eu en gewicht_KG:\n",
      "Correlatie: -0.01\n",
      "p-waarde: 0.6833\n",
      "\n",
      "Pearson correlatie tussen jaarsalaris_eu en huishouden_grootte:\n",
      "Correlatie: -0.03\n",
      "p-waarde: 0.3083\n",
      "\n",
      "Pearson correlatie tussen jaarsalaris_eu en km_auto_per_jaar:\n",
      "Correlatie: 0.03\n",
      "p-waarde: 0.2078\n",
      "\n",
      "Pearson correlatie tussen jaarsalaris_eu en km_fiets_per_jaar:\n",
      "Correlatie: -0.00\n",
      "p-waarde: 0.9428\n",
      "\n",
      "Pearson correlatie tussen jaarsalaris_eu en km_ov_per_jaar:\n",
      "Correlatie: -0.00\n",
      "p-waarde: 0.9548\n",
      "\n",
      "Pearson correlatie tussen jaarsalaris_eu en km_vliegtuig_per_jaar:\n",
      "Correlatie: 0.02\n",
      "p-waarde: 0.3364\n",
      "\n",
      "Pearson correlatie tussen jaarsalaris_eu en dagen_thuiswerken_per_week_pro_rato:\n",
      "Correlatie: 0.03\n",
      "p-waarde: 0.2779\n",
      "\n",
      "Pearson correlatie tussen jaarsalaris_eu en dagen_kantoorwerken_per_week_pro_rato:\n",
      "Correlatie: -0.03\n",
      "p-waarde: 0.2779\n",
      "\n",
      "Pearson correlatie tussen jaarsalaris_eu en dagen_in_buitenland_per_jaar:\n",
      "Correlatie: -0.02\n",
      "p-waarde: 0.3386\n",
      "\n",
      "Pearson correlatie tussen huishouden_grootte en leeftijd:\n",
      "Correlatie: 0.04\n",
      "p-waarde: 0.1561\n",
      "\n",
      "Pearson correlatie tussen huishouden_grootte en gewicht_KG:\n",
      "Correlatie: -0.05\n",
      "p-waarde: 0.0532\n",
      "\n",
      "Pearson correlatie tussen huishouden_grootte en jaarsalaris_eu:\n",
      "Correlatie: -0.03\n",
      "p-waarde: 0.3083\n",
      "\n",
      "Pearson correlatie tussen huishouden_grootte en km_auto_per_jaar:\n",
      "Correlatie: -0.02\n",
      "p-waarde: 0.4244\n",
      "\n",
      "Pearson correlatie tussen huishouden_grootte en km_fiets_per_jaar:\n",
      "Correlatie: 0.04\n",
      "p-waarde: 0.1281\n",
      "\n",
      "Pearson correlatie tussen huishouden_grootte en km_ov_per_jaar:\n",
      "Correlatie: -0.01\n",
      "p-waarde: 0.6141\n",
      "\n",
      "Pearson correlatie tussen huishouden_grootte en km_vliegtuig_per_jaar:\n",
      "Correlatie: -0.01\n",
      "p-waarde: 0.7337\n",
      "\n",
      "Pearson correlatie tussen huishouden_grootte en dagen_thuiswerken_per_week_pro_rato:\n",
      "Correlatie: 0.03\n",
      "p-waarde: 0.2483\n",
      "\n",
      "Pearson correlatie tussen huishouden_grootte en dagen_kantoorwerken_per_week_pro_rato:\n",
      "Correlatie: -0.03\n",
      "p-waarde: 0.2483\n",
      "\n",
      "Pearson correlatie tussen huishouden_grootte en dagen_in_buitenland_per_jaar:\n",
      "Correlatie: 0.06\n",
      "p-waarde: 0.0177\n",
      "\n",
      "Pearson correlatie tussen km_auto_per_jaar en leeftijd:\n",
      "Correlatie: -0.01\n",
      "p-waarde: 0.8060\n",
      "\n",
      "Pearson correlatie tussen km_auto_per_jaar en gewicht_KG:\n",
      "Correlatie: 0.00\n",
      "p-waarde: 0.8484\n",
      "\n",
      "Pearson correlatie tussen km_auto_per_jaar en jaarsalaris_eu:\n",
      "Correlatie: 0.03\n",
      "p-waarde: 0.2078\n",
      "\n",
      "Pearson correlatie tussen km_auto_per_jaar en huishouden_grootte:\n",
      "Correlatie: -0.02\n",
      "p-waarde: 0.4244\n",
      "\n",
      "Pearson correlatie tussen km_auto_per_jaar en km_fiets_per_jaar:\n",
      "Correlatie: 0.00\n",
      "p-waarde: 0.9039\n",
      "\n",
      "Pearson correlatie tussen km_auto_per_jaar en km_ov_per_jaar:\n",
      "Correlatie: 0.03\n",
      "p-waarde: 0.2065\n",
      "\n",
      "Pearson correlatie tussen km_auto_per_jaar en km_vliegtuig_per_jaar:\n",
      "Correlatie: 0.06\n",
      "p-waarde: 0.0250\n",
      "\n",
      "Pearson correlatie tussen km_auto_per_jaar en dagen_thuiswerken_per_week_pro_rato:\n",
      "Correlatie: 0.01\n",
      "p-waarde: 0.8408\n",
      "\n",
      "Pearson correlatie tussen km_auto_per_jaar en dagen_kantoorwerken_per_week_pro_rato:\n",
      "Correlatie: -0.01\n",
      "p-waarde: 0.8408\n",
      "\n",
      "Pearson correlatie tussen km_auto_per_jaar en dagen_in_buitenland_per_jaar:\n",
      "Correlatie: 0.04\n",
      "p-waarde: 0.0828\n",
      "\n",
      "Pearson correlatie tussen km_fiets_per_jaar en leeftijd:\n",
      "Correlatie: -0.02\n",
      "p-waarde: 0.3860\n",
      "\n",
      "Pearson correlatie tussen km_fiets_per_jaar en gewicht_KG:\n",
      "Correlatie: 0.01\n",
      "p-waarde: 0.6752\n",
      "\n",
      "Pearson correlatie tussen km_fiets_per_jaar en jaarsalaris_eu:\n",
      "Correlatie: -0.00\n",
      "p-waarde: 0.9428\n",
      "\n",
      "Pearson correlatie tussen km_fiets_per_jaar en huishouden_grootte:\n",
      "Correlatie: 0.04\n",
      "p-waarde: 0.1281\n",
      "\n",
      "Pearson correlatie tussen km_fiets_per_jaar en km_auto_per_jaar:\n",
      "Correlatie: 0.00\n",
      "p-waarde: 0.9039\n",
      "\n",
      "Pearson correlatie tussen km_fiets_per_jaar en km_ov_per_jaar:\n",
      "Correlatie: -0.04\n",
      "p-waarde: 0.1724\n",
      "\n",
      "Pearson correlatie tussen km_fiets_per_jaar en km_vliegtuig_per_jaar:\n",
      "Correlatie: 0.01\n",
      "p-waarde: 0.7230\n",
      "\n",
      "Pearson correlatie tussen km_fiets_per_jaar en dagen_thuiswerken_per_week_pro_rato:\n",
      "Correlatie: 0.00\n",
      "p-waarde: 0.8736\n",
      "\n",
      "Pearson correlatie tussen km_fiets_per_jaar en dagen_kantoorwerken_per_week_pro_rato:\n",
      "Correlatie: -0.00\n",
      "p-waarde: 0.8736\n",
      "\n",
      "Pearson correlatie tussen km_fiets_per_jaar en dagen_in_buitenland_per_jaar:\n",
      "Correlatie: -0.02\n",
      "p-waarde: 0.4118\n",
      "\n",
      "Pearson correlatie tussen km_ov_per_jaar en leeftijd:\n",
      "Correlatie: -0.02\n",
      "p-waarde: 0.3805\n",
      "\n",
      "Pearson correlatie tussen km_ov_per_jaar en gewicht_KG:\n",
      "Correlatie: -0.02\n",
      "p-waarde: 0.5089\n",
      "\n",
      "Pearson correlatie tussen km_ov_per_jaar en jaarsalaris_eu:\n",
      "Correlatie: -0.00\n",
      "p-waarde: 0.9548\n",
      "\n",
      "Pearson correlatie tussen km_ov_per_jaar en huishouden_grootte:\n",
      "Correlatie: -0.01\n",
      "p-waarde: 0.6141\n",
      "\n",
      "Pearson correlatie tussen km_ov_per_jaar en km_auto_per_jaar:\n",
      "Correlatie: 0.03\n",
      "p-waarde: 0.2065\n",
      "\n",
      "Pearson correlatie tussen km_ov_per_jaar en km_fiets_per_jaar:\n",
      "Correlatie: -0.04\n",
      "p-waarde: 0.1724\n",
      "\n",
      "Pearson correlatie tussen km_ov_per_jaar en km_vliegtuig_per_jaar:\n",
      "Correlatie: 0.02\n",
      "p-waarde: 0.5544\n",
      "\n",
      "Pearson correlatie tussen km_ov_per_jaar en dagen_thuiswerken_per_week_pro_rato:\n",
      "Correlatie: -0.01\n",
      "p-waarde: 0.6137\n",
      "\n",
      "Pearson correlatie tussen km_ov_per_jaar en dagen_kantoorwerken_per_week_pro_rato:\n",
      "Correlatie: 0.01\n",
      "p-waarde: 0.6137\n",
      "\n",
      "Pearson correlatie tussen km_ov_per_jaar en dagen_in_buitenland_per_jaar:\n",
      "Correlatie: 0.02\n",
      "p-waarde: 0.5225\n",
      "\n",
      "Pearson correlatie tussen km_vliegtuig_per_jaar en leeftijd:\n",
      "Correlatie: -0.00\n",
      "p-waarde: 0.9511\n",
      "\n",
      "Pearson correlatie tussen km_vliegtuig_per_jaar en gewicht_KG:\n",
      "Correlatie: 0.00\n",
      "p-waarde: 0.8747\n",
      "\n",
      "Pearson correlatie tussen km_vliegtuig_per_jaar en jaarsalaris_eu:\n",
      "Correlatie: 0.02\n",
      "p-waarde: 0.3364\n",
      "\n",
      "Pearson correlatie tussen km_vliegtuig_per_jaar en huishouden_grootte:\n",
      "Correlatie: -0.01\n",
      "p-waarde: 0.7337\n",
      "\n",
      "Pearson correlatie tussen km_vliegtuig_per_jaar en km_auto_per_jaar:\n",
      "Correlatie: 0.06\n",
      "p-waarde: 0.0250\n",
      "\n",
      "Pearson correlatie tussen km_vliegtuig_per_jaar en km_fiets_per_jaar:\n",
      "Correlatie: 0.01\n",
      "p-waarde: 0.7230\n",
      "\n",
      "Pearson correlatie tussen km_vliegtuig_per_jaar en km_ov_per_jaar:\n",
      "Correlatie: 0.02\n",
      "p-waarde: 0.5544\n",
      "\n",
      "Pearson correlatie tussen km_vliegtuig_per_jaar en dagen_thuiswerken_per_week_pro_rato:\n",
      "Correlatie: -0.02\n",
      "p-waarde: 0.4098\n",
      "\n",
      "Pearson correlatie tussen km_vliegtuig_per_jaar en dagen_kantoorwerken_per_week_pro_rato:\n",
      "Correlatie: 0.02\n",
      "p-waarde: 0.4098\n",
      "\n",
      "Pearson correlatie tussen km_vliegtuig_per_jaar en dagen_in_buitenland_per_jaar:\n",
      "Correlatie: -0.03\n",
      "p-waarde: 0.3002\n",
      "\n",
      "Pearson correlatie tussen dagen_thuiswerken_per_week_pro_rato en leeftijd:\n",
      "Correlatie: 0.00\n",
      "p-waarde: 0.8490\n",
      "\n",
      "Pearson correlatie tussen dagen_thuiswerken_per_week_pro_rato en gewicht_KG:\n",
      "Correlatie: -0.00\n",
      "p-waarde: 0.9311\n",
      "\n",
      "Pearson correlatie tussen dagen_thuiswerken_per_week_pro_rato en jaarsalaris_eu:\n",
      "Correlatie: 0.03\n",
      "p-waarde: 0.2779\n",
      "\n",
      "Pearson correlatie tussen dagen_thuiswerken_per_week_pro_rato en huishouden_grootte:\n",
      "Correlatie: 0.03\n",
      "p-waarde: 0.2483\n",
      "\n",
      "Pearson correlatie tussen dagen_thuiswerken_per_week_pro_rato en km_auto_per_jaar:\n",
      "Correlatie: 0.01\n",
      "p-waarde: 0.8408\n",
      "\n",
      "Pearson correlatie tussen dagen_thuiswerken_per_week_pro_rato en km_fiets_per_jaar:\n",
      "Correlatie: 0.00\n",
      "p-waarde: 0.8736\n",
      "\n",
      "Pearson correlatie tussen dagen_thuiswerken_per_week_pro_rato en km_ov_per_jaar:\n",
      "Correlatie: -0.01\n",
      "p-waarde: 0.6137\n",
      "\n",
      "Pearson correlatie tussen dagen_thuiswerken_per_week_pro_rato en km_vliegtuig_per_jaar:\n",
      "Correlatie: -0.02\n",
      "p-waarde: 0.4098\n",
      "\n",
      "Pearson correlatie tussen dagen_thuiswerken_per_week_pro_rato en dagen_kantoorwerken_per_week_pro_rato:\n",
      "Correlatie: -1.00\n",
      "p-waarde: 0.0000\n",
      "\n",
      "Pearson correlatie tussen dagen_thuiswerken_per_week_pro_rato en dagen_in_buitenland_per_jaar:\n",
      "Correlatie: 0.03\n",
      "p-waarde: 0.2938\n",
      "\n",
      "Pearson correlatie tussen dagen_kantoorwerken_per_week_pro_rato en leeftijd:\n",
      "Correlatie: -0.00\n",
      "p-waarde: 0.8490\n",
      "\n",
      "Pearson correlatie tussen dagen_kantoorwerken_per_week_pro_rato en gewicht_KG:\n",
      "Correlatie: 0.00\n",
      "p-waarde: 0.9311\n",
      "\n",
      "Pearson correlatie tussen dagen_kantoorwerken_per_week_pro_rato en jaarsalaris_eu:\n",
      "Correlatie: -0.03\n",
      "p-waarde: 0.2779\n",
      "\n",
      "Pearson correlatie tussen dagen_kantoorwerken_per_week_pro_rato en huishouden_grootte:\n",
      "Correlatie: -0.03\n",
      "p-waarde: 0.2483\n",
      "\n",
      "Pearson correlatie tussen dagen_kantoorwerken_per_week_pro_rato en km_auto_per_jaar:\n",
      "Correlatie: -0.01\n",
      "p-waarde: 0.8408\n",
      "\n",
      "Pearson correlatie tussen dagen_kantoorwerken_per_week_pro_rato en km_fiets_per_jaar:\n",
      "Correlatie: -0.00\n",
      "p-waarde: 0.8736\n",
      "\n",
      "Pearson correlatie tussen dagen_kantoorwerken_per_week_pro_rato en km_ov_per_jaar:\n",
      "Correlatie: 0.01\n",
      "p-waarde: 0.6137\n",
      "\n",
      "Pearson correlatie tussen dagen_kantoorwerken_per_week_pro_rato en km_vliegtuig_per_jaar:\n",
      "Correlatie: 0.02\n",
      "p-waarde: 0.4098\n",
      "\n",
      "Pearson correlatie tussen dagen_kantoorwerken_per_week_pro_rato en dagen_thuiswerken_per_week_pro_rato:\n",
      "Correlatie: -1.00\n",
      "p-waarde: 0.0000\n",
      "\n",
      "Pearson correlatie tussen dagen_kantoorwerken_per_week_pro_rato en dagen_in_buitenland_per_jaar:\n",
      "Correlatie: -0.03\n",
      "p-waarde: 0.2938\n",
      "\n",
      "Pearson correlatie tussen dagen_in_buitenland_per_jaar en leeftijd:\n",
      "Correlatie: -0.03\n",
      "p-waarde: 0.2779\n",
      "\n",
      "Pearson correlatie tussen dagen_in_buitenland_per_jaar en gewicht_KG:\n",
      "Correlatie: -0.00\n",
      "p-waarde: 0.9432\n",
      "\n",
      "Pearson correlatie tussen dagen_in_buitenland_per_jaar en jaarsalaris_eu:\n",
      "Correlatie: -0.02\n",
      "p-waarde: 0.3386\n",
      "\n",
      "Pearson correlatie tussen dagen_in_buitenland_per_jaar en huishouden_grootte:\n",
      "Correlatie: 0.06\n",
      "p-waarde: 0.0177\n",
      "\n",
      "Pearson correlatie tussen dagen_in_buitenland_per_jaar en km_auto_per_jaar:\n",
      "Correlatie: 0.04\n",
      "p-waarde: 0.0828\n",
      "\n",
      "Pearson correlatie tussen dagen_in_buitenland_per_jaar en km_fiets_per_jaar:\n",
      "Correlatie: -0.02\n",
      "p-waarde: 0.4118\n",
      "\n",
      "Pearson correlatie tussen dagen_in_buitenland_per_jaar en km_ov_per_jaar:\n",
      "Correlatie: 0.02\n",
      "p-waarde: 0.5225\n",
      "\n",
      "Pearson correlatie tussen dagen_in_buitenland_per_jaar en km_vliegtuig_per_jaar:\n",
      "Correlatie: -0.03\n",
      "p-waarde: 0.3002\n",
      "\n",
      "Pearson correlatie tussen dagen_in_buitenland_per_jaar en dagen_thuiswerken_per_week_pro_rato:\n",
      "Correlatie: 0.03\n",
      "p-waarde: 0.2938\n",
      "\n",
      "Pearson correlatie tussen dagen_in_buitenland_per_jaar en dagen_kantoorwerken_per_week_pro_rato:\n",
      "Correlatie: -0.03\n",
      "p-waarde: 0.2938\n"
     ]
    }
   ],
   "source": [
    "# 8\n",
    "# Dumming Nominaals:\n",
    "nominaal_co2_dum = df_co2.copy()\n",
    "nominaal_co2_dum = pd.get_dummies(df_co2, columns=['geslacht', 'burgerlijke_staat', 'stad', 'provincie', 'autobezit', 'fietsbezit', 'elektrisch_auto'], drop_first=True)\n",
    "\n",
    "# Mapping Ordinaals:\n",
    "print(df_co2['opleiding_niveau'].unique())\n",
    "print(df_co2['gebruik_carsharing'].unique())\n",
    "ordinaal_co2_num = df_co2.copy()\n",
    "ordinaal_co2_num['opleiding_niveau'] = ordinaal_co2_num['opleiding_niveau'].map(\n",
    "    {'MBO': 1, 'HBO': 2, 'WO': 3})\n",
    "ordinaal_co2_num['gebruik_carsharing'] = ordinaal_co2_num['gebruik_carsharing'].map(\n",
    "    {'Nooit': 1, 'Heel soms': 2, 'Soms': 3, 'Vaak': 4, 'Altijd': 5})\n",
    "\n",
    "# Standardizing Ratios:\n",
    "ratio_co2 = ['leeftijd', 'gewicht_KG', 'jaarsalaris_eu', 'huishouden_grootte',\n",
    "                 'km_auto_per_jaar', 'km_fiets_per_jaar', 'km_ov_per_jaar',\n",
    "                 'km_vliegtuig_per_jaar', 'dagen_thuiswerken_per_week_pro_rato',\n",
    "                 'dagen_kantoorwerken_per_week_pro_rato', 'dagen_in_buitenland_per_jaar','co2_uitstoot_per_jaar_KG']\n",
    "scaler = StandardScaler()\n",
    "co2_ratio_scaled = ordinaal_co2_num.copy()\n",
    "co2_ratio_scaled[ratio_co2] = scaler.fit_transform(ordinaal_co2_num[ratio_co2])\n",
    "\n",
    "# En nu om nog verder inzicht te krijgen in de relaties tussen variabelen met gebruik van statistische scores:\n",
    "\n",
    "# Chi-squared test voor categorische variabelen\n",
    "from scipy.stats import chi2_contingency\n",
    "from scipy.stats import f_oneway\n",
    "from scipy.stats import ttest_ind\n",
    "from scipy.stats import pearsonr\n",
    "\n",
    "# Chi-squared tests voor categorische variabelen\n",
    "categorical_cols = ['geslacht', 'burgerlijke_staat', 'stad', 'provincie', 'autobezit', 'fietsbezit', 'elektrisch_auto']\n",
    "for col1 in categorical_cols:\n",
    "    for col2 in categorical_cols:\n",
    "        if col1 != col2:\n",
    "            contingency = pd.crosstab(df_co2[col1], df_co2[col2])\n",
    "            chi2, p, dof, expected = chi2_contingency(contingency)\n",
    "            print(f\"\\nChi-squared test tussen {col1} en {col2}:\")\n",
    "            print(f\"Chi2 waarde: {chi2:.2f}\")\n",
    "            print(f\"p-waarde: {p:.4f}\")\n",
    "\n",
    "# ANOVA voor numerieke variabelen vs categorische variabelen\n",
    "numerical_cols = ['leeftijd', 'gewicht_KG', 'jaarsalaris_eu', 'huishouden_grootte',\n",
    "                 'km_auto_per_jaar', 'km_fiets_per_jaar', 'km_ov_per_jaar',\n",
    "                 'km_vliegtuig_per_jaar', 'dagen_thuiswerken_per_week_pro_rato',\n",
    "                 'dagen_kantoorwerken_per_week_pro_rato', 'dagen_in_buitenland_per_jaar']\n",
    "\n",
    "for cat_col in categorical_cols:\n",
    "    for num_col in numerical_cols:\n",
    "        groups = [group for _, group in df_co2.groupby(cat_col)[num_col]]\n",
    "        f_stat, p_val = f_oneway(*groups)\n",
    "        print(f\"\\nANOVA tussen {cat_col} en {num_col}:\")\n",
    "        print(f\"F-statistic: {f_stat:.2f}\")\n",
    "        print(f\"p-waarde: {p_val:.4f}\")\n",
    "\n",
    "# T-tests voor geslacht vs numerieke variabelen\n",
    "for num_col in numerical_cols:\n",
    "    male_data = df_co2[df_co2['geslacht'] == 'man'][num_col]\n",
    "    female_data = df_co2[df_co2['geslacht'] == 'vrouw'][num_col]\n",
    "    t_stat, p_val = ttest_ind(male_data, female_data)\n",
    "    print(f\"\\nT-test tussen geslacht en {num_col}:\")\n",
    "    print(f\"t-statistic: {t_stat:.2f}\")\n",
    "    print(f\"p-waarde: {p_val:.4f}\")\n",
    "\n",
    "# Pearson correlaties voor numerieke variabelen\n",
    "for num_col1 in numerical_cols:\n",
    "    for num_col2 in numerical_cols:\n",
    "        if num_col1 != num_col2:\n",
    "            corr, p_val = pearsonr(df_co2[num_col1], df_co2[num_col2])\n",
    "            print(f\"\\nPearson correlatie tussen {num_col1} en {num_col2}:\")\n",
    "            print(f\"Correlatie: {corr:.2f}\")\n",
    "            print(f\"p-waarde: {p_val:.4f}\")\n",
    "\n"
   ]
  },
  {
   "cell_type": "markdown",
   "id": "ff5c4d54d4992cd8",
   "metadata": {},
   "source": [
    "9.\tWelke methode(n) heb je gebruikt en waarom?"
   ]
  },
  {
   "cell_type": "markdown",
   "id": "89686f284938d041",
   "metadata": {
    "ExecuteTime": {
     "end_time": "2025-06-13T07:34:39.980688Z",
     "start_time": "2025-06-13T07:34:39.976426Z"
    }
   },
   "source": [
    "We hebben vier verschillende statistische tests uitgevoerd, elk via een aparte for-loop, om relaties tussen kolommen op basis van hun meetniveau te analyseren:\n",
    "\n",
    "1. Chi-kwadraattest voor relaties tussen categorische variabelen.\n",
    "\n",
    "2. ANOVA voor numerieke variabelen tegenover categorische variabelen.\n",
    "\n",
    "3. T-test voor geslacht versus numerieke variabelen.\n",
    "\n",
    "4. Pearson-correlatie voor relaties tussen numerieke variabelen onderling.\n",
    "\n",
    "Dit leverde een grote hoeveelheid resultaten op. Om daar duidelijke overzicht in te krijgen hebben we GenAI gebruikt om de opvallendste scores samen te vatten, eerst gaf de GenAI ons natuurlijk de colineaire relaties, en die zullen we er voor nu dus uit laten in de uitleg om de betekenisvolle relaties aan te tonen. \n",
    "Dus, op basis daarvan hebben we de belangrijkste verbanden geïnterpreteerd en verder geanalyseerd:\n",
    "\n",
    "\n",
    "| Nr. | Variabelen                                     | Test               | Statistiek | p-waarde | Onze interpretatie                                                                                                                                                                                                                                                                                                                                                                                                                                                                     |\n",
    "| --- | ---------------------------------------------- | ------------------ | ---------- | -------- | -------------------------------------------------------------------------------------------------------------------------------------------------------------------------------------------------------------------------------------------------------------------------------------------------------------------------------------------------------------------------------------------------------------------------------------------------------------------------------------- |\n",
    "| 1   | Huishoudgrootte vs. Fietseigendom              | ANOVA              | F = 7.37   | 0.0067   | De lage p-waarde maakt het onwaarschijnlijk dat het toeval is. Een hoge F-waarde wijst op een sterk effect. Dit zou kunnen komen doordat grotere huishoudens vaker meerdere fietsen hebben (bijvoorbeeld gezinnen), of dat grotere huishoudens samenhangen met meer inkomen of meer ruimte. Echter, deze relatie is complex: meerdere personen uit hetzelfde huishouden kunnen verschillende antwoorden geven, waardoor de link tussen grootte en eigendom niet lineair hoeft te zijn. |\n",
    "| 2   | Burgerlijke staat vs. Jaarlijks salaris        | ANOVA              | F = 2.68   | 0.0302   | Hoewel de p-waarde iets hoger is, is het nog steeds significant. Mogelijk hebben getrouwde mensen vaker twee inkomens of zijn ouder (en dus verder in hun carrière). Ook culturele of demografische factoren kunnen een rol spelen in zowel burgerlijke staat als inkomen. Er kan dus sprake zijn van een derde variabele.                                                                                                                                                             |\n",
    "| 3   | Provincie vs. Dagen per jaar in het buitenland | ANOVA              | F = 2.14   | 0.0154   | De regio waarin iemand woont, bijvoorbeeld de Randstad, heeft waarschijnlijk invloed op het aantal dagen in het buitenland. Dit kan te maken hebben met internationale werkgelegenheid of ligging ten opzichte van grenzen en luchthavens. We verwachtten eigenlijk dat ‘stad’ een sterkere invloed zou hebben dan ‘provincie’, maar dat blijkt hier (nog) niet uit.                                                                                                                   |\n",
    "| 4   | Huishoudgrootte vs. Dagen in het buitenland    | Pearson correlatie | r = 0.06   | 0.0177   | Er is een zwakke maar significante positieve correlatie. Mogelijk hebben grotere huishoudens vaker iemand die internationaal werkt of reizen onderneemt. Ook hier zou jaarlijks inkomen of internationale functie binnen een bedrijf een rol kunnen spelen.                                                                                                                                                                                                                            |\n",
    "| 5   | Autokilometers vs. Vliegtuigkilometers         | Pearson correlatie | r = 0.06   | 0.0250   | Deze correlatie suggereert dat mensen die veel vliegen ook vaker autorijden. Dit kan wijzen op een “high-mobility” levensstijl, waarbij mensen zowel veel internationaal reizen als lokaal vervoer nodig hebben. Tegelijk zou het ook kunnen zijn dat mensen die veel vliegen juist minder autorijden (bijv. autodelen), dus deze relatie verdient verdieping.                                                                                                                         |\n",
    "\n",
    "\n",
    "Je vraagt je misschien af waarom er zo weinig relaties zijn weergegeven. Dat komt omdat dit de enige variabelenparen zijn waarvoor de p-waarde onder de grens van 0,05 ligt, en dus statistisch significant zijn. Alle andere combinaties van kolommen leverden p-waardes op die boven deze drempel lagen. Hoewel die andere relaties mogelijk interessante patronen laten zien, zijn ze statistisch gezien niet sterk genoeg om betrouwbaar op in te gaan. Daarom hebben we ervoor gekozen om alleen de significante relaties te rapporteren.\n",
    "\n",
    "\n"
   ]
  },
  {
   "cell_type": "markdown",
   "id": "ace0c5f5c160e8a7",
   "metadata": {},
   "source": [
    "### 10.\tIs er sprake van multicollineariteit? Waarom zou dit een probleem kunnen zijn en wat zou jouw oplossing zijn?"
   ]
  },
  {
   "cell_type": "markdown",
   "id": "7d4dda5306fe82d9",
   "metadata": {
    "ExecuteTime": {
     "end_time": "2025-06-13T07:34:40.009566Z",
     "start_time": "2025-06-13T07:34:40.006750Z"
    }
   },
   "source": [
    "Er is duidelijk sprake van multicollineariteit in de dataset. Een goed voorbeeld is de relatie tussen autobezit en het aantal jaarlijkse autokilometers. Die twee staan vrijwel altijd in verband: iemand zonder auto zal in de meeste gevallen ook weinig tot geen kilometers met een eigen auto rijden. Alleen in uitzonderlijke gevallen, zoals mensen die uitsluitend in andermans auto rijden, geldt dat niet.\n",
    "\n",
    "Een vergelijkbare relatie bestaat tussen fietseigendom en het aantal gefietste kilometers per jaar. Iemand die een fiets bezit, zal logischerwijs eerder fietsen dan iemand zonder fiets. Ook hier is sprake van een sterke lineaire samenhang.\n",
    "\n",
    "Daarnaast is er een bijna perfecte negatieve correlatie tussen het aantal dagen thuiswerken en het aantal dagen op kantoor werken. Aangezien een werkweek meestal uit vijf dagen bestaat, betekent meer thuiswerken automatisch minder dagen op kantoor, en omgekeerd. Dit is een structureel verband, wat een bijna perfecte lineaire relatie veroorzaakt.\n",
    "\n",
    "Deze variabelen zouden we eventueel kunnen verwijderen of samenvoegen, tenzij ze afzonderlijk nog inhoudelijk belangrijk zijn voor de analyse of interpretatie van het model."
   ]
  },
  {
   "cell_type": "markdown",
   "id": "effed37d0e5dbe",
   "metadata": {},
   "source": [
    "11.\tBekijk de relatie tussen uitstoot CO2 en de andere onafhankelijke variabelen per geslacht. Kom je hier tot een andere conclusie dan bij vraag 8?"
   ]
  },
  {
   "cell_type": "code",
   "execution_count": 41,
   "id": "cc99bb0fc61b69ec",
   "metadata": {
    "ExecuteTime": {
     "end_time": "2025-06-13T07:34:40.050298Z",
     "start_time": "2025-06-13T07:34:40.046654Z"
    }
   },
   "outputs": [
    {
     "name": "stdout",
     "output_type": "stream",
     "text": [
      "\n",
      "Correlaties voor mannen:\n",
      "co2_uitstoot_per_jaar_KG                 1.000000\n",
      "km_auto_per_jaar                         0.910088\n",
      "km_vliegtuig_per_jaar                    0.094955\n",
      "dagen_in_buitenland_per_jaar             0.065944\n",
      "km_ov_per_jaar                           0.050139\n",
      "gewicht_KG                               0.039916\n",
      "jaarsalaris_eu                           0.033233\n",
      "dagen_thuiswerken_per_week_pro_rato      0.023034\n",
      "leeftijd                                 0.020651\n",
      "km_fiets_per_jaar                        0.004470\n",
      "persoon_ID                               0.000165\n",
      "dagen_kantoorwerken_per_week_pro_rato   -0.023034\n",
      "huishouden_grootte                      -0.039512\n",
      "Name: co2_uitstoot_per_jaar_KG, dtype: float64\n",
      "\n",
      "Correlaties voor vrouwen:\n",
      "co2_uitstoot_per_jaar_KG                 1.000000\n",
      "km_auto_per_jaar                         0.911800\n",
      "km_vliegtuig_per_jaar                    0.112621\n",
      "dagen_in_buitenland_per_jaar             0.106692\n",
      "km_ov_per_jaar                           0.075410\n",
      "jaarsalaris_eu                           0.057372\n",
      "dagen_kantoorwerken_per_week_pro_rato    0.044405\n",
      "km_fiets_per_jaar                        0.015895\n",
      "huishouden_grootte                       0.013320\n",
      "gewicht_KG                              -0.009177\n",
      "persoon_ID                              -0.012138\n",
      "leeftijd                                -0.029055\n",
      "dagen_thuiswerken_per_week_pro_rato     -0.044405\n",
      "Name: co2_uitstoot_per_jaar_KG, dtype: float64\n"
     ]
    },
    {
     "name": "stderr",
     "output_type": "stream",
     "text": [
      "C:\\Users\\ruudl\\AppData\\Local\\Temp\\ipykernel_18608\\2843306156.py:6: FutureWarning: The default value of numeric_only in DataFrame.corr is deprecated. In a future version, it will default to False. Select only valid columns or specify the value of numeric_only to silence this warning.\n",
      "  print(df_co2[df_co2['geslacht'] == 'man'].corr()['co2_uitstoot_per_jaar_KG'].sort_values(ascending=False))\n",
      "C:\\Users\\ruudl\\AppData\\Local\\Temp\\ipykernel_18608\\2843306156.py:8: FutureWarning: The default value of numeric_only in DataFrame.corr is deprecated. In a future version, it will default to False. Select only valid columns or specify the value of numeric_only to silence this warning.\n",
      "  print(df_co2[df_co2['geslacht'] == 'vrouw'].corr()['co2_uitstoot_per_jaar_KG'].sort_values(ascending=False))\n"
     ]
    }
   ],
   "source": [
    "# 11. Relatie tussen CO2 uitstoot en andere variabelen per geslacht\n",
    "\n",
    "\n",
    "# Print correlations per gender\n",
    "print(\"\\nCorrelaties voor mannen:\")\n",
    "print(df_co2[df_co2['geslacht'] == 'man'].corr()['co2_uitstoot_per_jaar_KG'].sort_values(ascending=False))\n",
    "print(\"\\nCorrelaties voor vrouwen:\")\n",
    "print(df_co2[df_co2['geslacht'] == 'vrouw'].corr()['co2_uitstoot_per_jaar_KG'].sort_values(ascending=False))"
   ]
  },
  {
   "cell_type": "markdown",
   "id": "6a99d749",
   "metadata": {},
   "source": [
    "Als we kijken naar de relaties tussen CO2-uitstoot en andere variabelen, uitgesplitst naar geslacht, komen we in grote lijnen niet tot andere conclusies dan in opdracht 8 en 9. Wel vallen er een paar opvallende verschillen op. Zo tonen vrouwen bijvoorbeeld sterkere correlaties met het aantal dagen dat ze per jaar in het buitenland doorbrengen dan mannen. Dit verandert de eerdere bevindingen echter niet fundamenteel.\n",
    "\n",
    "Er kunnen zeker variaties zijn in hoe correlaties zich gedragen binnen de groepen mannen en vrouwen, en dit is iets wat we later in onze modellen kunnen meenemen om onze hypotheses verder te onderzoeken. Op bepaalde variabelen zien we dat de correlatie met CO2-uitstoot bij het ene geslacht sterker is dan bij het andere, wat aangeeft dat het zinvol kan zijn om geslacht mee te nemen als factor in onze modellering.\n",
    "\n",
    "Kortom: ja, de inzichten verschillen enigszins van wat we in opdracht 8 en 9 hebben besproken, vooral wanneer we de data per geslacht bekijken. Maar momenteel hebben we niet per se het idee dat we dit onderscheid volledig moeten gaan bevorderen als het op onze hypothese vorming neer zal gaan komen."
   ]
  },
  {
   "cell_type": "markdown",
   "id": "3e4baf649f98ccb8",
   "metadata": {},
   "source": [
    "# Deel B: Kansrekenen"
   ]
  },
  {
   "cell_type": "markdown",
   "id": "9fc575acbca39c22",
   "metadata": {},
   "source": [
    "12.\tWat is de kans dat een willekeurig persoon 5000 KG CO2 uitstoot? Gebruik de standaard normaal verdeling in de berekening."
   ]
  },
  {
   "cell_type": "code",
   "execution_count": 42,
   "id": "5fd32c1cacd03660",
   "metadata": {
    "ExecuteTime": {
     "end_time": "2025-06-13T07:34:40.077772Z",
     "start_time": "2025-06-13T07:34:40.073838Z"
    }
   },
   "outputs": [],
   "source": [
    "# 12"
   ]
  },
  {
   "cell_type": "markdown",
   "id": "6bd6e8bdbb07b225",
   "metadata": {},
   "source": [
    "13.\tOp welke manier wordt, bij deze berekening, een van de technieken van calculus toegepast?"
   ]
  },
  {
   "cell_type": "code",
   "execution_count": 43,
   "id": "ae1cfc88e1715d86",
   "metadata": {
    "ExecuteTime": {
     "end_time": "2025-06-13T07:34:40.103608Z",
     "start_time": "2025-06-13T07:34:40.099085Z"
    }
   },
   "outputs": [],
   "source": [
    "# 13"
   ]
  },
  {
   "cell_type": "markdown",
   "id": "88064fff1a230622",
   "metadata": {},
   "source": [
    "14.\tIs deze kans groter, gelijk of kleiner bij mannen t.o.v. vrouwen?"
   ]
  },
  {
   "cell_type": "code",
   "execution_count": 44,
   "id": "fda37bbec7af3e1e",
   "metadata": {
    "ExecuteTime": {
     "end_time": "2025-06-13T07:34:40.133008Z",
     "start_time": "2025-06-13T07:34:40.128966Z"
    }
   },
   "outputs": [],
   "source": [
    "# 14"
   ]
  },
  {
   "cell_type": "markdown",
   "id": "535973d5fb608608",
   "metadata": {},
   "source": [
    "# Deel C: Toetsende statistiek"
   ]
  },
  {
   "cell_type": "markdown",
   "id": "cfc374963e7711ee",
   "metadata": {},
   "source": [
    "15.\tStel de hypothesen op."
   ]
  },
  {
   "cell_type": "code",
   "execution_count": 45,
   "id": "f1d834352424f3b3",
   "metadata": {
    "ExecuteTime": {
     "end_time": "2025-06-13T07:34:40.165391Z",
     "start_time": "2025-06-13T07:34:40.161339Z"
    }
   },
   "outputs": [],
   "source": [
    "# 15"
   ]
  },
  {
   "cell_type": "markdown",
   "id": "5ae5da67607c658e",
   "metadata": {},
   "source": [
    "16.\tWelke type fouten kunnen er gemaakt worden?"
   ]
  },
  {
   "cell_type": "code",
   "execution_count": 46,
   "id": "4beec8b19ac2cb4d",
   "metadata": {
    "ExecuteTime": {
     "end_time": "2025-06-13T07:34:40.203897Z",
     "start_time": "2025-06-13T07:34:40.200316Z"
    }
   },
   "outputs": [],
   "source": [
    "# 16"
   ]
  },
  {
   "cell_type": "markdown",
   "id": "daddf05f8c201",
   "metadata": {},
   "source": [
    "17.\tWelke statistische toets moet je uitvoeren om te onderzoeken of er een significant verschil is?"
   ]
  },
  {
   "cell_type": "code",
   "execution_count": 47,
   "id": "698abbc225c5be80",
   "metadata": {
    "ExecuteTime": {
     "end_time": "2025-06-13T07:34:40.242456Z",
     "start_time": "2025-06-13T07:34:40.238177Z"
    }
   },
   "outputs": [],
   "source": [
    "# 17"
   ]
  },
  {
   "cell_type": "markdown",
   "id": "5130ff52c1ed30ad",
   "metadata": {},
   "source": [
    "18.\tVoer de toets uit."
   ]
  },
  {
   "cell_type": "code",
   "execution_count": 48,
   "id": "27a88a1500843508",
   "metadata": {
    "ExecuteTime": {
     "end_time": "2025-06-13T07:34:40.272834Z",
     "start_time": "2025-06-13T07:34:40.268575Z"
    }
   },
   "outputs": [],
   "source": [
    "# 18"
   ]
  },
  {
   "cell_type": "markdown",
   "id": "f6c22d5b9f57b961",
   "metadata": {},
   "source": [
    "19.\tGeef in je eigen woorden een toelichting op de betekenis van de p-waarde."
   ]
  },
  {
   "cell_type": "code",
   "execution_count": 49,
   "id": "e74366a71d1d9dc8",
   "metadata": {
    "ExecuteTime": {
     "end_time": "2025-06-13T07:34:40.293526Z",
     "start_time": "2025-06-13T07:34:40.289907Z"
    }
   },
   "outputs": [],
   "source": [
    "# 19"
   ]
  },
  {
   "cell_type": "markdown",
   "id": "40341d71e0d7341a",
   "metadata": {},
   "source": [
    "20.\tWelke conclusie kan je trekken?"
   ]
  },
  {
   "cell_type": "code",
   "execution_count": 50,
   "id": "6d36a86b44b06b1e",
   "metadata": {
    "ExecuteTime": {
     "end_time": "2025-06-13T07:34:40.305139Z",
     "start_time": "2025-06-13T07:34:40.300387Z"
    }
   },
   "outputs": [],
   "source": [
    "# 20"
   ]
  },
  {
   "cell_type": "markdown",
   "id": "8aaa879afde64411",
   "metadata": {},
   "source": [
    "# Deel D: Modelleren"
   ]
  },
  {
   "cell_type": "markdown",
   "id": "396eae6d1e2b1064",
   "metadata": {},
   "source": [
    "21.\tTrain een model om de jaarlijkse CO2 uitstoot te voorspellen. Op hoeveel verschillende mogelijkheden kan deze split gemaakt worden?"
   ]
  },
  {
   "cell_type": "code",
   "execution_count": 51,
   "id": "eff94d74f81231d4",
   "metadata": {
    "ExecuteTime": {
     "end_time": "2025-06-13T07:34:40.332923Z",
     "start_time": "2025-06-13T07:34:40.329488Z"
    }
   },
   "outputs": [],
   "source": [
    "# 21"
   ]
  },
  {
   "cell_type": "markdown",
   "id": "7d6b48c1b0354458",
   "metadata": {},
   "source": [
    "22.\tTrain een model om de jaarlijkse CO2 uitstoot te voorspellen. Welke metric zou je gebruiken om te toetsen hoe goed je model is en waarom?\n"
   ]
  },
  {
   "cell_type": "code",
   "execution_count": 52,
   "id": "db08e060bb6fad82",
   "metadata": {
    "ExecuteTime": {
     "end_time": "2025-06-13T07:34:40.344543Z",
     "start_time": "2025-06-13T07:34:40.340733Z"
    }
   },
   "outputs": [],
   "source": [
    "# 22"
   ]
  },
  {
   "cell_type": "markdown",
   "id": "e85d4f5a3b2f61d",
   "metadata": {},
   "source": [
    "23.\tGeef de wiskunde functie van het model en pas deze toe op jouw eigen situatie (kies 1 groepsgenoot)."
   ]
  },
  {
   "cell_type": "code",
   "execution_count": 53,
   "id": "8b79772595b6180c",
   "metadata": {
    "ExecuteTime": {
     "end_time": "2025-06-13T07:34:40.372690Z",
     "start_time": "2025-06-13T07:34:40.368921Z"
    }
   },
   "outputs": [],
   "source": [
    "# 23"
   ]
  },
  {
   "cell_type": "markdown",
   "id": "193d3dd705baa1a1",
   "metadata": {},
   "source": [
    "24.\tGebruik toetsende statistiek en de resultaten van de 20-fold cross validation om te onderzoeken welk model significant beter is."
   ]
  },
  {
   "cell_type": "code",
   "execution_count": 54,
   "id": "3bb5e454af9d889e",
   "metadata": {
    "ExecuteTime": {
     "end_time": "2025-06-13T07:34:40.392790Z",
     "start_time": "2025-06-13T07:34:40.389533Z"
    }
   },
   "outputs": [],
   "source": [
    "# 24"
   ]
  },
  {
   "cell_type": "markdown",
   "id": "f75c5b9022dee18",
   "metadata": {},
   "source": [
    "25.\tSplits de target variabele op in 2 klassen, kies hiervoor een geschikte punt. Codeer de eerste groep als 0 en de tweede groep als 1. Welk model zou je nu kunnen gebruiken en waarom?\n"
   ]
  },
  {
   "cell_type": "code",
   "execution_count": 55,
   "id": "a54234c9d111cc2e",
   "metadata": {
    "ExecuteTime": {
     "end_time": "2025-06-13T07:34:40.430838Z",
     "start_time": "2025-06-13T07:34:40.427006Z"
    }
   },
   "outputs": [],
   "source": [
    "# 25"
   ]
  },
  {
   "cell_type": "markdown",
   "id": "778eb798e0d65ff2",
   "metadata": {},
   "source": [
    "26.\tTrain een nieuw model op de nieuwe target, gebruik hierbij alleen de vijf meest invloedrijke onafhankelijke variabelen die je eerder hebt gekozen. Geef de wiskunde functie van dit model en pas deze toe op jouw eigen situatie (kies 1 groepsgenoot).\n"
   ]
  },
  {
   "cell_type": "code",
   "execution_count": 56,
   "id": "5fc99fbbfa501809",
   "metadata": {
    "ExecuteTime": {
     "end_time": "2025-06-13T07:34:40.465647Z",
     "start_time": "2025-06-13T07:34:40.461487Z"
    }
   },
   "outputs": [],
   "source": [
    "# 26"
   ]
  },
  {
   "cell_type": "markdown",
   "id": "59e834b70a39c195",
   "metadata": {},
   "source": [
    "27.\tSchrijf een conclusie op basis van de twee hoofdvragen van het portfolio (zie kopje ‘Vraagstellingen’)\n"
   ]
  },
  {
   "cell_type": "code",
   "execution_count": 57,
   "id": "a3599af620119e74",
   "metadata": {
    "ExecuteTime": {
     "end_time": "2025-06-13T07:34:40.488097Z",
     "start_time": "2025-06-13T07:34:40.483521Z"
    }
   },
   "outputs": [],
   "source": [
    "# 27"
   ]
  },
  {
   "cell_type": "markdown",
   "id": "2f30e29335c63e96",
   "metadata": {},
   "source": [
    "###"
   ]
  }
 ],
 "metadata": {
  "kernelspec": {
   "display_name": "base",
   "language": "python",
   "name": "python3"
  },
  "language_info": {
   "codemirror_mode": {
    "name": "ipython",
    "version": 3
   },
   "file_extension": ".py",
   "mimetype": "text/x-python",
   "name": "python",
   "nbconvert_exporter": "python",
   "pygments_lexer": "ipython3",
   "version": "3.11.4"
  }
 },
 "nbformat": 4,
 "nbformat_minor": 5
}
